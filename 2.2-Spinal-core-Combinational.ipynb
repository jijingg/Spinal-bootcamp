{
 "cells": [
  {
   "cell_type": "markdown",
   "metadata": {},
   "source": [
    "<a name=\"top\"></a><img src=\"./source/SpinalHDL.png\" alt=\"SpinalHDL based on Scala\" style=\"width:320px;\" />"
   ]
  },
  {
   "cell_type": "markdown",
   "metadata": {},
   "source": [
    "  Before running Spinal HDL code, be sure to load SpinalHDL Libraries  \n",
    "**Note** : This may be a little slow when the first time load, please wait a moment to download Lib from remote.)"
   ]
  },
  {
   "cell_type": "code",
   "execution_count": 1,
   "metadata": {},
   "outputs": [
    {
     "data": {
      "text/plain": [
       "\u001b[36mpath\u001b[39m: \u001b[32mString\u001b[39m = \u001b[32m\"E:\\\\GitHub\\\\SpinalHDL\\\\Spinal-bootcamp/source/load-spinal.sc\"\u001b[39m"
      ]
     },
     "execution_count": 1,
     "metadata": {},
     "output_type": "execute_result"
    }
   ],
   "source": [
    "val path = System.getProperty(\"user.dir\") + \"/source/load-spinal.sc\"\n",
    "interp.load.module(ammonite.ops.Path(java.nio.file.FileSystems.getDefault().getPath(path)))"
   ]
  },
  {
   "cell_type": "markdown",
   "metadata": {},
   "source": [
    "## Assignment\n",
    "- **:=** Standard assignment, equivalent to ‘<=’ in VHDL/Verilog :<br>the last assignment to a variable wins,<br>the value is not updated until the next simulation delta cycle\n",
    "- **\\\\=** Equivalent to := in VHDL and = in Verilog<br>the value is updated instantly\n",
    "- **<>** Automatic connection between 2 signals or two bundles of the same type.<br>Direction is inferred by using signal direction \n",
    "\n",
    "SpinalHDL checks that there are no combinatorial loops (latches) in your design. If one is detected, it raises an error and SpinalHDL will print the path of the loop."
   ]
  },
  {
   "cell_type": "markdown",
   "metadata": {},
   "source": [
    "####  Connection"
   ]
  },
  {
   "cell_type": "code",
   "execution_count": 2,
   "metadata": {},
   "outputs": [
    {
     "name": "stdout",
     "output_type": "stream",
     "text": [
      "[Runtime] SpinalHDL v1.6.4    git head : 598c18959149eb18e5eee5b0aa3eef01ecaa41a1\n",
      "[Runtime] JVM max memory : 8116.0MiB\n",
      "[Runtime] Current date : 2022.03.06 19:45:50\n",
      "[Progress] at 0.000 : Elaborate components\n"
     ]
    },
    {
     "name": "stderr",
     "output_type": "stream",
     "text": [
      "[Thread-0] WARN net.openhft.affinity.Affinity - Windows JNA-based affinity not usable because it failed to load! Reason: java.lang.NoClassDefFoundError: Could not initialize class com.sun.jna.Native\n",
      "\tat net.openhft.affinity.impl.WindowsJNAAffinity$CLibrary.<clinit>(WindowsJNAAffinity.java:140)\n",
      "\tat net.openhft.affinity.impl.WindowsJNAAffinity.getAffinity(WindowsJNAAffinity.java:61)\n",
      "\tat net.openhft.affinity.impl.WindowsJNAAffinity.<clinit>(WindowsJNAAffinity.java:49)\n",
      "\tat net.openhft.affinity.Affinity.isWindowsJNAAffinityUsable(Affinity.java:87)\n",
      "\tat net.openhft.affinity.Affinity.<clinit>(Affinity.java:45)\n",
      "\tat spinal.sim.JvmThread.run(SimManager.scala:46)\n",
      "\n",
      "[Thread-0] INFO net.openhft.affinity.Affinity - Using dummy affinity control implementation\n"
     ]
    },
    {
     "name": "stdout",
     "output_type": "stream",
     "text": [
      "[Progress] at 0.136 : Checks and transforms\n",
      "[Progress] at 0.167 : Generate Verilog\n",
      "[Warning] 3 signals were pruned. You can call printPruned on the backend report to get more informations.\n",
      "[Done] at 0.202\n",
      "// Generator : SpinalHDL v1.6.4    git head : 598c18959149eb18e5eee5b0aa3eef01ecaa41a1\n",
      "// Component : Top\n",
      "\n",
      "`timescale 1ns/1ps \n",
      "\n",
      "module Top (\n",
      ");\n",
      "\n",
      "  wire       [3:0]    a;\n",
      "  wire       [3:0]    b;\n",
      "  wire       [3:0]    c;\n",
      "\n",
      "  assign a = 4'b0000;\n",
      "  assign b = a;\n",
      "  assign c = a;\n",
      "\n",
      "endmodule\n",
      "\n"
     ]
    },
    {
     "data": {
      "text/plain": [
       "defined \u001b[32mclass\u001b[39m \u001b[36mTop\u001b[39m"
      ]
     },
     "execution_count": 2,
     "metadata": {},
     "output_type": "execute_result"
    }
   ],
   "source": [
    "class Top extends Component{\n",
    " val a,b,c = UInt(4 bits)\n",
    " a := 0\n",
    " b := a\n",
    " c := a\n",
    "}\n",
    "showRtl(new Top)"
   ]
  },
  {
   "cell_type": "code",
   "execution_count": 3,
   "metadata": {},
   "outputs": [
    {
     "name": "stdout",
     "output_type": "stream",
     "text": [
      "[Runtime] SpinalHDL v1.6.4    git head : 598c18959149eb18e5eee5b0aa3eef01ecaa41a1\n",
      "[Runtime] JVM max memory : 8116.0MiB\n",
      "[Runtime] Current date : 2022.03.06 19:46:19\n",
      "[Progress] at 29.192 : Elaborate components\n",
      "[Progress] at 29.201 : Checks and transforms\n",
      "[Progress] at 29.209 : Generate Verilog\n",
      "[Warning] 4 signals were pruned. You can call printPruned on the backend report to get more informations.\n",
      "[Done] at 29.229\n",
      "// Generator : SpinalHDL v1.6.4    git head : 598c18959149eb18e5eee5b0aa3eef01ecaa41a1\n",
      "// Component : Top\n",
      "\n",
      "`timescale 1ns/1ps \n",
      "\n",
      "module Top (\n",
      ");\n",
      "\n",
      "  reg        [3:0]    x_1;\n",
      "  wire       [3:0]    x;\n",
      "  wire       [3:0]    y;\n",
      "  wire       [3:0]    z;\n",
      "\n",
      "  always @(*) begin\n",
      "    x_1 = x;\n",
      "    x_1 = (x + 4'b0001);\n",
      "  end\n",
      "\n",
      "  assign x = 4'b0000;\n",
      "  assign y = x;\n",
      "  assign z = x_1;\n",
      "\n",
      "endmodule\n",
      "\n"
     ]
    },
    {
     "data": {
      "text/plain": [
       "defined \u001b[32mclass\u001b[39m \u001b[36mTop\u001b[39m"
      ]
     },
     "execution_count": 3,
     "metadata": {},
     "output_type": "execute_result"
    }
   ],
   "source": [
    "class Top extends Component{\n",
    "  var x = UInt(4 bits)\n",
    "  val y,z = UInt(4 bits)\n",
    "  x := 0\n",
    "  y := x      //y read x with the value 0\n",
    "  x \\= x + 1\n",
    "  z := x      //z read x with the value 1\n",
    "}\n",
    "showRtl(new Top)"
   ]
  },
  {
   "cell_type": "markdown",
   "metadata": {},
   "source": [
    "#### declare data type"
   ]
  },
  {
   "cell_type": "code",
   "execution_count": 4,
   "metadata": {
    "scrolled": true
   },
   "outputs": [
    {
     "name": "stdout",
     "output_type": "stream",
     "text": [
      "[Runtime] SpinalHDL v1.6.4    git head : 598c18959149eb18e5eee5b0aa3eef01ecaa41a1\n",
      "[Runtime] JVM max memory : 8116.0MiB\n",
      "[Runtime] Current date : 2022.03.06 19:56:59\n",
      "[Progress] at 668.574 : Elaborate components\n",
      "[Progress] at 668.588 : Checks and transforms\n",
      "[Progress] at 668.613 : Generate Verilog\n",
      "[Warning] 3 signals were pruned. You can call printPruned on the backend report to get more informations.\n",
      "[Done] at 668.620\n",
      "// Generator : SpinalHDL v1.6.4    git head : 598c18959149eb18e5eee5b0aa3eef01ecaa41a1\n",
      "// Component : Top\n",
      "\n",
      "`timescale 1ns/1ps \n",
      "\n",
      "module Top (\n",
      "  input               clk,\n",
      "  input               reset\n",
      ");\n",
      "\n",
      "  wire       [3:0]    a;\n",
      "  reg        [3:0]    b;\n",
      "  wire       [3:0]    c;\n",
      "\n",
      "  assign c = 4'b0000;\n",
      "\n",
      "endmodule\n",
      "\n"
     ]
    },
    {
     "data": {
      "text/plain": [
       "defined \u001b[32mclass\u001b[39m \u001b[36mTop\u001b[39m"
      ]
     },
     "execution_count": 4,
     "metadata": {},
     "output_type": "execute_result"
    }
   ],
   "source": [
    "class Top extends Component{\n",
    "val a = UInt(4 bits) //Define a combinatorial signal\n",
    "val b = Reg(UInt(4 bits)) //Define a registered signal\n",
    "val c = Reg(UInt(4 bits)) init(0) //Define a registered signal which is set to 0 when a reset occurs\n",
    "}\n",
    "showRtl(new Top)"
   ]
  },
  {
   "cell_type": "markdown",
   "metadata": {},
   "source": [
    "#### width match check"
   ]
  },
  {
   "cell_type": "code",
   "execution_count": 5,
   "metadata": {},
   "outputs": [
    {
     "name": "stdout",
     "output_type": "stream",
     "text": [
      "[Runtime] SpinalHDL v1.6.4    git head : 598c18959149eb18e5eee5b0aa3eef01ecaa41a1\n",
      "[Runtime] JVM max memory : 8116.0MiB\n",
      "[Runtime] Current date : 2022.03.06 19:59:06\n",
      "[Progress] at 795.682 : Elaborate components\n",
      "[Progress] at 795.691 : Checks and transforms\n",
      "[Progress] at 795.693 : Generate Verilog\n",
      "[Done] at 795.699\n",
      "// Generator : SpinalHDL v1.6.4    git head : 598c18959149eb18e5eee5b0aa3eef01ecaa41a1\n",
      "// Component : Top\n",
      "\n",
      "`timescale 1ns/1ps \n",
      "\n",
      "module Top (\n",
      "  input      [9:0]    x,\n",
      "  output     [7:0]    y,\n",
      "  output     [3:0]    z,\n",
      "  output     [11:0]   z1,\n",
      "  input      [7:0]    a,\n",
      "  output     [15:0]   b\n",
      ");\n",
      "\n",
      "\n",
      "  assign y = x[7:0];\n",
      "  assign z = x[3:0];\n",
      "  assign z1 = {2'd0, x};\n",
      "  assign b = {{8{a[7]}}, a};\n",
      "\n",
      "endmodule\n",
      "\n"
     ]
    },
    {
     "data": {
      "text/plain": [
       "defined \u001b[32mclass\u001b[39m \u001b[36mTop\u001b[39m"
      ]
     },
     "execution_count": 5,
     "metadata": {},
     "output_type": "execute_result"
    }
   ],
   "source": [
    "class Top extends Component{\n",
    "    val x = in UInt(10 bits)\n",
    "    val y = out UInt(8 bits)\n",
    "    val z,z1 = out UInt()\n",
    "    y := x.resized\n",
    "    z := x.resize(4)\n",
    "    z1 := x.resize(12)\n",
    "    \n",
    "    val a = in SInt(8 bits)\n",
    "    val b = out SInt(16 bits)\n",
    "    b := a.resized\n",
    "}\n",
    "showRtl(new Top)"
   ]
  },
  {
   "cell_type": "markdown",
   "metadata": {},
   "source": [
    "#### constant assigment"
   ]
  },
  {
   "cell_type": "code",
   "execution_count": 6,
   "metadata": {},
   "outputs": [
    {
     "name": "stdout",
     "output_type": "stream",
     "text": [
      "[Runtime] SpinalHDL v1.6.4    git head : 598c18959149eb18e5eee5b0aa3eef01ecaa41a1\n",
      "[Runtime] JVM max memory : 8116.0MiB\n",
      "[Runtime] Current date : 2022.03.06 19:59:25\n",
      "[Progress] at 815.020 : Elaborate components\n",
      "[Progress] at 815.025 : Checks and transforms\n",
      "[Progress] at 815.028 : Generate Verilog\n",
      "[Done] at 815.045\n",
      "// Generator : SpinalHDL v1.6.4    git head : 598c18959149eb18e5eee5b0aa3eef01ecaa41a1\n",
      "// Component : Top\n",
      "\n",
      "`timescale 1ns/1ps \n",
      "\n",
      "module Top (\n",
      "  output     [7:0]    y,\n",
      "  output     [7:0]    z,\n",
      "  output     [7:0]    a,\n",
      "  output     [7:0]    b\n",
      ");\n",
      "\n",
      "\n",
      "  assign y = 8'h03;\n",
      "  assign z = 8'h03;\n",
      "  assign a = 8'hfd;\n",
      "  assign b = 8'hfd;\n",
      "\n",
      "endmodule\n",
      "\n"
     ]
    },
    {
     "data": {
      "text/plain": [
       "defined \u001b[32mclass\u001b[39m \u001b[36mTop\u001b[39m"
      ]
     },
     "execution_count": 6,
     "metadata": {},
     "output_type": "execute_result"
    }
   ],
   "source": [
    "class Top extends Component{\n",
    "    val y,z = out UInt(8 bits)\n",
    "    val a,b = out SInt(8 bits)\n",
    "    y := U(3)\n",
    "    z := 3  \n",
    "    a := S(-3)\n",
    "    b := -3\n",
    "}\n",
    "showRtl(new Top)"
   ]
  },
  {
   "cell_type": "markdown",
   "metadata": {},
   "source": [
    "## Branch(When/Switch/Mux)"
   ]
  },
  {
   "cell_type": "markdown",
   "metadata": {},
   "source": [
    "#### conditional branch"
   ]
  },
  {
   "cell_type": "code",
   "execution_count": 7,
   "metadata": {},
   "outputs": [
    {
     "name": "stdout",
     "output_type": "stream",
     "text": [
      "[Runtime] SpinalHDL v1.6.4    git head : 598c18959149eb18e5eee5b0aa3eef01ecaa41a1\n",
      "[Runtime] JVM max memory : 8116.0MiB\n",
      "[Runtime] Current date : 2022.03.06 20:03:15\n",
      "[Progress] at 1044.902 : Elaborate components\n",
      "[Progress] at 1044.910 : Checks and transforms\n",
      "[Progress] at 1044.917 : Generate Verilog\n",
      "[Done] at 1044.920\n",
      "// Generator : SpinalHDL v1.6.4    git head : 598c18959149eb18e5eee5b0aa3eef01ecaa41a1\n",
      "// Component : Top\n",
      "\n",
      "`timescale 1ns/1ps \n",
      "\n",
      "module Top (\n",
      "  input               cond1,\n",
      "  input               cond2,\n",
      "  output reg [7:0]    dout\n",
      ");\n",
      "\n",
      "\n",
      "  always @(*) begin\n",
      "    if(cond1) begin\n",
      "      dout = 8'h0b;\n",
      "    end else begin\n",
      "      if(cond2) begin\n",
      "        dout = 8'h17;\n",
      "      end else begin\n",
      "        dout = 8'h33;\n",
      "      end\n",
      "    end\n",
      "  end\n",
      "\n",
      "\n",
      "endmodule\n",
      "\n"
     ]
    },
    {
     "data": {
      "text/plain": [
       "defined \u001b[32mclass\u001b[39m \u001b[36mTop\u001b[39m"
      ]
     },
     "execution_count": 7,
     "metadata": {},
     "output_type": "execute_result"
    }
   ],
   "source": [
    "//When \n",
    "class Top extends Component{\n",
    "    val cond1,cond2= in Bool()\n",
    "    val dout = out UInt(8 bits)\n",
    "  when(cond1){\n",
    "      dout := 11\n",
    "  //execute when      cond1 is true\n",
    "  }.elsewhen(cond2){\n",
    "      dout := 23\n",
    "  //execute when (not cond1) and cond2\n",
    "  }.otherwise{\n",
    "      dout := 51\n",
    "  //execute when (not cond1) and (not cond2)\n",
    "  }\n",
    "}\n",
    "showRtl(new Top)"
   ]
  },
  {
   "cell_type": "markdown",
   "metadata": {},
   "source": [
    "#### case branch \n",
    "A complete case statement generate by the spinalddl switch  \n",
    "The switch generated in chisel is replaced by if else. Although there is no problem in function, but it is not very good-looking."
   ]
  },
  {
   "cell_type": "code",
   "execution_count": 8,
   "metadata": {
    "scrolled": true
   },
   "outputs": [
    {
     "name": "stdout",
     "output_type": "stream",
     "text": [
      "[Runtime] SpinalHDL v1.6.4    git head : 598c18959149eb18e5eee5b0aa3eef01ecaa41a1\n",
      "[Runtime] JVM max memory : 8116.0MiB\n",
      "[Runtime] Current date : 2022.03.06 20:17:44\n",
      "[Progress] at 1914.285 : Elaborate components\n",
      "[Progress] at 1914.295 : Checks and transforms\n",
      "[Progress] at 1914.305 : Generate Verilog\n",
      "[Done] at 1914.311\n",
      "// Generator : SpinalHDL v1.6.4    git head : 598c18959149eb18e5eee5b0aa3eef01ecaa41a1\n",
      "// Component : Top\n",
      "\n",
      "`timescale 1ns/1ps \n",
      "\n",
      "module Top (\n",
      "  input      [1:0]    x,\n",
      "  output reg [7:0]    dout\n",
      ");\n",
      "\n",
      "\n",
      "  always @(*) begin\n",
      "    case(x)\n",
      "      2'b00 : begin\n",
      "        dout = 8'h0b;\n",
      "      end\n",
      "      2'b01 : begin\n",
      "        dout = 8'h17;\n",
      "      end\n",
      "      default : begin\n",
      "        dout = 8'h33;\n",
      "      end\n",
      "    endcase\n",
      "  end\n",
      "\n",
      "\n",
      "endmodule\n",
      "\n"
     ]
    },
    {
     "data": {
      "text/plain": [
       "defined \u001b[32mclass\u001b[39m \u001b[36mTop\u001b[39m"
      ]
     },
     "execution_count": 8,
     "metadata": {},
     "output_type": "execute_result"
    }
   ],
   "source": [
    "//Switch \n",
    "class Top extends Component{\n",
    " val x = in UInt(2 bits)\n",
    " val dout = out UInt(8 bits)\n",
    " switch(x){\n",
    "  is(0){\n",
    "    //execute when x === value1\n",
    "    dout := 11\n",
    "  }\n",
    "  is(1){\n",
    "    //execute when x === value2\n",
    "    dout := 23\n",
    "  }\n",
    "  default{\n",
    "    //execute if none of precedent condition meet\n",
    "    dout := 51\n",
    "  }\n",
    " }\n",
    "}\n",
    "showRtl(new Top)"
   ]
  },
  {
   "cell_type": "markdown",
   "metadata": {},
   "source": [
    "#### Mux, cond Expression"
   ]
  },
  {
   "cell_type": "code",
   "execution_count": 9,
   "metadata": {},
   "outputs": [
    {
     "name": "stdout",
     "output_type": "stream",
     "text": [
      "[Runtime] SpinalHDL v1.6.4    git head : 598c18959149eb18e5eee5b0aa3eef01ecaa41a1\n",
      "[Runtime] JVM max memory : 8116.0MiB\n",
      "[Runtime] Current date : 2022.03.06 20:27:39\n",
      "[Progress] at 2509.042 : Elaborate components\n",
      "[Progress] at 2509.059 : Checks and transforms\n",
      "[Progress] at 2509.062 : Generate Verilog\n",
      "[Done] at 2509.065\n",
      "// Generator : SpinalHDL v1.6.4    git head : 598c18959149eb18e5eee5b0aa3eef01ecaa41a1\n",
      "// Component : Top\n",
      "\n",
      "`timescale 1ns/1ps \n",
      "\n",
      "module Top (\n",
      "  input               cond,\n",
      "  output     [7:0]    muxOutput,\n",
      "  output     [7:0]    muxOutput2\n",
      ");\n",
      "\n",
      "\n",
      "  assign muxOutput = (cond ? 8'h21 : 8'h33);\n",
      "  assign muxOutput2 = (cond ? 8'h16 : 8'h31);\n",
      "\n",
      "endmodule\n",
      "\n"
     ]
    },
    {
     "data": {
      "text/plain": [
       "defined \u001b[32mclass\u001b[39m \u001b[36mTop\u001b[39m"
      ]
     },
     "execution_count": 9,
     "metadata": {},
     "output_type": "execute_result"
    }
   ],
   "source": [
    "//Mux cond? \n",
    "class Top extends Component{\n",
    "val cond = in Bool()\n",
    "val muxOutput,muxOutput2 = out UInt(8 bits)\n",
    " muxOutput  := Mux(cond, U(33,8 bits), U(51, 8 bits))\n",
    " muxOutput2 := cond ? U(22,8 bits) | U(49, 8 bits)\n",
    "}\n",
    "showRtl(new Top)"
   ]
  },
  {
   "cell_type": "markdown",
   "metadata": {},
   "source": [
    "#### sel.mux Expression"
   ]
  },
  {
   "cell_type": "code",
   "execution_count": 12,
   "metadata": {},
   "outputs": [
    {
     "name": "stdout",
     "output_type": "stream",
     "text": [
      "[Runtime] SpinalHDL v1.6.4    git head : 598c18959149eb18e5eee5b0aa3eef01ecaa41a1\n",
      "[Runtime] JVM max memory : 8116.0MiB\n",
      "[Runtime] Current date : 2022.03.06 20:31:31\n",
      "[Progress] at 2741.426 : Elaborate components\n",
      "[Progress] at 2741.435 : Checks and transforms\n",
      "[Progress] at 2741.439 : Generate Verilog\n",
      "[Warning] 2 signals were pruned. You can call printPruned on the backend report to get more informations.\n",
      "[Done] at 2741.443\n",
      "// Generator : SpinalHDL v1.6.4    git head : 598c18959149eb18e5eee5b0aa3eef01ecaa41a1\n",
      "// Component : Top\n",
      "\n",
      "`timescale 1ns/1ps \n",
      "\n",
      "module Top (\n",
      "  input               io_src0,\n",
      "  input               io_src1\n",
      ");\n",
      "\n",
      "  wire       [1:0]    bitwiseSelect;\n",
      "  reg                 bitwiseResult;\n",
      "\n",
      "  always @(*) begin\n",
      "    case(bitwiseSelect)\n",
      "      2'b00 : begin\n",
      "        bitwiseResult = (io_src0 && io_src1);\n",
      "      end\n",
      "      2'b01 : begin\n",
      "        bitwiseResult = (io_src0 || io_src1);\n",
      "      end\n",
      "      2'b10 : begin\n",
      "        bitwiseResult = (io_src0 ^ io_src1);\n",
      "      end\n",
      "      default : begin\n",
      "        bitwiseResult = io_src0;\n",
      "      end\n",
      "    endcase\n",
      "  end\n",
      "\n",
      "\n",
      "endmodule\n",
      "\n"
     ]
    },
    {
     "data": {
      "text/plain": [
       "defined \u001b[32mclass\u001b[39m \u001b[36mTop\u001b[39m"
      ]
     },
     "execution_count": 12,
     "metadata": {},
     "output_type": "execute_result"
    }
   ],
   "source": [
    "//mux\n",
    "class Top extends Component{\n",
    "    val io = new Bundle{\n",
    "        val src0,src1 = in Bool()\n",
    "    }\n",
    "  val bitwiseSelect = UInt(2 bits)\n",
    "  val bitwiseResult = bitwiseSelect.mux(\n",
    "   0 -> (io.src0 & io.src1),\n",
    "   1 -> (io.src0 | io.src1),\n",
    "   2 -> (io.src0 ^ io.src1),\n",
    "   default -> (io.src0)\n",
    "  )\n",
    "}\n",
    "showRtl(new Top)"
   ]
  },
  {
   "attachments": {
    "image.png": {
     "image/png": "[encoded data removed]"
    }
   },
   "cell_type": "markdown",
   "metadata": {},
   "source": [
    "#### sel.mux expression， subdivideIn function\n",
    "`muxLists(...)` is another bitwise selection which take as input a sequence of tuples.   \n",
    "Below an example of dividing a Bits of 128 bits into 32 bits:\n",
    "![image.png](attachment:image.png)"
   ]
  },
  {
   "cell_type": "code",
   "execution_count": 13,
   "metadata": {},
   "outputs": [
    {
     "name": "stdout",
     "output_type": "stream",
     "text": [
      "[Runtime] SpinalHDL v1.6.4    git head : 598c18959149eb18e5eee5b0aa3eef01ecaa41a1\n",
      "[Runtime] JVM max memory : 8116.0MiB\n",
      "[Runtime] Current date : 2022.03.06 20:31:50\n",
      "[Progress] at 2760.416 : Elaborate components\n",
      "[Progress] at 2760.448 : Checks and transforms\n",
      "[Progress] at 2760.454 : Generate Verilog\n",
      "[Warning] 2 signals were pruned. You can call printPruned on the backend report to get more informations.\n",
      "[Done] at 2760.463\n",
      "// Generator : SpinalHDL v1.6.4    git head : 598c18959149eb18e5eee5b0aa3eef01ecaa41a1\n",
      "// Component : Top\n",
      "\n",
      "`timescale 1ns/1ps \n",
      "\n",
      "module Top (\n",
      "  input      [1:0]    sel,\n",
      "  input      [127:0]  data\n",
      ");\n",
      "\n",
      "  reg        [31:0]   _zz_dataWord2;\n",
      "  reg        [31:0]   dataWord;\n",
      "  wire       [31:0]   dataWord2;\n",
      "\n",
      "  always @(*) begin\n",
      "    case(sel)\n",
      "      2'b00 : _zz_dataWord2 = data[31 : 0];\n",
      "      2'b01 : _zz_dataWord2 = data[63 : 32];\n",
      "      2'b10 : _zz_dataWord2 = data[95 : 64];\n",
      "      default : _zz_dataWord2 = data[127 : 96];\n",
      "    endcase\n",
      "  end\n",
      "\n",
      "  always @(*) begin\n",
      "    case(sel)\n",
      "      2'b00 : begin\n",
      "        dataWord = data[31 : 0];\n",
      "      end\n",
      "      2'b01 : begin\n",
      "        dataWord = data[63 : 32];\n",
      "      end\n",
      "      2'b10 : begin\n",
      "        dataWord = data[95 : 64];\n",
      "      end\n",
      "      default : begin\n",
      "        dataWord = data[127 : 96];\n",
      "      end\n",
      "    endcase\n",
      "  end\n",
      "\n",
      "  assign dataWord2 = _zz_dataWord2;\n",
      "\n",
      "endmodule\n",
      "\n"
     ]
    },
    {
     "data": {
      "text/plain": [
       "defined \u001b[32mclass\u001b[39m \u001b[36mTop\u001b[39m"
      ]
     },
     "execution_count": 13,
     "metadata": {},
     "output_type": "execute_result"
    }
   ],
   "source": [
    "//mux\n",
    "class Top extends Component{\n",
    "  val sel  = in UInt(2 bits)\n",
    "  val data = in Bits(128 bits)\n",
    "  val dataWord = sel.muxList(for(index <- 0 until 4) yield (index, data(index*32+32-1 downto index*32)))\n",
    "  // This example can be written shorter.\n",
    "  val dataWord2 = data.subdivideIn(32 bits)(sel)\n",
    "}\n",
    "showRtl(new Top)"
   ]
  },
  {
   "cell_type": "markdown",
   "metadata": {},
   "source": [
    "## Rules"
   ]
  },
  {
   "cell_type": "code",
   "execution_count": 11,
   "metadata": {},
   "outputs": [
    {
     "name": "stdout",
     "output_type": "stream",
     "text": [
      "[Runtime] SpinalHDL v1.6.4    git head : 598c18959149eb18e5eee5b0aa3eef01ecaa41a1\n",
      "[Runtime] JVM max memory : 8116.0MiB\n",
      "[Runtime] Current date : 2022.03.06 20:30:34\n",
      "[Progress] at 2684.216 : Elaborate components\n",
      "[Progress] at 2684.218 : Checks and transforms\n",
      "[Progress] at 2684.220 : Generate Verilog\n",
      "[Warning] 3 signals were pruned. You can call printPruned on the backend report to get more informations.\n",
      "[Done] at 2684.223\n",
      "// Generator : SpinalHDL v1.6.4    git head : 598c18959149eb18e5eee5b0aa3eef01ecaa41a1\n",
      "// Component : Top\n",
      "\n",
      "`timescale 1ns/1ps \n",
      "\n",
      "module Top (\n",
      ");\n",
      "\n",
      "  wire       [7:0]    a;\n",
      "  wire       [7:0]    b;\n",
      "  wire       [7:0]    c;\n",
      "\n",
      "  assign c = (a + b);\n",
      "  assign b = 8'h02;\n",
      "  assign a = (b + 8'h03);\n",
      "\n",
      "endmodule\n",
      "\n"
     ]
    },
    {
     "data": {
      "text/plain": [
       "defined \u001b[32mclass\u001b[39m \u001b[36mTop\u001b[39m"
      ]
     },
     "execution_count": 11,
     "metadata": {},
     "output_type": "execute_result"
    }
   ],
   "source": [
    "class Top extends Component{\n",
    "val a, b, c = UInt(8 bits) // Define 3 combinatorial signals\n",
    "  c := a + b   // c will be set to 7\n",
    "  b := 2       // b will be set to 2\n",
    "  a := b + 3   // a will be set to 5\n",
    "}\n",
    "showRtl(new Top)"
   ]
  },
  {
   "cell_type": "code",
   "execution_count": 10,
   "metadata": {},
   "outputs": [
    {
     "name": "stdout",
     "output_type": "stream",
     "text": [
      "[Runtime] SpinalHDL v1.6.4    git head : 598c18959149eb18e5eee5b0aa3eef01ecaa41a1\n",
      "[Runtime] JVM max memory : 8116.0MiB\n",
      "[Runtime] Current date : 2022.03.06 20:30:06\n",
      "[Progress] at 2656.145 : Elaborate components\n",
      "[Progress] at 2656.147 : Checks and transforms\n",
      "[Progress] at 2656.150 : Generate Verilog\n",
      "[Warning] 3 signals were pruned. You can call printPruned on the backend report to get more informations.\n",
      "[Done] at 2656.153\n",
      "// Generator : SpinalHDL v1.6.4    git head : 598c18959149eb18e5eee5b0aa3eef01ecaa41a1\n",
      "// Component : Top\n",
      "\n",
      "`timescale 1ns/1ps \n",
      "\n",
      "module Top (\n",
      ");\n",
      "\n",
      "  wire                x;\n",
      "  wire                y;\n",
      "  reg        [7:0]    result;\n",
      "\n",
      "  always @(*) begin\n",
      "    result = 8'h01;\n",
      "    if(x) begin\n",
      "      result = 8'h02;\n",
      "      if(y) begin\n",
      "        result = 8'h03;\n",
      "      end\n",
      "    end\n",
      "  end\n",
      "\n",
      "\n",
      "endmodule\n",
      "\n"
     ]
    },
    {
     "data": {
      "text/plain": [
       "defined \u001b[32mclass\u001b[39m \u001b[36mTop\u001b[39m"
      ]
     },
     "execution_count": 10,
     "metadata": {},
     "output_type": "execute_result"
    }
   ],
   "source": [
    "class Top extends Component{\n",
    "val x, y = Bool             //Define two combinatorial signals\n",
    "val result = UInt(8 bits)   //Define a combinatorial signal\n",
    "\n",
    "result := 1\n",
    "when(x){\n",
    "  result := 2\n",
    "  when(y){\n",
    "    result := 3\n",
    "  }\n",
    "}\n",
    "}\n",
    "showRtl(new Top)"
   ]
  },
  {
   "cell_type": "code",
   "execution_count": 14,
   "metadata": {},
   "outputs": [
    {
     "name": "stdout",
     "output_type": "stream",
     "text": [
      "[Runtime] SpinalHDL v1.6.4    git head : 598c18959149eb18e5eee5b0aa3eef01ecaa41a1\n",
      "[Runtime] JVM max memory : 8116.0MiB\n",
      "[Runtime] Current date : 2022.03.06 20:32:11\n",
      "[Progress] at 2781.283 : Elaborate components\n",
      "[Progress] at 2781.288 : Checks and transforms\n",
      "[Progress] at 2781.293 : Generate Verilog\n",
      "[Warning] 3 signals were pruned. You can call printPruned on the backend report to get more informations.\n",
      "[Done] at 2781.299\n",
      "// Generator : SpinalHDL v1.6.4    git head : 598c18959149eb18e5eee5b0aa3eef01ecaa41a1\n",
      "// Component : Top\n",
      "\n",
      "`timescale 1ns/1ps \n",
      "\n",
      "module Top (\n",
      "  input               clk,\n",
      "  input               reset\n",
      ");\n",
      "\n",
      "  wire                inc;\n",
      "  wire                clear;\n",
      "  reg        [7:0]    counter;\n",
      "\n",
      "  always @(posedge clk) begin\n",
      "    if(inc) begin\n",
      "      counter <= (counter + 8'h01);\n",
      "    end\n",
      "    if(clear) begin\n",
      "      counter <= 8'h0;\n",
      "    end\n",
      "  end\n",
      "\n",
      "\n",
      "endmodule\n",
      "\n"
     ]
    },
    {
     "data": {
      "text/plain": [
       "defined \u001b[32mclass\u001b[39m \u001b[36mTop\u001b[39m"
      ]
     },
     "execution_count": 14,
     "metadata": {},
     "output_type": "execute_result"
    }
   ],
   "source": [
    "class Top extends Component{\n",
    "val inc, clear = Bool            //Define two combinatorial signal/wire\n",
    "val counter = Reg(UInt(8 bits))  //Define a 8 bits register\n",
    "\n",
    "when(inc){\n",
    "  counter := counter + 1\n",
    "}\n",
    "when(clear){\n",
    "  counter := 0    //If inc and clear are True, then this  assignement wins (Last valid assignement rule)\n",
    "}\n",
    "}\n",
    "showRtl(new Top)"
   ]
  },
  {
   "cell_type": "markdown",
   "metadata": {},
   "source": [
    "Package operations as methods improve abstract ability"
   ]
  },
  {
   "cell_type": "code",
   "execution_count": 15,
   "metadata": {},
   "outputs": [
    {
     "name": "stdout",
     "output_type": "stream",
     "text": [
      "[Runtime] SpinalHDL v1.6.4    git head : 598c18959149eb18e5eee5b0aa3eef01ecaa41a1\n",
      "[Runtime] JVM max memory : 8116.0MiB\n",
      "[Runtime] Current date : 2022.03.06 22:56:14\n",
      "[Progress] at 11423.610 : Elaborate components\n",
      "[Progress] at 11423.616 : Checks and transforms\n",
      "[Progress] at 11423.617 : Generate Verilog\n",
      "[Warning] 3 signals were pruned. You can call printPruned on the backend report to get more informations.\n",
      "[Done] at 11423.620\n",
      "// Generator : SpinalHDL v1.6.4    git head : 598c18959149eb18e5eee5b0aa3eef01ecaa41a1\n",
      "// Component : Top\n",
      "\n",
      "`timescale 1ns/1ps \n",
      "\n",
      "module Top (\n",
      "  input               clk,\n",
      "  input               reset\n",
      ");\n",
      "\n",
      "  wire                inc;\n",
      "  wire                clear;\n",
      "  reg        [7:0]    counter;\n",
      "\n",
      "  always @(posedge clk) begin\n",
      "    if(inc) begin\n",
      "      counter <= (counter + 8'h01);\n",
      "    end\n",
      "    if(clear) begin\n",
      "      counter <= 8'h0;\n",
      "    end\n",
      "  end\n",
      "\n",
      "\n",
      "endmodule\n",
      "\n"
     ]
    },
    {
     "data": {
      "text/plain": [
       "defined \u001b[32mclass\u001b[39m \u001b[36mTop\u001b[39m"
      ]
     },
     "execution_count": 15,
     "metadata": {},
     "output_type": "execute_result"
    }
   ],
   "source": [
    "class Top extends Component{\n",
    "    val inc, clear = Bool\n",
    "val counter = Reg(UInt(8 bits))\n",
    "\n",
    "def setCounter(value : UInt): Unit = {\n",
    "  counter := value\n",
    "}\n",
    "\n",
    "when(inc){\n",
    "  setCounter(counter + 1)  // Set counter with counter + 1\n",
    "}\n",
    "when(clear){\n",
    "  counter := 0\n",
    "}\n",
    "}\n",
    "showRtl(new Top)"
   ]
  },
  {
   "cell_type": "markdown",
   "metadata": {},
   "source": [
    "Internal methods can operate on all variables under Component"
   ]
  },
  {
   "cell_type": "code",
   "execution_count": 16,
   "metadata": {},
   "outputs": [
    {
     "name": "stdout",
     "output_type": "stream",
     "text": [
      "[Runtime] SpinalHDL v1.6.4    git head : 598c18959149eb18e5eee5b0aa3eef01ecaa41a1\n",
      "[Runtime] JVM max memory : 8116.0MiB\n",
      "[Runtime] Current date : 2022.03.06 22:56:35\n",
      "[Progress] at 11444.627 : Elaborate components\n",
      "[Progress] at 11444.631 : Checks and transforms\n",
      "[Progress] at 11444.633 : Generate Verilog\n",
      "[Warning] 3 signals were pruned. You can call printPruned on the backend report to get more informations.\n",
      "[Done] at 11444.635\n",
      "// Generator : SpinalHDL v1.6.4    git head : 598c18959149eb18e5eee5b0aa3eef01ecaa41a1\n",
      "// Component : Top\n",
      "\n",
      "`timescale 1ns/1ps \n",
      "\n",
      "module Top (\n",
      "  input               clk,\n",
      "  input               reset\n",
      ");\n",
      "\n",
      "  wire                inc;\n",
      "  wire                clear;\n",
      "  reg        [7:0]    counter;\n",
      "\n",
      "  always @(posedge clk) begin\n",
      "    if(inc) begin\n",
      "      counter <= (counter + 8'h01);\n",
      "    end\n",
      "    if(clear) begin\n",
      "      counter <= 8'h0;\n",
      "    end\n",
      "  end\n",
      "\n",
      "\n",
      "endmodule\n",
      "\n"
     ]
    },
    {
     "data": {
      "text/plain": [
       "defined \u001b[32mclass\u001b[39m \u001b[36mTop\u001b[39m"
      ]
     },
     "execution_count": 16,
     "metadata": {},
     "output_type": "execute_result"
    }
   ],
   "source": [
    "class Top extends Component{\n",
    "val inc, clear = Bool\n",
    "val counter = Reg(UInt(8 bits))\n",
    "\n",
    "def setCounterWhen(cond : Bool,value : UInt): Unit = {\n",
    "  when(cond) {\n",
    "    counter := value\n",
    "  }\n",
    "}\n",
    "\n",
    "setCounterWhen(cond = inc,   value = counter + 1)\n",
    "setCounterWhen(cond = clear, value = 0)\n",
    "}\n",
    "showRtl(new Top)"
   ]
  },
  {
   "cell_type": "markdown",
   "metadata": {},
   "source": [
    "Of course, it can also be package as an independent function, which is passed in as a parameter by the operation object"
   ]
  },
  {
   "cell_type": "code",
   "execution_count": 17,
   "metadata": {},
   "outputs": [
    {
     "name": "stdout",
     "output_type": "stream",
     "text": [
      "[Runtime] SpinalHDL v1.6.4    git head : 598c18959149eb18e5eee5b0aa3eef01ecaa41a1\n",
      "[Runtime] JVM max memory : 8116.0MiB\n",
      "[Runtime] Current date : 2022.03.06 22:57:13\n",
      "[Progress] at 11483.028 : Elaborate components\n",
      "[Progress] at 11483.037 : Checks and transforms\n",
      "[Progress] at 11483.039 : Generate Verilog\n",
      "[Warning] 3 signals were pruned. You can call printPruned on the backend report to get more informations.\n",
      "[Done] at 11483.043\n",
      "// Generator : SpinalHDL v1.6.4    git head : 598c18959149eb18e5eee5b0aa3eef01ecaa41a1\n",
      "// Component : Top\n",
      "\n",
      "`timescale 1ns/1ps \n",
      "\n",
      "module Top (\n",
      "  input               clk,\n",
      "  input               reset\n",
      ");\n",
      "\n",
      "  wire                inc;\n",
      "  wire                clear;\n",
      "  reg        [7:0]    counter;\n",
      "\n",
      "  always @(posedge clk) begin\n",
      "    if(inc) begin\n",
      "      counter <= (counter + 8'h01);\n",
      "    end\n",
      "    if(clear) begin\n",
      "      counter <= 8'h0;\n",
      "    end\n",
      "  end\n",
      "\n",
      "\n",
      "endmodule\n",
      "\n"
     ]
    },
    {
     "data": {
      "text/plain": [
       "defined \u001b[32mclass\u001b[39m \u001b[36mTop\u001b[39m"
      ]
     },
     "execution_count": 17,
     "metadata": {},
     "output_type": "execute_result"
    }
   ],
   "source": [
    "class Top extends Component{\n",
    "val inc, clear = Bool\n",
    "val counter = Reg(UInt(8 bits))\n",
    "\n",
    "def setSomethingWhen(something : UInt,cond : Bool,value : UInt): Unit = {\n",
    "  when(cond) {\n",
    "    something := value\n",
    "  }\n",
    "}\n",
    "\n",
    "setSomethingWhen(something = counter, cond = inc,   value = counter + 1)\n",
    "setSomethingWhen(something = counter, cond = clear, value = 0)\n",
    "}\n",
    "showRtl(new Top)"
   ]
  },
  {
   "cell_type": "code",
   "execution_count": null,
   "metadata": {},
   "outputs": [],
   "source": []
  },
  {
   "cell_type": "code",
   "execution_count": null,
   "metadata": {},
   "outputs": [],
   "source": []
  }
 ],
 "metadata": {
  "kernelspec": {
   "display_name": "Scala",
   "language": "scala",
   "name": "scala"
  },
  "language_info": {
   "codemirror_mode": "text/x-scala",
   "file_extension": ".scala",
   "mimetype": "text/x-scala",
   "name": "scala",
   "nbconvert_exporter": "script",
   "version": "2.12.11"
  },
  "toc": {
   "base_numbering": 1,
   "nav_menu": {},
   "number_sections": true,
   "sideBar": true,
   "skip_h1_title": false,
   "title_cell": "Table of Contents",
   "title_sidebar": "Contents",
   "toc_cell": false,
   "toc_position": {},
   "toc_section_display": true,
   "toc_window_display": false
  }
 },
 "nbformat": 4,
 "nbformat_minor": 2
}
