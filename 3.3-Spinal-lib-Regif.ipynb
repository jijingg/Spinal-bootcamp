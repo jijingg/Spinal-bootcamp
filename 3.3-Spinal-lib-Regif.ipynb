{
 "cells": [
  {
   "cell_type": "markdown",
   "metadata": {},
   "source": [
    "<a name=\"top\"></a><img src=\"./source/SpinalHDL.png\" alt=\"SpinalHDL based on Scala\" style=\"width:320px;\" />"
   ]
  },
  {
   "cell_type": "markdown",
   "metadata": {},
   "source": [
    "  Before running Spinal HDL code, be sure to load SpinalHDL Libraries  \n",
    "**Note** : This may be a little slow when the first time load, please wait a moment to download Lib from remote."
   ]
  },
  {
   "cell_type": "code",
   "execution_count": 1,
   "metadata": {},
   "outputs": [
    {
     "data": {
      "text/plain": [
       "\u001b[36mpath\u001b[39m: \u001b[32mString\u001b[39m = \u001b[32m\"E:\\\\GitHub\\\\SpinalHDL\\\\bak\\\\Spinal-bootcamp/source/load-spinal.sc\"\u001b[39m"
      ]
     },
     "execution_count": 1,
     "metadata": {},
     "output_type": "execute_result"
    }
   ],
   "source": [
    "val path = System.getProperty(\"user.dir\") + \"/source/load-spinal.sc\"\n",
    "interp.load.module(ammonite.ops.Path(java.nio.file.FileSystems.getDefault().getPath(path)))"
   ]
  },
  {
   "cell_type": "markdown",
   "metadata": {},
   "source": [
    "## RegIf(Rigister Bank Solution)\n",
    " **$\\color{#FF3030}{Note}$**  This feature only available on Spinal1.4.1 and higher\n",
    "### Creat Reg"
   ]
  },
  {
   "cell_type": "code",
   "execution_count": 2,
   "metadata": {},
   "outputs": [
    {
     "name": "stdout",
     "output_type": "stream",
     "text": [
      "[Runtime] SpinalHDL v1.6.4    git head : 598c18959149eb18e5eee5b0aa3eef01ecaa41a1\n",
      "[Runtime] JVM max memory : 8112.0MiB\n",
      "[Runtime] Current date : 2022.10.28 16:11:52\n",
      "[Progress] at 0.000 : Elaborate components\n"
     ]
    },
    {
     "name": "stderr",
     "output_type": "stream",
     "text": [
      "[Thread-0] WARN net.openhft.affinity.Affinity - Windows JNA-based affinity not usable because it failed to load! Reason: java.lang.NoClassDefFoundError: Could not initialize class com.sun.jna.Native\n",
      "\tat net.openhft.affinity.impl.WindowsJNAAffinity$CLibrary.<clinit>(WindowsJNAAffinity.java:140)\n",
      "\tat net.openhft.affinity.impl.WindowsJNAAffinity.getAffinity(WindowsJNAAffinity.java:61)\n",
      "\tat net.openhft.affinity.impl.WindowsJNAAffinity.<clinit>(WindowsJNAAffinity.java:49)\n",
      "\tat net.openhft.affinity.Affinity.isWindowsJNAAffinityUsable(Affinity.java:87)\n",
      "\tat net.openhft.affinity.Affinity.<clinit>(Affinity.java:45)\n",
      "\tat spinal.sim.JvmThread.run(SimManager.scala:46)\n",
      "\n",
      "[Thread-0] INFO net.openhft.affinity.Affinity - Using dummy affinity control implementation\n"
     ]
    },
    {
     "name": "stdout",
     "output_type": "stream",
     "text": [
      "[Progress] at 0.184 : Checks and transforms\n",
      "[Progress] at 0.251 : Generate Verilog\n",
      "[Done] at 0.305\n",
      "// Generator : SpinalHDL v1.6.4    git head : 598c18959149eb18e5eee5b0aa3eef01ecaa41a1\n",
      "// Component : RegBankExample\n",
      "\n",
      "`timescale 1ns/1ps \n",
      "\n",
      "module RegBankExample (\n",
      "  input      [15:0]   io_apb_PADDR,\n",
      "  input      [0:0]    io_apb_PSEL,\n",
      "  input               io_apb_PENABLE,\n",
      "  output              io_apb_PREADY,\n",
      "  input               io_apb_PWRITE,\n",
      "  input      [31:0]   io_apb_PWDATA,\n",
      "  output     [31:0]   io_apb_PRDATA,\n",
      "  output              io_apb_PSLVERROR,\n",
      "  input               clk,\n",
      "  input               reset\n",
      ");\n",
      "\n",
      "  reg                 busSlave_readError;\n",
      "  reg        [31:0]   busSlave_readData;\n",
      "  wire                busSlave_askWrite;\n",
      "  wire                busSlave_askRead;\n",
      "  wire                busSlave_doWrite;\n",
      "  wire                busSlave_doRead;\n",
      "\n",
      "  assign io_apb_PREADY = 1'b1;\n",
      "  assign io_apb_PRDATA = busSlave_readData;\n",
      "  assign io_apb_PSLVERROR = busSlave_readError;\n",
      "  assign busSlave_askWrite = (io_apb_PSEL[0] && io_apb_PWRITE);\n",
      "  assign busSlave_askRead = (io_apb_PSEL[0] && (! io_apb_PWRITE));\n",
      "  assign busSlave_doWrite = ((busSlave_askWrite && io_apb_PENABLE) && io_apb_PREADY);\n",
      "  assign busSlave_doRead = ((busSlave_askRead && io_apb_PENABLE) && io_apb_PREADY);\n",
      "  always @(posedge clk or posedge reset) begin\n",
      "    if(reset) begin\n",
      "      busSlave_readError <= 1'b0;\n",
      "      busSlave_readData <= 32'h0;\n",
      "    end else begin\n",
      "      if(busSlave_askRead) begin\n",
      "        case(io_apb_PADDR)\n",
      "          16'h0 : begin\n",
      "          end\n",
      "          16'h0004 : begin\n",
      "          end\n",
      "          16'h0008 : begin\n",
      "          end\n",
      "          16'h0040 : begin\n",
      "          end\n",
      "          16'h0044 : begin\n",
      "          end\n",
      "          default : begin\n",
      "            busSlave_readData <= 32'h0;\n",
      "            busSlave_readError <= 1'b1;\n",
      "          end\n",
      "        endcase\n",
      "      end\n",
      "    end\n",
      "  end\n",
      "\n",
      "\n",
      "endmodule\n",
      "\n"
     ]
    },
    {
     "data": {
      "text/plain": [
       "\u001b[32mimport \u001b[39m\u001b[36mspinal.lib.bus.amba3.apb._\n",
       "\u001b[39m\r\n",
       "\u001b[32mimport \u001b[39m\u001b[36mspinal.lib.bus.regif._\n",
       "\n",
       "\u001b[39m\r\n",
       "defined \u001b[32mclass\u001b[39m \u001b[36mRegBankExample\u001b[39m"
      ]
     },
     "execution_count": 2,
     "metadata": {},
     "output_type": "execute_result"
    }
   ],
   "source": [
    "import spinal.lib.bus.amba3.apb._\n",
    "import spinal.lib.bus.regif._\n",
    "\n",
    "class RegBankExample extends Component{\n",
    "    val io = new Bundle{\n",
    "      val apb = slave(Apb3(Apb3Config(16,32)))\n",
    "    }\n",
    "    val busSlave = BusInterface(io.apb,(0x0000, 100 Byte), 0)\n",
    "    val M_REG0  = busSlave.newReg(doc=\"REG0\")\n",
    "    val M_REG1  = busSlave.newReg(doc=\"REG1\")\n",
    "    val M_REG2  = busSlave.newReg(doc=\"REG2\")\n",
    "\n",
    "    val M_REGn  = busSlave.newRegAt(address=0x40, doc=\"REGn\")\n",
    "    val M_REGn1 = busSlave.newReg(doc=\"REGn1\")\n",
    "  }\n",
    "showRtl(new RegBankExample)"
   ]
  },
  {
   "cell_type": "markdown",
   "metadata": {},
   "source": [
    "**it will automatic generate 3 file**\n",
    "\n",
    "- `./rtl/RegBankExample.v`\n",
    "- `./rtl/RegBankExample.html`, open with web-browser and take a look**\n",
    "- `./rtl/RegBankExample.h`, auto generator c Head file"
   ]
  },
  {
   "cell_type": "markdown",
   "metadata": {},
   "source": [
    "![B](./source/a.gif)"
   ]
  },
  {
   "cell_type": "markdown",
   "metadata": {},
   "source": [
    "### Creat Field\n",
    "\n",
    " register field suport 28 AccessType \n",
    " \n",
    " Most of these come from UVM\n",
    "\n",
    "| AccessType | Description                                                                     | Status |\n",
    "|------------|---------------------------------------------------------------------------------|--------|\n",
    "| RO         | w: no effect, r: no effect                                                      | UVM    |\n",
    "| RW         | w: as-is, r: no effect                                                          | UVM    |\n",
    "| RC         | w: no effect, r: clears all bits                                                | UVM    |\n",
    "| RS         | w: no effect, r: sets all bits                                                  | UVM    |\n",
    "| WRC        | w: as-is, r: clears all bits                                                    | UVM    |\n",
    "| WRS        | w: as-is, r: sets all bits                                                      | UVM    |\n",
    "| WC         | w: clears all bits, r: no effect                                                | UVM    |\n",
    "| WS         | w: sets all bits, r: no effect                                                  | UVM    |\n",
    "| WSRC       | w: sets all bits, r: clears all bits                                            | UVM    |\n",
    "| WCRS       | w: clears all bits, r: sets all bits                                            | UVM    |\n",
    "| W1C        | w: 1/0 clears/no effect on matching bit, r: no effect                           | UVM    |\n",
    "| W1S        | w: 1/0 sets/no effect on matching bit, r: no effect                             | UVM    |\n",
    "| W1T        | w: 1/0 toggles/no effect on matching bit, r: no effect                          | UVM    |\n",
    "| W0C        | w: 1/0 no effect on/clears matching bit, r: no effect                           | UVM    |\n",
    "| W0S        | w: 1/0 no effect on/sets matching bit, r: no effect                             | UVM    |\n",
    "| W0T        | w: 1/0 no effect on/toggles matching bit, r: no effect                          | UVM    |\n",
    "| W1SRC      | w: 1/0 sets/no effect on matching bit, r: clears all bits                       | UVM    |\n",
    "| W1CRS      | w: 1/0 clears/no effect on matching bit, r: sets all bits                       | UVM    |\n",
    "| W0SRC      | w: 1/0 no effect on/sets matching bit, r: clears all bits                       | UVM    |\n",
    "| W0CRS      | w: 1/0 no effect on/clears matching bit, r: sets all bits                       | UVM    |\n",
    "| WO         | w: as-is, r: error                                                              | UVM    |\n",
    "| WOC        | w: clears all bits, r: error                                                    | UVM    |\n",
    "| WOS        | w: sets all bits, r: error                                                      | UVM    |\n",
    "| W1         | w: first one after ~hard~ reset is as-is, other w have no effects, r: no effect | UVM    |\n",
    "| WO1        | w: first one after ~hard~ reset is as-is, other w have no effects, r: error     | UVM    |\n",
    "| NA         | w: reserved, r: reserved                                                        | New    |\n",
    "| W1P        | w: 1/0 pulse/no effect on matching bit, r: no effect                            | New    |\n",
    "| W0P        | w: 0/1 pulse/no effect on matching bit, r: no effect                            | New    |\n",
    "\n",
    "Automatic field allocate"
   ]
  },
  {
   "cell_type": "code",
   "execution_count": null,
   "metadata": {},
   "outputs": [],
   "source": [
    "import spinal.lib.bus.amba3.apb._\n",
    "import spinal.lib.bus.regif._\n",
    "import spinal.lib.bus.regif.AccessType._\n",
    "\n",
    "class RegBankExample extends Component{\n",
    "    val io = new Bundle{\n",
    "      val apb = slave(Apb3(Apb3Config(16,32)))\n",
    "    }\n",
    "  val busSlave = BusInterface(io.apb,(0x0000, 100 Byte), 0)\n",
    "  val M_REG0  = busSlave.newReg(doc=\"REG1\")\n",
    "  val fd0 = M_REG0.field(2 bits, RW, doc= \"fields 0\")\n",
    "  M_REG0.reserved(5 bits)\n",
    "  val fd1 = M_REG0.field(3 bits, RW, doc= \"fields 0\")\n",
    "  val fd2 = M_REG0.field(3 bits, RW, doc= \"fields 0\")\n",
    "  //auto reserved 2 bits\n",
    "  val fd3 = M_REG0.fieldAt(pos=16, 4 bits, RC, doc= \"fields 3\")\n",
    "  //auto reserved 12 bits\n",
    "}\n",
    "showRtl(new RegBankExample)                             "
   ]
  },
  {
   "cell_type": "markdown",
   "metadata": {},
   "source": [
    "![B](./source/b.gif)"
   ]
  },
  {
   "cell_type": "markdown",
   "metadata": {},
   "source": [
    "### confilict detection"
   ]
  },
  {
   "cell_type": "code",
   "execution_count": null,
   "metadata": {},
   "outputs": [],
   "source": [
    "import spinal.lib.bus.amba3.apb._\n",
    "import spinal.lib.bus.regif._\n",
    "import spinal.lib.bus.regif.AccessType._\n",
    "\n",
    "class RegBankExample extends Component{\n",
    "    val io = new Bundle{\n",
    "      val apb = slave(Apb3(Apb3Config(16,32)))\n",
    "    }\n",
    "  val busSlave = BusInterface(io.apb,(0x0000, 100 Byte), 0)\n",
    "  val M_REG1  = busSlave.newReg(doc=\"REG1\")\n",
    "  val r1fd0 = M_REG1.field(16 bits, RW, doc=\"fields 0\")\n",
    "  val r1fd2 = M_REG1.field(16 bits, RW, doc=\"fields 1\")\n",
    "}\n",
    "showRtl(new RegBankExample)   "
   ]
  },
  {
   "cell_type": "code",
   "execution_count": null,
   "metadata": {},
   "outputs": [],
   "source": [
    "import spinal.lib.bus.amba3.apb._\n",
    "import spinal.lib.bus.regif._\n",
    "import spinal.lib.bus.regif.AccessType._\n",
    "\n",
    "class RegBankExample extends Component{\n",
    "    val io = new Bundle{\n",
    "      val apb = slave(Apb3(Apb3Config(16,32)))\n",
    "    }\n",
    "  val busSlave = BusInterface(io.apb,(0x0000, 100 Byte),0 )\n",
    "  val M_REG1  = busSlave.newReg(doc=\"REG1\")\n",
    "  val r1fd0 = M_REG1.field(16 bits, RW, doc=\"fields 0\")\n",
    "  val r1fd2 = M_REG1.fieldAt(pos =16, 2 bits, RW, doc=\"fields 1\")\n",
    "}\n",
    "showRtl(new RegBankExample)   "
   ]
  },
  {
   "cell_type": "markdown",
   "metadata": {},
   "source": [
    "### Document \n",
    "BusInterface will auto generate Register document, default generate HTML type.\n",
    "![B](./source/regif-gen-doc.png)\n",
    "```scala\n",
    "class RegBankExample extends Component{\n",
    "    val io = new Bundle{\n",
    "      apb = Apb3(Apb3Config(16,32))\n",
    "    }\n",
    "   val busSlave = BusInterface(io.apb,(0x0000, 100 Byte)\n",
    "   val M_REG1  = busSlave.newReg(doc=\"REG1\")\n",
    "   ...\n",
    "}\n",
    "```\n",
    "will auto generate RegBankExample.html under rtl dir,\n",
    "you can also generate manully \n",
    "```scala\n",
    "busSlave.document(\"RegIf.html\")\n",
    "```"
   ]
  },
  {
   "cell_type": "markdown",
   "metadata": {},
   "source": [
    "###  Interrupt Example\n",
    "\n",
    "a interrupt Example, there three triggers tx_done,rx_done,frame_end\n",
    "\n",
    "You need manually add interrupt Enable/Mask/Status register interface like this"
   ]
  },
  {
   "cell_type": "code",
   "execution_count": null,
   "metadata": {},
   "outputs": [],
   "source": [
    "class cpInterruptExample extends Component {\n",
    "  val io = new Bundle {\n",
    "    val tx_done, rx_done, frame_end = in Bool()\n",
    "    val interrupt = out Bool()\n",
    "    val apb = slave(Apb3(Apb3Config(16, 32)))\n",
    "  }\n",
    "  val busif = Apb3BusInterface(io.apb, (0x000, 100 Byte))\n",
    "\n",
    "  val M_CP_INT_EN    = busif.newReg(doc=\"cp int enable register\")\n",
    "  val tx_int_en      = M_CP_INT_EN.field(1 bits, RW, doc=\"tx interrupt enable register\")\n",
    "  val rx_int_en      = M_CP_INT_EN.field(1 bits, RW, doc=\"rx interrupt enable register\")\n",
    "  val frame_int_en   = M_CP_INT_EN.field(1 bits, RW, doc=\"frame interrupt enable register\")\n",
    "  val M_CP_INT_MASK  = busif.newReg(doc=\"cp int mask register\")\n",
    "  val tx_int_mask      = M_CP_INT_MASK.field(1 bits, RW, doc=\"tx interrupt mask register\")\n",
    "  val rx_int_mask      = M_CP_INT_MASK.field(1 bits, RW, doc=\"rx interrupt mask register\")\n",
    "  val frame_int_mask   = M_CP_INT_MASK.field(1 bits, RW, doc=\"frame interrupt mask register\")\n",
    "  val M_CP_INT_STATE   = busif.newReg(doc=\"cp int state register\")\n",
    "  val tx_int_state      = M_CP_INT_STATE.field(1 bits, RW, doc=\"tx interrupt state register\")\n",
    "  val rx_int_state      = M_CP_INT_STATE.field(1 bits, RW, doc=\"rx interrupt state register\")\n",
    "  val frame_int_state   = M_CP_INT_STATE.field(1 bits, RW, doc=\"frame interrupt state register\")\n",
    "\n",
    "  when(io.rx_done && rx_int_en(0)){tx_int_state(0).set()}\n",
    "  when(io.tx_done && tx_int_en(0)){tx_int_state(0).set()}\n",
    "  when(io.frame_end && frame_int_en(0)){tx_int_state(0).set()}\n",
    "\n",
    "  io.interrupt := (tx_int_mask(0) && tx_int_state(0)  ||\n",
    "    rx_int_mask(0) && rx_int_state(0) ||\n",
    "    frame_int_mask(0) && frame_int_state(0))\n",
    "}\n",
    "showRtl(new cpInterruptExample)"
   ]
  },
  {
   "cell_type": "markdown",
   "metadata": {},
   "source": [
    "You can find this is a very tedious and repetitive work,   \n",
    "a better way is creat a Factory fucntion by Macros auto complet those work instead manully creat them.\n",
    "```scala\n",
    "io.interrupt := interruptFactory2(busif,\"M_CP\", io.tx_done,io.rx_done,io.frame_end)\n",
    "```\n",
    "![B](./source/regif-gen-int.png)\n",
    "This is much more convenient than manually do that"
   ]
  },
  {
   "cell_type": "code",
   "execution_count": null,
   "metadata": {},
   "outputs": [],
   "source": [
    "class cpInterruptFactoryExample extends Component {\n",
    "  val io = new Bundle {\n",
    "    val tx_done, rx_done, frame_end = in Bool()\n",
    "    val interrupt = out Bool()\n",
    "    val apb = slave(Apb3(Apb3Config(16, 32)))\n",
    "  }\n",
    "  val busif2 = Apb3BusInterface(io.apb, (0x000, 100 Byte))\n",
    "\n",
    "  val tx = io.tx_done\n",
    "  val rx = io.rx_done\n",
    "  val frame = io.frame_end\n",
    "\n",
    "  io.interrupt := InterruptFactory(busif2,\"M_CP\",tx,rx,frame)\n",
    "}\n",
    "showRtl(new cpInterruptFactoryExample)"
   ]
  },
  {
   "cell_type": "markdown",
   "metadata": {},
   "source": [
    "<iframe src=\"./source/InterruptRegIf2.html\"></iframe> "
   ]
  }
 ],
 "metadata": {
  "kernelspec": {
   "display_name": "Scala",
   "language": "scala",
   "name": "scala"
  },
  "language_info": {
   "codemirror_mode": "text/x-scala",
   "file_extension": ".scala",
   "mimetype": "text/x-scala",
   "name": "scala",
   "nbconvert_exporter": "script",
   "version": "2.12.11"
  }
 },
 "nbformat": 4,
 "nbformat_minor": 2
}
