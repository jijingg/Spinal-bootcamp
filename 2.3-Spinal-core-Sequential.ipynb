{
 "cells": [
  {
   "cell_type": "markdown",
   "metadata": {},
   "source": [
    "<a name=\"top\"></a><img src=\"./source/SpinalHDL.png\" alt=\"SpinalHDL based on Scala\" style=\"width:320px;\" />"
   ]
  },
  {
   "cell_type": "markdown",
   "metadata": {},
   "source": [
    "  Before running Spinal HDL code, be sure to load Spinal HDL Libraries  \n",
    "**Note** : This may be a little slow when the first time load, please wait a moment to download Lib from remote.)"
   ]
  },
  {
   "cell_type": "code",
   "execution_count": 1,
   "metadata": {},
   "outputs": [
    {
     "name": "stdout",
     "output_type": "stream",
     "text": [
      "Compiling E:\\GitHub\\SpinalHDL\\bak\\Spinal-bootcamp\\Main.sc"
     ]
    },
    {
     "data": {
      "text/plain": [
       "\u001b[36mpath\u001b[39m: \u001b[32mString\u001b[39m = \u001b[32m\"E:\\\\GitHub\\\\SpinalHDL\\\\bak\\\\Spinal-bootcamp/source/load-spinal.sc\"\u001b[39m"
      ]
     },
     "execution_count": 1,
     "metadata": {},
     "output_type": "execute_result"
    }
   ],
   "source": [
    "val path = System.getProperty(\"user.dir\") + \"/source/load-spinal.sc\"\n",
    "interp.load.module(ammonite.ops.Path(java.nio.file.FileSystems.getDefault().getPath(path)))"
   ]
  },
  {
   "cell_type": "markdown",
   "metadata": {},
   "source": [
    "## Sequential Logic\n"
   ]
  },
  {
   "cell_type": "markdown",
   "metadata": {},
   "source": [
    "There is 4 ways to instantiate a **register**: \n",
    "\n",
    "Syntax | Description\n",
    "-|-\n",
    "Reg(type : Data) |Register of the given type\n",
    "RegInit(resetValue : Data)|Register loaded with the given resetValue when a reset occurs\n",
    "RegNext(nextValue : Data) |Register that samples the given nextValue each cycle\n",
    "RegNextWhen(nextValue : Data, cond : Bool)|Register that samples the given nextValue when a condition occurs"
   ]
  },
  {
   "cell_type": "code",
   "execution_count": 2,
   "metadata": {},
   "outputs": [
    {
     "name": "stdout",
     "output_type": "stream",
     "text": [
      "[Runtime] SpinalHDL v1.6.4    git head : 598c18959149eb18e5eee5b0aa3eef01ecaa41a1\n",
      "[Runtime] JVM max memory : 8112.0MiB\n",
      "[Runtime] Current date : 2022.10.28 16:10:05\n",
      "[Progress] at 0.000 : Elaborate components\n"
     ]
    },
    {
     "name": "stderr",
     "output_type": "stream",
     "text": [
      "[Thread-0] WARN net.openhft.affinity.Affinity - Windows JNA-based affinity not usable because it failed to load! Reason: java.lang.NoClassDefFoundError: Could not initialize class com.sun.jna.Native\n",
      "\tat net.openhft.affinity.impl.WindowsJNAAffinity$CLibrary.<clinit>(WindowsJNAAffinity.java:140)\n",
      "\tat net.openhft.affinity.impl.WindowsJNAAffinity.getAffinity(WindowsJNAAffinity.java:61)\n",
      "\tat net.openhft.affinity.impl.WindowsJNAAffinity.<clinit>(WindowsJNAAffinity.java:49)\n",
      "\tat net.openhft.affinity.Affinity.isWindowsJNAAffinityUsable(Affinity.java:87)\n",
      "\tat net.openhft.affinity.Affinity.<clinit>(Affinity.java:45)\n",
      "\tat spinal.sim.JvmThread.run(SimManager.scala:46)\n",
      "\n",
      "[Thread-0] INFO net.openhft.affinity.Affinity - Using dummy affinity control implementation\n"
     ]
    },
    {
     "name": "stdout",
     "output_type": "stream",
     "text": [
      "[Progress] at 0.157 : Checks and transforms\n",
      "[Progress] at 0.197 : Generate Verilog\n",
      "[Warning] 5 signals were pruned. You can call printPruned on the backend report to get more informations.\n",
      "[Done] at 0.251\n",
      "// Generator : SpinalHDL v1.6.4    git head : 598c18959149eb18e5eee5b0aa3eef01ecaa41a1\n",
      "// Component : Top\n",
      "\n",
      "`timescale 1ns/1ps \n",
      "\n",
      "module Top (\n",
      "  input               cond,\n",
      "  input               clk,\n",
      "  input               reset\n",
      ");\n",
      "\n",
      "  reg        [3:0]    reg1;\n",
      "  reg        [3:0]    reg2;\n",
      "  reg        [3:0]    reg3;\n",
      "  wire                when_cmd1.sc_l12;\n",
      "  reg        [3:0]    reg4;\n",
      "\n",
      "  assign when_cmd1.sc_l12 = (reg2 == 4'b0101);\n",
      "  always @(posedge clk) begin\n",
      "    reg2 <= (reg1 + 4'b0001);\n",
      "    if(cond) begin\n",
      "      reg4 <= reg3;\n",
      "    end\n",
      "  end\n",
      "\n",
      "  always @(posedge clk or posedge reset) begin\n",
      "    if(reset) begin\n",
      "      reg3 <= 4'b0000;\n",
      "    end else begin\n",
      "      reg3 <= reg2;\n",
      "      if(when_cmd1.sc_l12) begin\n",
      "        reg3 <= 4'b1111;\n",
      "      end\n",
      "    end\n",
      "  end\n",
      "\n",
      "\n",
      "endmodule\n",
      "\n"
     ]
    },
    {
     "data": {
      "text/plain": [
       "defined \u001b[32mclass\u001b[39m \u001b[36mTop\u001b[39m"
      ]
     },
     "execution_count": 2,
     "metadata": {},
     "output_type": "execute_result"
    }
   ],
   "source": [
    "class Top extends Component{ \n",
    "val cond = in Bool()\n",
    "//UInt register of 4 bits\n",
    "val reg1 = Reg(UInt(4 bit))\n",
    "\n",
    "//Register that samples reg1 each cycle\n",
    "val reg2 = RegNext(reg1 + 1)\n",
    "\n",
    "//UInt register of 4 bits initialized with 0 when the reset occurs\n",
    "val reg3 = RegInit(U\"0000\")\n",
    "reg3 := reg2\n",
    "when(reg2 === 5){\n",
    "  reg3 := 0xF\n",
    "}\n",
    "\n",
    "//Register that samples reg3 when cond is True\n",
    "val reg4 = RegNextWhen(reg3,cond)\n",
    "}\n",
    "showRtl(new Top)"
   ]
  },
  {
   "attachments": {
    "image.png": {
     "image/png": "[encoded data removed]"
    }
   },
   "cell_type": "markdown",
   "metadata": {},
   "source": [
    "The code above will infer the following logic:\n",
    "![image.png](attachment:image.png)\n",
    "Also, RegNext is an abstraction which is built over the Reg syntax. The two following sequences of code are strictly equivalent:"
   ]
  },
  {
   "cell_type": "code",
   "execution_count": null,
   "metadata": {},
   "outputs": [],
   "source": [
    "class Top extends Component{\n",
    "  //Standard way\n",
    "  val something = Bool\n",
    "  val value = Reg(Bool)\n",
    "  value := something\n",
    "\n",
    "  //Short way\n",
    "  val something1 = Bool\n",
    "  val value1 = RegNext(something)\n",
    "}\n",
    "showRtl(new Top)"
   ]
  },
  {
   "cell_type": "markdown",
   "metadata": {},
   "source": [
    "#### Reset Value\n",
    "In addition to the RegInit(value : Data) syntax which directly creates the register with a reset value, you can also set the reset value by calling the init(value : Data) function on the register.\n",
    "\n",
    "If you have a register containing a Bundle, you can use the init function on each element of the Bundle."
   ]
  },
  {
   "cell_type": "code",
   "execution_count": null,
   "metadata": {},
   "outputs": [],
   "source": [
    "case class ValidRGB() extends Bundle{\n",
    "  val valid = Bool\n",
    "  val r,g,b = UInt(8 bits)\n",
    "}\n",
    "\n",
    "class Top extends Component{\n",
    "  val reg = Reg(ValidRGB())\n",
    "  reg.valid init(False)  //Only the valid of that register bundle will have an reset value.\n",
    "}\n",
    "showRtl(new Top)"
   ]
  },
  {
   "cell_type": "markdown",
   "metadata": {},
   "source": [
    "#### Initialization value for simulation purposes\n",
    "For registers that don’t need a reset value in RTL, but need an initialization value for simulation (to avoid x-propagation), you can ask for an random initialization value by calling the randBoot() function."
   ]
  },
  {
   "cell_type": "code",
   "execution_count": null,
   "metadata": {},
   "outputs": [],
   "source": [
    "class Top extends Component{\n",
    "  val reg1 = Reg(UInt(4 bit)) randBoot()\n",
    "}\n",
    "showRtl(new Top)"
   ]
  },
  {
   "cell_type": "markdown",
   "metadata": {},
   "source": [
    "##  [RAM/ROM](https://spinalhdl.github.io/SpinalDoc-RTD/SpinalHDL/Sequential%20logic/memory.html)\n",
    "To create a memory in SpinalHDL, the Mem class should be used. It allows you to define a memory and add read and write ports to it."
   ]
  },
  {
   "cell_type": "code",
   "execution_count": null,
   "metadata": {},
   "outputs": [],
   "source": [
    "class Top extends Component{\n",
    " val io = new Bundle{\n",
    "        val writeValid = in Bool()\n",
    "        val writeAddress = in UInt(8 bits)\n",
    "        val writeData = in Bits(32 bits)\n",
    "        val readValid = in Bool()\n",
    "        val readAddress = in UInt(8 bits)\n",
    "        val readData = out Bits(32 bits)\n",
    "    }\n",
    " val mem = Mem(Bits(32 bits),wordCount = 256)\n",
    " mem.write(\n",
    "  enable  = io.writeValid,\n",
    "  address = io.writeAddress,\n",
    "  data    = io.writeData\n",
    " )\n",
    "\n",
    " io.readData := mem.readSync(\n",
    "  enable  = io.readValid,\n",
    "  address = io.readAddress\n",
    " )\n",
    " }\n",
    "showRtl(new Top)"
   ]
  },
  {
   "cell_type": "markdown",
   "metadata": {},
   "source": [
    "As for Read under write policy, to use this feature you need to enable the automatic memory blackboxing, because there is no universal VHDL/Verilog language template to infer mixed width ram.\n",
    "#### Blackboxing policy\n",
    "There are multiple policies that you can use to select which memory you want to blackbox and also what to do when the blackboxing is not feasible:\n",
    "\n",
    "Kinds | Description\n",
    "-|-\n",
    "blackboxAll | Blackbox all memory.<br> Throw an error on unblackboxable memory  \n",
    "blackboxAllWhatsYouCan | Blackbox all memory that is blackboxable\n",
    "blackboxRequestedAndUninferable | Blackbox memory specified by the user and memory that is known to be uninferable (mixed width, …). <br>  Throw an error on unblackboxable memory  \n",
    "blackboxOnlyIfRequested | Blackbox memory specified by the user <br>  Throw an error on unblackboxable memory"
   ]
  },
  {
   "cell_type": "code",
   "execution_count": null,
   "metadata": {},
   "outputs": [],
   "source": [
    "SpinalConfig(targetDirectory=\"rtl/\")\n",
    "    .addStandardMemBlackboxing(blackboxAll)\n",
    "    .generateVerilog(new Top)\n",
    "scala.io.Source.fromFile(\"rtl/TopTopLevel.v\").mkString"
   ]
  },
  {
   "cell_type": "markdown",
   "metadata": {},
   "source": [
    "To explicitly set a memory to be blackboxed, you can use its `generateAsBlackBox` function."
   ]
  },
  {
   "cell_type": "code",
   "execution_count": null,
   "metadata": {},
   "outputs": [],
   "source": [
    "import spinal.lib.graphic._\n",
    "class Top extends Component{\n",
    "    val io = new Bundle{\n",
    "        val writeValid = in Bool()\n",
    "        val writeAddress = in UInt(8 bits)\n",
    "        val writeData = in(Rgb(RgbConfig(8,8,8)))\n",
    "        val readValid = in Bool()\n",
    "        val readAddress = in UInt(8 bits)\n",
    "        val readData = out(Rgb(RgbConfig(8,8,8)))\n",
    "    }\n",
    "    \n",
    " val mem = Mem(Rgb(RgbConfig(8,8,8)),1024)\n",
    "    \n",
    " mem.generateAsBlackBox() // explicitly set a memory to be blackboxed\n",
    "   \n",
    " mem.write(\n",
    "  enable  = io.writeValid,\n",
    "  address = io.writeAddress,\n",
    "  data    = io.writeData\n",
    " )\n",
    "\n",
    " io.readData := mem.readSync(\n",
    "  enable  = io.readValid,\n",
    "  address = io.readAddress\n",
    " )\n",
    "}\n",
    "showRtl(new Top)    "
   ]
  },
  {
   "cell_type": "markdown",
   "metadata": {},
   "source": [
    "As you can see, blackboxes have a technology parameter. To set it you can use the setTechnology function on the corresponding memory. There are currently 4 kinds of technogy possible:\n",
    "- auto\n",
    "- ramBlock\n",
    "- distributedLut\n",
    "- registerFile\n",
    "\n",
    "```scala\n",
    "class Top extends Component{\n",
    "  ...\n",
    "  val mem = Mem(Bits(32 bits),wordCount = 256)\n",
    "  mem.setTechnology(tech=ramBlock)\n",
    "  mem.generateAsBlackBox()\n",
    "  ...\n",
    "}\n",
    "```"
   ]
  },
  {
   "cell_type": "code",
   "execution_count": null,
   "metadata": {},
   "outputs": [],
   "source": []
  }
 ],
 "metadata": {
  "kernelspec": {
   "display_name": "Scala",
   "language": "scala",
   "name": "scala"
  },
  "language_info": {
   "codemirror_mode": "text/x-scala",
   "file_extension": ".scala",
   "mimetype": "text/x-scala",
   "name": "scala",
   "nbconvert_exporter": "script",
   "version": "2.12.11"
  }
 },
 "nbformat": 4,
 "nbformat_minor": 2
}
