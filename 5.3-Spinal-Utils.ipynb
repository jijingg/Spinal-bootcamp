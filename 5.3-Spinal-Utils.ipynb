{
 "cells": [
  {
   "cell_type": "markdown",
   "metadata": {},
   "source": [
    "<a name=\"top\"></a><img src=\"source/SpinalHDL.png\" alt=\"SpinalHDL based on Scala\" style=\"width:320px;\" />"
   ]
  },
  {
   "cell_type": "markdown",
   "metadata": {},
   "source": [
    "Before running Spinal HDL code, be sure to load SpinalHDL Libraries  \n",
    "**Note** : This may be a little slow when the first time load, please wait a moment to download Lib from remote.)   "
   ]
  },
  {
   "cell_type": "code",
   "execution_count": 1,
   "metadata": {},
   "outputs": [
    {
     "data": {
      "text/plain": [
       "\u001b[36mpath\u001b[39m: \u001b[32mString\u001b[39m = \u001b[32m\"C:\\\\Users\\\\huangfubiao\\\\Documents\\\\03_tool\\\\SpinalHDL\\\\Spinal-bootcamp/source/load-spinal.sc\"\u001b[39m"
      ]
     },
     "execution_count": 1,
     "metadata": {},
     "output_type": "execute_result"
    }
   ],
   "source": [
    "val path = System.getProperty(\"user.dir\") + \"/source/load-spinal.sc\"\n",
    "interp.load.module(ammonite.ops.Path(java.nio.file.FileSystems.getDefault().getPath(path)))"
   ]
  },
  {
   "cell_type": "markdown",
   "metadata": {},
   "source": [
    "## LattencyAnalysis\n",
    "\n",
    "```scala\n",
    "LatencyAnalysis(dut.io.input, dut.io.output)\n",
    "```"
   ]
  },
  {
   "cell_type": "code",
   "execution_count": 2,
   "metadata": {},
   "outputs": [
    {
     "name": "stdout",
     "output_type": "stream",
     "text": [
      "[Runtime] SpinalHDL v1.6.4    git head : 598c18959149eb18e5eee5b0aa3eef01ecaa41a1\n",
      "[Runtime] JVM max memory : 4028.0MiB\n",
      "[Runtime] Current date : 2022.03.07 13:18:36\n",
      "[Progress] at 0.000 : Elaborate components\n",
      "latency 1\n",
      "latency 2\n",
      "latency 3\n",
      "latency 3\n",
      "[Progress] at 2.871 : Checks and transforms\n",
      "[Progress] at 3.026 : Generate Verilog\n",
      "[Warning] 4 signals were pruned. You can call printPruned on the backend report to get more informations.\n",
      "[Done] at 3.156\n",
      "// Generator : SpinalHDL v1.6.4    git head : 598c18959149eb18e5eee5b0aa3eef01ecaa41a1\n",
      "// Component : T1\n",
      "\n",
      "`timescale 1ns/1ps \n",
      "\n",
      "module T1 (\n",
      "  input      [1:0]    a,\n",
      "  input      [1:0]    b,\n",
      "  input               clk,\n",
      "  input               reset\n",
      ");\n",
      "\n",
      "  wire       [3:0]    _zz_f;\n",
      "  reg        [1:0]    c;\n",
      "  reg        [3:0]    d;\n",
      "  reg        [3:0]    e;\n",
      "  wire       [3:0]    f;\n",
      "\n",
      "  assign _zz_f = {2'd0, b};\n",
      "  assign f = (e + _zz_f);\n",
      "  always @(posedge clk) begin\n",
      "    c <= a;\n",
      "    d <= (c * b);\n",
      "    e <= d;\n",
      "  end\n",
      "\n",
      "\n",
      "endmodule\n",
      "\n"
     ]
    },
    {
     "data": {
      "text/plain": [
       "defined \u001b[32mclass\u001b[39m \u001b[36mT1\u001b[39m"
      ]
     },
     "execution_count": 2,
     "metadata": {},
     "output_type": "execute_result"
    }
   ],
   "source": [
    "class T1 extends Component{\n",
    "   val a,b  = in UInt(2 bits)\n",
    "   val c = RegNext(a)\n",
    "   val d = RegNext(c*b)\n",
    "   val e = RegNext(d)\n",
    "   val f = e + b\n",
    "    \n",
    "println(s\"latency ${LatencyAnalysis(a,c)}\")\n",
    "println(s\"latency ${LatencyAnalysis(a,d)}\")\n",
    "println(s\"latency ${LatencyAnalysis(a,e)}\")\n",
    "println(s\"latency ${LatencyAnalysis(a,f)}\")    \n",
    "}\n",
    "showRtl(new T1)"
   ]
  },
  {
   "cell_type": "markdown",
   "metadata": {},
   "source": [
    "## OneHot/OneHotMask\n",
    "\n",
    "- `OHToUInt(bits)`\n",
    "- `OHMasking.first(bits)` OneHotMask From Lowerest bit\n",
    "- `OHMasking.last(bits)` OneHotMask From Highest bit"
   ]
  },
  {
   "cell_type": "code",
   "execution_count": null,
   "metadata": {},
   "outputs": [],
   "source": [
    "class OneHot(w: Int) extends Component{\n",
    "  val bits   = in Bits(w bits)\n",
    "  val int0   = out(OHToUInt(bits))\n",
    "  val int2   = out(OHToUInt(OHMasking.first(bits)))\n",
    "  val int3   = out(OHToUInt(OHMasking.last(bits)))\n",
    "  val int4   = ~int3\n",
    "  val int7   = U(w-1) - int3\n",
    "}"
   ]
  }
 ],
 "metadata": {
  "kernelspec": {
   "display_name": "Scala",
   "language": "scala",
   "name": "scala"
  },
  "language_info": {
   "codemirror_mode": "text/x-scala",
   "file_extension": ".scala",
   "mimetype": "text/x-scala",
   "name": "scala",
   "nbconvert_exporter": "script",
   "version": "2.12.8"
  },
  "toc": {
   "base_numbering": 1,
   "nav_menu": {},
   "number_sections": true,
   "sideBar": true,
   "skip_h1_title": false,
   "title_cell": "Table of Contents",
   "title_sidebar": "Contents",
   "toc_cell": false,
   "toc_position": {},
   "toc_section_display": true,
   "toc_window_display": false
  }
 },
 "nbformat": 4,
 "nbformat_minor": 2
}
