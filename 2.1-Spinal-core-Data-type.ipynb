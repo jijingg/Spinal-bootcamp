{
 "cells": [
  {
   "cell_type": "markdown",
   "metadata": {},
   "source": [
    "<a name=\"top\"></a><img src=\"source/SpinalHDL.png\" alt=\"SpinalHDL based on Scala\" style=\"width:320px;\" />"
   ]
  },
  {
   "cell_type": "markdown",
   "metadata": {},
   "source": [
    "  Before running Spinal HDL code, be sure to load SpinalHDL Libraries  \n",
    "**Note** : This may be a little slow when the first time load, please wait a moment to download Lib from remote.)"
   ]
  },
  {
   "cell_type": "code",
   "execution_count": 2,
   "metadata": {},
   "outputs": [
    {
     "data": {
      "text/plain": [
       "\u001b[36mpath\u001b[39m: \u001b[32mString\u001b[39m = \u001b[32m\"E:\\\\GitHub\\\\SpinalHDL\\\\Spinal-bootcamp/source/load-spinal.sc\"\u001b[39m"
      ]
     },
     "execution_count": 2,
     "metadata": {},
     "output_type": "execute_result"
    }
   ],
   "source": [
    "val path = System.getProperty(\"user.dir\") + \"/source/load-spinal.sc\"\n",
    "interp.load.module(ammonite.ops.Path(java.nio.file.FileSystems.getDefault().getPath(path)))"
   ]
  },
  {
   "cell_type": "markdown",
   "metadata": {},
   "source": [
    "## Rules\n",
    "\n",
    "- **Spinal never force IO Bundle**\n",
    " ```scala\n",
    " class Top extends Component{\n",
    "   val a = in UInts(8 bits)\n",
    "   val IO = new Bundle{        //IO bundle is not necessary\n",
    "     val b = in UInts(8 bits) \n",
    "   }\n",
    " }\n",
    " ```\n",
    "- **Spinal never force instantiation by Module keywords**\n",
    " ```scala \n",
    "  class Top extends Component{\n",
    "     val cpu = new MyCpu(mycpuconfig) //no need Module(new Mycpu(...))\n",
    "  }\n",
    " ```\n",
    "- **Spinal nerver remove unused named signals**\n",
    "\n",
    "  SpinalHDL left theme to EDA tools, somethimes a named unused signals is convinent for wave debug.  \n",
    "  It will not cause additional problems, EDA tools will optimize it.\n",
    " ```scala \n",
    "  class Top extends Component{\n",
    "     val unused1 = Bits(8 bits)\n",
    "     val unused2 = unsued1\n",
    "  }\n",
    "  ```\n",
    "  but output signal without driving will not allow ,this will cause exception\n",
    "  ```scala \n",
    "  class Top extends Component{\n",
    "     val unassigned = out Bits(8 bits) //not allow, cuase exception\n",
    "  }\n",
    "  ```"
   ]
  },
  {
   "cell_type": "markdown",
   "metadata": {},
   "source": [
    "SpinalHDL will never make any form restrictions， **SpinalHDL emphasize same in essence, not in form**  \n",
    "io signal allow appear anywhere under the scope of component.\n",
    "\n",
    "**So, Why Not:**"
   ]
  },
  {
   "cell_type": "code",
   "execution_count": 2,
   "metadata": {
    "collapsed": true
   },
   "outputs": [
    {
     "name": "stderr",
     "output_type": "stream",
     "text": [
      "cmd2.sc:3: missing argument list for method Bool in trait IODirection\n",
      "Unapplied methods are only converted to functions when a function type is expected.\n",
      "You can make this conversion explicit by writing `Bool _` or `Bool(_)` instead of `Bool`.\n",
      "   out(ram.readWriteSync(in UInt(4 bit),in Bits(4 bit),in Bool,in Bool))\n",
      "                                                          ^cmd2.sc:3: missing argument list for method Bool in trait IODirection\n",
      "Unapplied methods are only converted to functions when a function type is expected.\n",
      "You can make this conversion explicit by writing `Bool _` or `Bool(_)` instead of `Bool`.\n",
      "   out(ram.readWriteSync(in UInt(4 bit),in Bits(4 bit),in Bool,in Bool))\n",
      "                                                                  ^cmd2.sc:4: missing argument list for method Bool in trait IODirection\n",
      "Unapplied methods are only converted to functions when a function type is expected.\n",
      "You can make this conversion explicit by writing `Bool _` or `Bool(_)` instead of `Bool`.\n",
      "   out(ram.readWriteSync(in UInt(4 bit),in Bits(4 bit),in Bool,in Bool))\n",
      "                                                          ^cmd2.sc:4: missing argument list for method Bool in trait IODirection\n",
      "Unapplied methods are only converted to functions when a function type is expected.\n",
      "You can make this conversion explicit by writing `Bool _` or `Bool(_)` instead of `Bool`.\n",
      "   out(ram.readWriteSync(in UInt(4 bit),in Bits(4 bit),in Bool,in Bool))\n",
      "                                                                  ^Compilation Failed"
     ]
    },
    {
     "ename": "",
     "evalue": "",
     "output_type": "error",
     "traceback": [
      "Compilation Failed"
     ]
    }
   ],
   "source": [
    "class WhyNot extends Component{\n",
    "   val ram = Mem(Bits(4 bit),16)\n",
    "   out(ram.readWriteSync(in UInt(4 bit),in Bits(4 bit),in Bool,in Bool))\n",
    "   out(ram.readWriteSync(in UInt(4 bit),in Bits(4 bit),in Bool,in Bool))\n",
    "}\n",
    "showRtl(new WhyNot)"
   ]
  },
  {
   "cell_type": "markdown",
   "metadata": {},
   "source": [
    "## SpinlHDL Data Type\n",
    "The language provides 5 base types and 2 composite types that can be used.\n",
    "\n",
    "Base types: Bool , Bits , UInt for unsigned integers, SInt for signed integers and Enum.\n",
    "\n",
    "Composite types: Bundle and Vec.\n",
    "\n",
    "![image.png](attachment:image.png)\n",
    "\n",
    "Finally, a special type is available for checking equality between a BitVector and a bits constant that contains holes (don’t care values). An example is shown below:\n",
    "```scala\n",
    "val myBits  = Bits(8 bits)\n",
    "val itMatch = myBits === M\"00--10--\" // - don't care value\n",
    "```"
   ]
  },
  {
   "cell_type": "code",
   "execution_count": 3,
   "metadata": {},
   "outputs": [
    {
     "name": "stdout",
     "output_type": "stream",
     "text": [
      "[Runtime] SpinalHDL v1.6.4    git head : 598c18959149eb18e5eee5b0aa3eef01ecaa41a1\n",
      "[Runtime] JVM max memory : 8116.0MiB\n",
      "[Runtime] Current date : 2022.03.05 16:07:54\n",
      "[Progress] at 0.000 : Elaborate components\n"
     ]
    },
    {
     "name": "stderr",
     "output_type": "stream",
     "text": [
      "[Thread-0] WARN net.openhft.affinity.Affinity - Windows JNA-based affinity not usable because it failed to load! Reason: java.lang.NoClassDefFoundError: Could not initialize class com.sun.jna.Native\n",
      "\tat net.openhft.affinity.impl.WindowsJNAAffinity$CLibrary.<clinit>(WindowsJNAAffinity.java:140)\n",
      "\tat net.openhft.affinity.impl.WindowsJNAAffinity.getAffinity(WindowsJNAAffinity.java:61)\n",
      "\tat net.openhft.affinity.impl.WindowsJNAAffinity.<clinit>(WindowsJNAAffinity.java:49)\n",
      "\tat net.openhft.affinity.Affinity.isWindowsJNAAffinityUsable(Affinity.java:87)\n",
      "\tat net.openhft.affinity.Affinity.<clinit>(Affinity.java:45)\n",
      "\tat spinal.sim.JvmThread.run(SimManager.scala:46)\n",
      "\n",
      "[Thread-0] INFO net.openhft.affinity.Affinity - Using dummy affinity control implementation\n"
     ]
    },
    {
     "name": "stdout",
     "output_type": "stream",
     "text": [
      "[Progress] at 0.125 : Checks and transforms\n",
      "[Progress] at 0.170 : Generate Verilog\n",
      "[Warning] 2 signals were pruned. You can call printPruned on the backend report to get more informations.\n",
      "[Done] at 0.203\n",
      "// Generator : SpinalHDL v1.6.4    git head : 598c18959149eb18e5eee5b0aa3eef01ecaa41a1\n",
      "// Component : Top\n",
      "\n",
      "`timescale 1ns/1ps \n",
      "\n",
      "module Top (\n",
      ");\n",
      "\n",
      "  wire       [7:0]    myBits;\n",
      "  wire                itMatch;\n",
      "\n",
      "  assign itMatch = ((myBits & 8'hcc) == 8'h08);\n",
      "\n",
      "endmodule\n",
      "\n"
     ]
    },
    {
     "data": {
      "text/plain": [
       "defined \u001b[32mclass\u001b[39m \u001b[36mTop\u001b[39m"
      ]
     },
     "execution_count": 3,
     "metadata": {},
     "output_type": "execute_result"
    }
   ],
   "source": [
    "class Top extends Component{\n",
    "  val myBits  = Bits(8 bits)\n",
    "  val itMatch = myBits === M\"00--10--\" // - don't care value\n",
    "}\n",
    "showRtl(new Top)"
   ]
  },
  {
   "cell_type": "markdown",
   "metadata": {},
   "source": [
    "## Bool\n",
    "Description\n",
    "The Bool type corresponds to a boolean value (True or False).\n",
    "\n",
    "Declaration：   \n",
    "The syntax to declare a boolean value is as follows: (everything between [] is optional)\n",
    "\n",
    "Syntax | Description |Return\n",
    "-|-|-\n",
    "Bool[()] |  Create a Bool  |Bool\n",
    "True | Create a Bool assigned with true | Bool\n",
    "False | Create a Bool assigned with false |Bool\n",
    "Bool(value: Boolean) | Create a Bool assigned with a Scala Boolean(true, false) | Bool\n"
   ]
  },
  {
   "cell_type": "code",
   "execution_count": null,
   "metadata": {},
   "outputs": [],
   "source": [
    "class Top extends Component{\n",
    "  val myBool_1 = Bool          // Create a Bool\n",
    "  myBool_1    := False         // := is the assignment operator\n",
    "\n",
    "  val myBool_2 = False         // Equivalent to the code above\n",
    "\n",
    "  val myBool_3 = Bool(5 < 12)  // Use a Scala Boolean to create a Bool\n",
    "  val myBool_4 = Bool(\"Spinal\" == \"Scala\")  // Use a Scala Boolean to create a Bool\n",
    "}\n",
    "showRtl(new Top)"
   ]
  },
  {
   "attachments": {
    "image.png": {
     "image/png": "[encoded data removed]"
    }
   },
   "cell_type": "markdown",
   "metadata": {},
   "source": [
    "creat Rise-edge or Fall-edge from level-signal\n",
    "![image.png](attachment:image.png)"
   ]
  },
  {
   "cell_type": "code",
   "execution_count": 14,
   "metadata": {
    "scrolled": true
   },
   "outputs": [
    {
     "name": "stdout",
     "output_type": "stream",
     "text": [
      "[Runtime] SpinalHDL v1.6.4    git head : 598c18959149eb18e5eee5b0aa3eef01ecaa41a1\n",
      "[Runtime] JVM max memory : 8116.0MiB\n",
      "[Runtime] Current date : 2022.03.06 14:27:52\n",
      "[Progress] at 80397.803 : Elaborate components\n",
      "[Progress] at 80397.806 : Checks and transforms\n",
      "[Progress] at 80397.808 : Generate Verilog\n",
      "[Warning] 7 signals were pruned. You can call printPruned on the backend report to get more informations.\n",
      "[Done] at 80397.812\n",
      "// Generator : SpinalHDL v1.6.4    git head : 598c18959149eb18e5eee5b0aa3eef01ecaa41a1\n",
      "// Component : Top\n",
      "\n",
      "`timescale 1ns/1ps \n",
      "\n",
      "module Top (\n",
      "  input               clk,\n",
      "  input               reset\n",
      ");\n",
      "\n",
      "  wire                x;\n",
      "  reg                 x_regNext;\n",
      "  wire                pulse1;\n",
      "  reg                 x_regNext_1;\n",
      "  wire                pulse2;\n",
      "  reg                 x_regNext_2;\n",
      "  wire                pulse3;\n",
      "\n",
      "  assign pulse1 = ((! x) && x_regNext);\n",
      "  assign pulse2 = (x && (! x_regNext_1));\n",
      "  assign pulse3 = (x ^ x_regNext_2);\n",
      "  always @(posedge clk) begin\n",
      "    x_regNext <= x;\n",
      "    x_regNext_1 <= x;\n",
      "    x_regNext_2 <= x;\n",
      "  end\n",
      "\n",
      "\n",
      "endmodule\n",
      "\n"
     ]
    },
    {
     "data": {
      "text/plain": [
       "defined \u001b[32mclass\u001b[39m \u001b[36mTop\u001b[39m"
      ]
     },
     "execution_count": 14,
     "metadata": {},
     "output_type": "execute_result"
    }
   ],
   "source": [
    "class Top extends Component{\n",
    "  val x = Bool          \n",
    "  val pulse1 = x.fall()  \n",
    "  val pulse2 = x.rise()\n",
    "  val pulse3 = x.edge()\n",
    "}\n",
    "showRtl(new Top)"
   ]
  },
  {
   "cell_type": "markdown",
   "metadata": {},
   "source": [
    "More method of Bool (see [Bool](https://spinalhdl.github.io/SpinalDoc-RTD/SpinalHDL/Data%20types/bool.html))\n",
    "\n",
    "  \n",
    "   Operator              | Description                                                   |Return type\n",
    "  -|-|-\n",
    "  x.edge\\[()\\]          | Return True when x changes state                              |Bool\n",
    "  x.edge(initAt: Bool)  | Same as x.edge but with a reset value                         |Bool\n",
    "  x.rise\\[()\\]          | Return True when x was low at the last cycle and is now high  |Bool\n",
    "  x.rise(initAt: Bool)  | Same as x.rise but with a reset value                         |Bool\n",
    "  x.fall\\[()\\]          | Return True when x was high at the last cycle and is now low  |Bool\n",
    "  x.fall(initAt: Bool)  | Same as x.fall but with a reset value                         |Bool\n",
    "  x.edges\\[()\\]         | Return a bundle (rise, fall, toggle)                          |BoolEdges\n",
    "  x.edges(initAt: Bool) | Same as x.edges but with a reset value                        |BoolEdges\n",
    "  x.asBits              | Binary cast to Bits                                           |Bits(w(x) bits)\n",
    "  x.asUInt              | Binary cast to UInt                                           |UInt(w(x) bits)\n",
    "  x.asSInt              | Binary cast to SInt                                           |SInt(w(x) bits)\n",
    "  x.asUInt(bitCount)    | Binary cast to UInt and resize                                |UInt(bitCount bits)\n",
    "  x.asBits(bitCount)    | Binary cast to Bits and resize                                |Bits(bitCount bits)         \n",
    "  x ## y | Concatenate, x->high, y->low | Bits(w(x) + w(y) bits)\n",
    "  !x                 |Logical NOT                |Bool\n",
    "  x && y <br> x&y   |Logical AND                |Bool\n",
    "  x \\|\\|y <br> x\\|y     |Logical OR                 |Bool\n",
    "  x \\^ y             |Logical XOR                |Bool\n",
    "  x.set\\[()\\]        |Set x to True              |\n",
    "  x.clear\\[()\\]      |Set x to False             |\n",
    "  x.setWhen(cond)    |Set x when cond is True    |Bool\n",
    "  x.clearWhen(cond)  |Clear x when cond is True  |Bool\n",
    "  x === y  | Equality    | Bool\n",
    "  x =/= y  | Inequality  | Bool       "
   ]
  },
  {
   "cell_type": "code",
   "execution_count": 5,
   "metadata": {},
   "outputs": [
    {
     "name": "stdout",
     "output_type": "stream",
     "text": [
      "[Runtime] SpinalHDL v1.6.4    git head : 598c18959149eb18e5eee5b0aa3eef01ecaa41a1\n",
      "[Runtime] JVM max memory : 8116.0MiB\n",
      "[Runtime] Current date : 2022.03.05 16:42:48\n",
      "[Progress] at 2093.691 : Elaborate components\n",
      "[Progress] at 2093.707 : Checks and transforms\n",
      "[Progress] at 2093.713 : Generate Verilog\n",
      "[Warning] 4 signals were pruned. You can call printPruned on the backend report to get more informations.\n",
      "[Done] at 2093.717\n",
      "// Generator : SpinalHDL v1.6.4    git head : 598c18959149eb18e5eee5b0aa3eef01ecaa41a1\n",
      "// Component : Top\n",
      "\n",
      "`timescale 1ns/1ps \n",
      "\n",
      "module Top (\n",
      "  input               clk,\n",
      "  input               reset\n",
      ");\n",
      "\n",
      "  wire                x;\n",
      "  reg        [7:0]    y;\n",
      "  reg                 x_regNext;\n",
      "  wire                when_cmd4.sc_l4;\n",
      "\n",
      "  assign when_cmd4.sc_l4 = (x ^ x_regNext);\n",
      "  always @(*) begin\n",
      "    if(when_cmd4.sc_l4) begin\n",
      "      y = 8'hff;\n",
      "    end else begin\n",
      "      y = 8'h0;\n",
      "    end\n",
      "  end\n",
      "\n",
      "  always @(posedge clk) begin\n",
      "    x_regNext <= x;\n",
      "  end\n",
      "\n",
      "\n",
      "endmodule\n",
      "\n"
     ]
    },
    {
     "data": {
      "text/plain": [
       "defined \u001b[32mclass\u001b[39m \u001b[36mTop\u001b[39m"
      ]
     },
     "execution_count": 5,
     "metadata": {},
     "output_type": "execute_result"
    }
   ],
   "source": [
    "class Top extends Component{\n",
    "  val x = Bool          \n",
    "  val y = UInt(8 bits)\n",
    "  when(x.edge){\n",
    "      y.setAll\n",
    "  }.otherwise{\n",
    "      y.clearAll\n",
    "  }\n",
    "}\n",
    "showRtl(new Top)"
   ]
  },
  {
   "cell_type": "markdown",
   "metadata": {},
   "source": [
    "## Bits\n",
    "The Bits type corresponds to a vector of bits that does not convey any arithmetic meaning.\n",
    "The syntax to declare a bit vector is as follows: (everything between [] is optional)\n",
    "\n",
    "  Syntax                                  | Description                                                                   | Return\n",
    "  -|-|-                                                                                                                    \n",
    "  Bits \\[()\\]                             | Create a BitVector, bits count is inferred                                    | Bits\n",
    "  Bits(x bits)                            | Create a BitVector with x bits                                                | Bits\n",
    "  B(value: Int\\[, x bits\\])               | Create a BitVector with x bits assigned with \\'value\\'                        | Bits\n",
    "  B\\\"\\[\\[size\\'\\]base\\]value\\\"            | Create a BitVector assigned with \\'value\\' (Base: \\'h\\', \\'d\\', \\'o\\', \\'b\\') | Bits\n",
    "  B(\\[x bits,\\] `element <element>`, ...) | Create a BitVector assigned with the value specified by elements              | Bits "
   ]
  },
  {
   "cell_type": "code",
   "execution_count": 6,
   "metadata": {},
   "outputs": [
    {
     "name": "stdout",
     "output_type": "stream",
     "text": [
      "[Runtime] SpinalHDL v1.6.4    git head : 598c18959149eb18e5eee5b0aa3eef01ecaa41a1\n",
      "[Runtime] JVM max memory : 8116.0MiB\n",
      "[Runtime] Current date : 2022.03.05 16:45:47\n",
      "[Progress] at 2273.286 : Elaborate components\n",
      "[Progress] at 2273.291 : Checks and transforms\n",
      "[Progress] at 2273.293 : Generate Verilog\n",
      "[Warning] 2 signals were pruned. You can call printPruned on the backend report to get more informations.\n",
      "[Done] at 2273.296\n",
      "// Generator : SpinalHDL v1.6.4    git head : 598c18959149eb18e5eee5b0aa3eef01ecaa41a1\n",
      "// Component : Top\n",
      "\n",
      "`timescale 1ns/1ps \n",
      "\n",
      "module Top (\n",
      ");\n",
      "\n",
      "  wire       [7:0]    x;\n",
      "  wire       [4:0]    y;\n",
      "\n",
      "  assign y = x[6 : 2];\n",
      "\n",
      "endmodule\n",
      "\n"
     ]
    },
    {
     "data": {
      "text/plain": [
       "defined \u001b[32mclass\u001b[39m \u001b[36mTop\u001b[39m"
      ]
     },
     "execution_count": 6,
     "metadata": {},
     "output_type": "execute_result"
    }
   ],
   "source": [
    "class Top extends Component{ \n",
    "  val x = Bits(8 bits)\n",
    "  val y = x(6 downto 2)\n",
    "}\n",
    "showRtl(new Top)"
   ]
  },
  {
   "cell_type": "code",
   "execution_count": 7,
   "metadata": {},
   "outputs": [
    {
     "name": "stdout",
     "output_type": "stream",
     "text": [
      "[Runtime] SpinalHDL v1.6.4    git head : 598c18959149eb18e5eee5b0aa3eef01ecaa41a1\n",
      "[Runtime] JVM max memory : 8116.0MiB\n",
      "[Runtime] Current date : 2022.03.05 16:47:01\n",
      "[Progress] at 2347.117 : Elaborate components\n",
      "[Progress] at 2347.141 : Checks and transforms\n",
      "[Progress] at 2347.148 : Generate Verilog\n",
      "[Warning] 8 signals were pruned. You can call printPruned on the backend report to get more informations.\n",
      "[Done] at 2347.158\n",
      "// Generator : SpinalHDL v1.6.4    git head : 598c18959149eb18e5eee5b0aa3eef01ecaa41a1\n",
      "// Component : Top\n",
      "\n",
      "`timescale 1ns/1ps \n",
      "\n",
      "module Top (\n",
      ");\n",
      "\n",
      "  wire       [7:0]    myBits;\n",
      "  wire       [31:0]   myBits1;\n",
      "  wire       [7:0]    myBits2;\n",
      "  wire       [7:0]    myBits3;\n",
      "  wire       [7:0]    myBits4;\n",
      "  wire       [7:0]    myBits5;\n",
      "  reg        [7:0]    myBits6;\n",
      "  reg        [7:0]    myBits7;\n",
      "  function [7:0] zz_myBits6(input dummy);\n",
      "    begin\n",
      "      zz_myBits6 = 8'h0;\n",
      "      zz_myBits6[7 : 5] = 3'b101;\n",
      "      zz_myBits6[4] = 1'b1;\n",
      "      zz_myBits6[3] = 1'b1;\n",
      "    end\n",
      "  endfunction\n",
      "  wire [7:0] _zz_1;\n",
      "  function [7:0] zz_myBits7(input dummy);\n",
      "    begin\n",
      "      zz_myBits7 = 8'h0;\n",
      "      zz_myBits7[7] = 1'b1;\n",
      "    end\n",
      "  endfunction\n",
      "  wire [7:0] _zz_2;\n",
      "\n",
      "  assign myBits2 = 8'h19;\n",
      "  assign myBits3 = 8'hff;\n",
      "  assign myBits4 = 8'h93;\n",
      "  assign myBits5 = 8'hff;\n",
      "  assign _zz_1 = zz_myBits6(1'b0);\n",
      "  always @(*) myBits6 = _zz_1;\n",
      "  assign _zz_2 = zz_myBits7(1'b0);\n",
      "  always @(*) myBits7 = _zz_2;\n",
      "  assign myBits = 8'h1f;\n",
      "\n",
      "endmodule\n",
      "\n"
     ]
    },
    {
     "data": {
      "text/plain": [
       "defined \u001b[32mclass\u001b[39m \u001b[36mTop\u001b[39m"
      ]
     },
     "execution_count": 7,
     "metadata": {},
     "output_type": "execute_result"
    }
   ],
   "source": [
    "class Top extends Component{ \n",
    "// Declaration\n",
    "val myBits  = Bits()     // the size is inferred\n",
    "val myBits1 = Bits(32 bits)\n",
    "val myBits2 = B(25, 8 bits)\n",
    "val myBits3 = B\"8'xFF\"   // Base could be x,h (base 16)\n",
    "                         //               d   (base 10)\n",
    "                         //               o   (base 8)\n",
    "                         //               b   (base 2)\n",
    "val myBits4 = B\"1001_0011\"  // _ can be used for readability\n",
    "\n",
    "// Element\n",
    "val myBits5 = B(8 bits, default -> True) // \"11111111\"\n",
    "val myBits6 = B(8 bits, (7 downto 5) -> B\"101\", 4 -> true, 3 -> True, default -> false ) // \"10111000\"\n",
    "val myBits7 = Bits(8 bits)\n",
    "myBits7 := (7 -> true, default -> false) // \"10000000\" (For assignement purposes, you can omit the B)\n",
    "myBits  := B(31,8 bits)\n",
    "}\n",
    "showRtl(new Top)"
   ]
  },
  {
   "cell_type": "markdown",
   "metadata": {},
   "source": [
    "More method of Bits (see [Bits](https://spinalhdl.github.io/SpinalDoc-RTD/SpinalHDL/Data%20types/bits.html#)) \n",
    "\n",
    "  Operator                    | Description                              | Return type\n",
    "  -|-|-                                                                                                                    \n",
    "  \\~x                        |Bitwise NOT                               |Bits(w(x) bits)\n",
    "  x & y                       |Bitwise AND                               |Bits(w(xy) bits)\n",
    "  x \\| y                     |Bitwise OR                                |Bits(w(xy) bits)\n",
    "  x \\^ y                     |Bitwise XOR                               |Bits(w(xy) bits)\n",
    "  x.xorR                      |XOR all bits of x                         |Bool\n",
    "  x.orR                       |OR all bits of x                          |Bool\n",
    "  x.andR                      |AND all bits of x                         |Bool\n",
    "  x \\>\\> y                  |Logical shift right, y: Int               |Bits(w(x) - y bits)\n",
    "  x \\>\\> y                  |Logical shift right, y: UInt              |Bits(w(x) bits)\n",
    "  x \\<\\< y                  |Logical shift left, y: Int                |Bits(w(x) + y bits)\n",
    "  x \\<\\< y                  |Logical shift left, y: UInt               |Bits(w(x) + max(y) bits)\n",
    "  x \\|\\>\\> y               |Logical shift right, y: Int/UInt          |Bits(w(x) bits)\n",
    "  x \\|\\<\\< y               |Logical shift left, y: Int/UInt           |Bits(w(x) bits)\n",
    "  x.rotateLeft(y)             |Logical left rotation, y: UInt/Int        |Bits(w(x) bits)\n",
    "  x.rotateRight(y)            |Logical right rotation, y: UInt/Int       |Bits(w(x) bits)\n",
    "  x.clearAll\\[()\\]          |Clear all bits                            |   \n",
    "  x.setAll\\[()\\]            |Set all bits                              |    \n",
    "  x.setAllTo(value: Boolean)  |Set all bits to the given Boolean value   |   \n",
    "  x.setAllTo(value: Bool)     |Set all bits to the given Bool value      |   \n",
    "  x === y   |Equality                    | Bool\n",
    "  x =/= y   |Inequality                  | Bool\n",
    "  x.asBits  | Binary cast to Bits        |Bits(w(x) bits)\n",
    "  x.asUInt  | Binary cast to UInt        |UInt(w(x) bits)\n",
    "  x.asSInt  | Binary cast to SInt        |SInt(w(x) bits)\n",
    "  x.asBools | Cast to an array of Bools  |Vec(Bool, w(x))\n",
    "  B(x: T)   | Cast Data to Bits          | Bits(w(x) bits)\n",
    "  x(y)                       | Readbit, y: Int/UInt                                       | Bool\n",
    "  x(hi,lo)                   | Read bitfield, hi: Int, lo: Int                            | Bits(hi-lo+1 bits)\n",
    "  x(offset,width bits)       | Read bitfield, offset: UInt, width: Int                    | Bits(width bits)\n",
    "  x(`range <range>`)         | Read a range of bit. Ex : myBits(4 downto 2)               | Bits(range bits)\n",
    "  x(y) := z                  | Assign bits, y: Int/UInt                                   | Bool\n",
    "  x(offset, width bits) := z | Assign bitfield, offset: UInt, width: Int                  | Bits(width bits)\n",
    "  x(`range <range>`) := z    | Assign a range of bit. Ex : myBits(4 downto 2) := B\"010\" | Bits(range bits)\n",
    "  x.getWidth               |Return bitcount                                                                | Int\n",
    "  x.range                  |Return the range (x.high downto 0)                                             | Range\n",
    "  x.high                   |Return the upper bound of the type x                                           | Int\n",
    "  x.msb                    |Return the most significant bit                                                | Bool\n",
    "  x.lsb                    |Return the least significant bit                                               | Bool\n",
    "  x \\#\\# y                 |Concatenate, x-\\>high, y-\\>low                                                 | Bits(w(x) + w(y) bits)\n",
    "  x.subdivideIn(y slices)  |Subdivide x in y slices, y: Int                                                | Vec(Bits, y)\n",
    "  x.subdivideIn(y bits)    |Subdivide x in multiple slices of y bits, y: Int                               | Vec(Bits, w(x)/y)\n",
    "  x.resize(y)              |Return a resized copy of x, if enlarged, it is filled with zero, y: Int        | Bits(y bits)\n",
    "  x.resized                |Return a version of x which is allowed to be automatically resized were needed | Bits(w(x) bits)\n",
    "  x.resizeLeft(y)          |Resize by keeping MSB at the same place, y:Int                                 | Bits(y bits)      "
   ]
  },
  {
   "cell_type": "code",
   "execution_count": 10,
   "metadata": {},
   "outputs": [
    {
     "name": "stdout",
     "output_type": "stream",
     "text": [
      "[Runtime] SpinalHDL v1.6.4    git head : 598c18959149eb18e5eee5b0aa3eef01ecaa41a1\n",
      "[Runtime] JVM max memory : 8116.0MiB\n",
      "[Runtime] Current date : 2022.03.05 17:29:54\n",
      "[Progress] at 4919.826 : Elaborate components\n",
      "[Progress] at 4919.836 : Checks and transforms\n",
      "[Progress] at 4919.839 : Generate Verilog\n",
      "[Warning] 8 signals were pruned. You can call printPruned on the backend report to get more informations.\n",
      "[Done] at 4919.842\n",
      "// Generator : SpinalHDL v1.6.4    git head : 598c18959149eb18e5eee5b0aa3eef01ecaa41a1\n",
      "// Component : Top\n",
      "\n",
      "`timescale 1ns/1ps \n",
      "\n",
      "module Top (\n",
      "  input               cond,\n",
      "  input      [7:0]    bits_8bits\n",
      ");\n",
      "\n",
      "  wire       [31:0]   a;\n",
      "  wire       [31:0]   b;\n",
      "  wire       [31:0]   c;\n",
      "  wire                all_1;\n",
      "  wire       [9:0]    bits_10bits;\n",
      "  wire       [7:0]    shift_8bits;\n",
      "  wire       [7:0]    myBits;\n",
      "  reg        [7:0]    d;\n",
      "\n",
      "  assign c = (~ (a & b));\n",
      "  assign all_1 = (&a);\n",
      "  assign bits_10bits = ({2'd0,bits_8bits} <<< 2);\n",
      "  assign shift_8bits = (bits_8bits <<< 2);\n",
      "  assign myBits = {bits_8bits[4 : 0],bits_8bits[7 : 5]};\n",
      "  always @(*) begin\n",
      "    d = 8'h42;\n",
      "    if(cond) begin\n",
      "      d = 8'hff;\n",
      "    end\n",
      "  end\n",
      "\n",
      "\n",
      "endmodule\n",
      "\n"
     ]
    },
    {
     "data": {
      "text/plain": [
       "defined \u001b[32mclass\u001b[39m \u001b[36mTop\u001b[39m"
      ]
     },
     "execution_count": 10,
     "metadata": {},
     "output_type": "execute_result"
    }
   ],
   "source": [
    "class Top extends Component{\n",
    "  val cond       =  in Bool()\n",
    "  val bits_8bits =  in Bits(8 bits)\n",
    "  // Bitwise operator\n",
    "  val a, b, c = Bits(32 bits)\n",
    "  c := ~(a & b) //  Inverse(a AND b)\n",
    "  \n",
    "  val all_1 = a.andR // Check that all bits are equal to 1\n",
    "  \n",
    "  // Logical shift\n",
    "  val bits_10bits = bits_8bits << 2  // shift left (results in 10 bits)\n",
    "  val shift_8bits = bits_8bits |<< 2 // shift left (results in 8 bits)\n",
    "  \n",
    "  // Logical rotation\n",
    "  val myBits = bits_8bits.rotateLeft(3) // left bit rotation\n",
    "  \n",
    "  // Set/clear\n",
    "  val d = B\"8'x42\"\n",
    "  when(cond){\n",
    "    d.setAll() // set all bits to True when cond is True\n",
    "  } \n",
    "}\n",
    "showRtl(new Top)    "
   ]
  },
  {
   "cell_type": "code",
   "execution_count": 9,
   "metadata": {},
   "outputs": [
    {
     "name": "stdout",
     "output_type": "stream",
     "text": [
      "[Runtime] SpinalHDL v1.6.4    git head : 598c18959149eb18e5eee5b0aa3eef01ecaa41a1\n",
      "[Runtime] JVM max memory : 8116.0MiB\n",
      "[Runtime] Current date : 2022.03.05 17:28:31\n",
      "[Progress] at 4836.957 : Elaborate components\n",
      "[Progress] at 4836.969 : Checks and transforms\n",
      "[Progress] at 4836.971 : Generate Verilog\n",
      "[Warning] 10 signals were pruned. You can call printPruned on the backend report to get more informations.\n",
      "[Done] at 4836.974\n",
      "// Generator : SpinalHDL v1.6.4    git head : 598c18959149eb18e5eee5b0aa3eef01ecaa41a1\n",
      "// Component : Top\n",
      "\n",
      "`timescale 1ns/1ps \n",
      "\n",
      "module Top (\n",
      "  input      [7:0]    myBits\n",
      ");\n",
      "\n",
      "  wire       [7:0]    mySInt;\n",
      "  wire                myVec_0;\n",
      "  wire                myVec_1;\n",
      "  wire                myVec_2;\n",
      "  wire                myVec_3;\n",
      "  wire                myVec_4;\n",
      "  wire                myVec_5;\n",
      "  wire                myVec_6;\n",
      "  wire                myVec_7;\n",
      "  wire       [7:0]    myBits2;\n",
      "\n",
      "  assign mySInt = myBits;\n",
      "  assign myVec_0 = myBits[0];\n",
      "  assign myVec_1 = myBits[1];\n",
      "  assign myVec_2 = myBits[2];\n",
      "  assign myVec_3 = myBits[3];\n",
      "  assign myVec_4 = myBits[4];\n",
      "  assign myVec_5 = myBits[5];\n",
      "  assign myVec_6 = myBits[6];\n",
      "  assign myVec_7 = myBits[7];\n",
      "  assign myBits2 = mySInt;\n",
      "\n",
      "endmodule\n",
      "\n"
     ]
    },
    {
     "data": {
      "text/plain": [
       "defined \u001b[32mclass\u001b[39m \u001b[36mTop\u001b[39m"
      ]
     },
     "execution_count": 9,
     "metadata": {},
     "output_type": "execute_result"
    }
   ],
   "source": [
    "class Top extends Component{\n",
    "  val myBits = in Bits(8 bits)\n",
    "  // cast a Bits to SInt\n",
    "  val mySInt = myBits.asSInt\n",
    "\n",
    "  // create a Vector of bool\n",
    "  val myVec = myBits.asBools\n",
    "\n",
    "  // Cast a SInt to Bits\n",
    "  val myBits2 = B(mySInt)\n",
    "}\n",
    "showRtl(new Top)"
   ]
  },
  {
   "cell_type": "markdown",
   "metadata": {},
   "source": [
    "## UInt/SInt\n",
    "The UInt/SInt type corresponds to a vector of bits that can be used for signed/unsigned integer arithmetic.\n",
    "The syntax to declare an integer is as follows: (everything between [] is optional)\n",
    "\n",
    " \n",
    "more UInt/SInt will description at **[2.4-Spinal-core-FixPoint.ipynb](2.4-Spinal-core-FixPoint.ipynb)**"
   ]
  },
  {
   "cell_type": "code",
   "execution_count": 11,
   "metadata": {},
   "outputs": [
    {
     "name": "stdout",
     "output_type": "stream",
     "text": [
      "[Runtime] SpinalHDL v1.6.4    git head : 598c18959149eb18e5eee5b0aa3eef01ecaa41a1\n",
      "[Runtime] JVM max memory : 8116.0MiB\n",
      "[Runtime] Current date : 2022.03.05 17:39:09\n",
      "[Progress] at 5474.552 : Elaborate components\n",
      "[Progress] at 5474.558 : Checks and transforms\n",
      "[Progress] at 5474.563 : Generate Verilog\n",
      "[Warning] 12 signals were pruned. You can call printPruned on the backend report to get more informations.\n",
      "[Done] at 5474.567\n",
      "// Generator : SpinalHDL v1.6.4    git head : 598c18959149eb18e5eee5b0aa3eef01ecaa41a1\n",
      "// Component : Top\n",
      "\n",
      "`timescale 1ns/1ps \n",
      "\n",
      "module Top (\n",
      ");\n",
      "\n",
      "  wire       [7:0]    myUInt;\n",
      "  wire       [7:0]    myUInt1;\n",
      "  wire       [7:0]    myUInt2;\n",
      "  wire       [7:0]    myUInt3;\n",
      "  wire       [7:0]    myUInt4;\n",
      "  wire       [7:0]    myUInt5;\n",
      "  wire       [7:0]    myUInt6;\n",
      "  wire       [7:0]    myUInt7;\n",
      "  reg        [7:0]    myUInt8;\n",
      "  reg        [7:0]    myUInt9;\n",
      "  reg        [7:0]    _zz_myBool0;\n",
      "  wire                myBool0;\n",
      "  wire       [7:0]    _zz_myBool1;\n",
      "  wire                myBool1;\n",
      "  function [7:0] zz__zz_myBool0(input dummy);\n",
      "    begin\n",
      "      zz__zz_myBool0[7] = 1'b1;\n",
      "      zz__zz_myBool0[6 : 0] = 7'h0;\n",
      "    end\n",
      "  endfunction\n",
      "  wire [7:0] _zz_1;\n",
      "  function [7:0] zz_myUInt8(input dummy);\n",
      "    begin\n",
      "      zz_myUInt8 = 8'h0;\n",
      "      zz_myUInt8[7] = 1'b1;\n",
      "    end\n",
      "  endfunction\n",
      "  wire [7:0] _zz_2;\n",
      "  function [7:0] zz_myUInt9(input dummy);\n",
      "    begin\n",
      "      zz_myUInt9 = 8'h0;\n",
      "      zz_myUInt9[4 : 1] = 4'b1111;\n",
      "    end\n",
      "  endfunction\n",
      "  wire [7:0] _zz_3;\n",
      "\n",
      "  assign myUInt = 8'h02;\n",
      "  assign myUInt1 = 8'h02;\n",
      "  assign myUInt2 = 8'h05;\n",
      "  assign myUInt3 = 8'h1a;\n",
      "  assign myUInt4 = 8'h1a;\n",
      "  assign myUInt5 = 8'h02;\n",
      "  assign _zz_1 = zz__zz_myBool0(1'b0);\n",
      "  always @(*) _zz_myBool0 = _zz_1;\n",
      "  assign myBool0 = (myUInt == _zz_myBool0);\n",
      "  assign _zz_myBool1[7 : 0] = 8'hff;\n",
      "  assign myBool1 = (myUInt == _zz_myBool1);\n",
      "  assign myUInt6 = 8'hff;\n",
      "  assign myUInt7[7 : 0] = 8'hff;\n",
      "  assign _zz_2 = zz_myUInt8(1'b0);\n",
      "  always @(*) myUInt8 = _zz_2;\n",
      "  assign _zz_3 = zz_myUInt9(1'b0);\n",
      "  always @(*) myUInt9 = _zz_3;\n",
      "\n",
      "endmodule\n",
      "\n"
     ]
    },
    {
     "data": {
      "text/plain": [
       "defined \u001b[32mclass\u001b[39m \u001b[36mTop\u001b[39m"
      ]
     },
     "execution_count": 11,
     "metadata": {},
     "output_type": "execute_result"
    }
   ],
   "source": [
    "class Top extends Component{\n",
    "  val myUInt,myUInt1,myUInt2,myUInt3,myUInt4,myUInt5,myUInt6,myUInt7,myUInt8,myUInt9 = UInt(8 bits)\n",
    "  myUInt  := U(2,8 bits)\n",
    "  myUInt1 := U(2)\n",
    "  myUInt2 := U\"0000_0101\"  // Base per default is binary => 5\n",
    "  myUInt3 := U\"h1A\"        // Base could be x (base 16)\n",
    "                          //               h (base 16)\n",
    "                          //               d (base 10)\n",
    "                          //               o (base 8)\n",
    "                          //               b (base 2)\n",
    "  myUInt4 := U\"8'h1A\"\n",
    "  myUInt5 := 2             // You can use scala Int as literal value\n",
    "\n",
    "  val myBool0 = myUInt === U(7 -> true,(6 downto 0) -> false)\n",
    "  val myBool1 = myUInt === U(myUInt.range -> true)\n",
    "\n",
    "  // For assignement purposes, you can omit the U/S, which also alow the use of the [default -> ???] feature\n",
    "  myUInt6 := (default -> true)                        //Assign myUInt with \"11111111\"\n",
    "  myUInt7 := (myUInt.range -> true)                   //Assign myUInt with \"11111111\"\n",
    "  myUInt8 := (7 -> true, default -> false)            //Assign myUInt with \"10000000\"\n",
    "  myUInt9 := ((4 downto 1) -> true, default -> false) //Assign myUInt with \"00011110\"\n",
    "}\n",
    "showRtl(new Top)"
   ]
  },
  {
   "cell_type": "code",
   "execution_count": 12,
   "metadata": {},
   "outputs": [
    {
     "name": "stdout",
     "output_type": "stream",
     "text": [
      "[Runtime] SpinalHDL v1.6.4    git head : 598c18959149eb18e5eee5b0aa3eef01ecaa41a1\n",
      "[Runtime] JVM max memory : 8116.0MiB\n",
      "[Runtime] Current date : 2022.03.05 17:58:09\n",
      "[Progress] at 6615.206 : Elaborate components\n",
      "[Progress] at 6615.211 : Checks and transforms\n",
      "[Progress] at 6615.218 : Generate Verilog\n",
      "[Done] at 6615.222\n",
      "// Generator : SpinalHDL v1.6.4    git head : 598c18959149eb18e5eee5b0aa3eef01ecaa41a1\n",
      "// Component : Top\n",
      "\n",
      "`timescale 1ns/1ps \n",
      "\n",
      "module Top (\n",
      "  input      [7:0]    mySInt_1,\n",
      "  input      [7:0]    mySInt_2,\n",
      "  input      [7:0]    myUInt_8bits,\n",
      "  output              myBool0,\n",
      "  output              myBool1\n",
      ");\n",
      "\n",
      "\n",
      "  assign myBool0 = ($signed(mySInt_2) < $signed(mySInt_1));\n",
      "  assign myBool1 = (8'h03 <= myUInt_8bits);\n",
      "\n",
      "endmodule\n",
      "\n"
     ]
    },
    {
     "data": {
      "text/plain": [
       "defined \u001b[32mclass\u001b[39m \u001b[36mTop\u001b[39m"
      ]
     },
     "execution_count": 12,
     "metadata": {},
     "output_type": "execute_result"
    }
   ],
   "source": [
    "class Top extends Component{\n",
    "  val mySInt_1,mySInt_2 = in SInt(8 bits)\n",
    "  val myUInt_8bits = in UInt(8 bits)\n",
    "  val myBool0,myBool1 = out Bool()\n",
    "  // Comparaison between two SInt\n",
    "  myBool0 := mySInt_1 > mySInt_2\n",
    "\n",
    "  // Comparaison between a UInt and a literal\n",
    "  myBool1 := myUInt_8bits >= U(3, 8 bits)\n",
    "\n",
    "  when(myUInt_8bits === 3){\n",
    "  \n",
    "  } \n",
    "}\n",
    "showRtl(new Top)"
   ]
  },
  {
   "cell_type": "markdown",
   "metadata": {},
   "source": [
    "## SpinalEnum\n",
    "The Enumeration type corresponds to a list of named values."
   ]
  },
  {
   "cell_type": "markdown",
   "metadata": {},
   "source": [
    "## Bundle \n",
    "The Bundle is a composite type that defines a group of named signals (of any SpinalHDL basic type) under a single name.\n",
    "\n",
    "A Bundle can be used to model data structures, buses and interfaces.\n",
    "\n",
    "For more information, see **[3.1-Spinal-lib-flow-stream.ipynb](3.1-Spinal-lib-flow-stream.ipynb)**"
   ]
  },
  {
   "cell_type": "code",
   "execution_count": null,
   "metadata": {},
   "outputs": [],
   "source": [
    "case class myBundle extends Bundle {\n",
    "  val bundleItem0 = AnyType\n",
    "  val bundleItem1 = AnyType\n",
    "  val bundleItemN = AnyType\n",
    "}"
   ]
  },
  {
   "cell_type": "markdown",
   "metadata": {},
   "source": [
    "## Vec\n",
    "A Vec is a composite type that defines a group of indexed signals (of any SpinalHDL basic type) under a single name."
   ]
  },
  {
   "cell_type": "code",
   "execution_count": null,
   "metadata": {},
   "outputs": [],
   "source": [
    "class Top extends Component {\n",
    "  // Create a vector of 2 signed integers\n",
    "  val myVecOfSInt = Vec(SInt(8 bits),2)\n",
    "  myVecOfSInt(0) := 2\n",
    "  myVecOfSInt(1) := myVecOfSInt(0) + 3\n",
    "\n",
    "  // Create a vector of 3 different type elements\n",
    "  val myVecOfMixedUInt = Vec(UInt(3 bits), UInt(5 bits), UInt(8 bits))\n",
    "\n",
    "  val x,y,z = UInt(8 bits)\n",
    "  val myVecOf_xyz_ref = Vec(x,y,z)\n",
    "\n",
    "  // Iterate on a vector\n",
    "  for(element <- myVecOf_xyz_ref){\n",
    "    element := 0   //Assign x,y,z with the value 0\n",
    "  }\n",
    "\n",
    "  // Map on vector\n",
    "  myVecOfMixedUInt.map(_ := 0) // assign all element with value 0\n",
    "\n",
    "  // Assign 3 to the first element of the vector\n",
    "  myVecOf_xyz_ref(1).allowOverride := 3\n",
    "}\n",
    "showRtl(new Top)"
   ]
  },
  {
   "attachments": {
    "image.png": {
     "image/png": "[encoded data removed]"
    }
   },
   "cell_type": "markdown",
   "metadata": {},
   "source": [
    "## List/Array in Spinal\n",
    "Many times you need to instantiate multiple DUTs, List/Array may be a good choice to implement that.\n",
    "\n",
    "### A casCadeFilter Example\n",
    "\n",
    "![image.png](attachment:image.png)"
   ]
  },
  {
   "cell_type": "code",
   "execution_count": 13,
   "metadata": {},
   "outputs": [
    {
     "name": "stdout",
     "output_type": "stream",
     "text": [
      "[Runtime] SpinalHDL v1.6.4    git head : 598c18959149eb18e5eee5b0aa3eef01ecaa41a1\n",
      "[Runtime] JVM max memory : 8116.0MiB\n",
      "[Runtime] Current date : 2022.03.06 14:19:17\n",
      "[Progress] at 79883.234 : Elaborate components\n",
      "[Progress] at 79883.272 : Checks and transforms\n",
      "[Progress] at 79883.283 : Generate Verilog\n",
      "[Done] at 79883.308\n",
      "// Generator : SpinalHDL v1.6.4    git head : 598c18959149eb18e5eee5b0aa3eef01ecaa41a1\n",
      "// Component : casCadeFilter\n",
      "\n",
      "`timescale 1ns/1ps \n",
      "\n",
      "module casCadeFilter (\n",
      "  input               fi_valid,\n",
      "  input      [7:0]    fi_payload,\n",
      "  output              fo_valid,\n",
      "  output     [7:0]    fo_payload,\n",
      "  input               clk,\n",
      "  input               reset\n",
      ");\n",
      "\n",
      "  wire                Firs_0_fo_valid;\n",
      "  wire       [7:0]    Firs_0_fo_payload;\n",
      "  wire                Firs_1_fo_valid;\n",
      "  wire       [7:0]    Firs_1_fo_payload;\n",
      "  wire                Firs_2_fo_valid;\n",
      "  wire       [7:0]    Firs_2_fo_payload;\n",
      "  wire                Firs_3_fo_valid;\n",
      "  wire       [7:0]    Firs_3_fo_payload;\n",
      "\n",
      "  FIR Firs_0 (\n",
      "    .fi_valid      (fi_valid                ), //i\n",
      "    .fi_payload    (fi_payload[7:0]         ), //i\n",
      "    .fo_valid      (Firs_0_fo_valid         ), //o\n",
      "    .fo_payload    (Firs_0_fo_payload[7:0]  ), //o\n",
      "    .clk           (clk                     ), //i\n",
      "    .reset         (reset                   )  //i\n",
      "  );\n",
      "  FIR Firs_1 (\n",
      "    .fi_valid      (Firs_0_fo_valid         ), //i\n",
      "    .fi_payload    (Firs_0_fo_payload[7:0]  ), //i\n",
      "    .fo_valid      (Firs_1_fo_valid         ), //o\n",
      "    .fo_payload    (Firs_1_fo_payload[7:0]  ), //o\n",
      "    .clk           (clk                     ), //i\n",
      "    .reset         (reset                   )  //i\n",
      "  );\n",
      "  FIR Firs_2 (\n",
      "    .fi_valid      (Firs_1_fo_valid         ), //i\n",
      "    .fi_payload    (Firs_1_fo_payload[7:0]  ), //i\n",
      "    .fo_valid      (Firs_2_fo_valid         ), //o\n",
      "    .fo_payload    (Firs_2_fo_payload[7:0]  ), //o\n",
      "    .clk           (clk                     ), //i\n",
      "    .reset         (reset                   )  //i\n",
      "  );\n",
      "  FIR Firs_3 (\n",
      "    .fi_valid      (Firs_2_fo_valid         ), //i\n",
      "    .fi_payload    (Firs_2_fo_payload[7:0]  ), //i\n",
      "    .fo_valid      (Firs_3_fo_valid         ), //o\n",
      "    .fo_payload    (Firs_3_fo_payload[7:0]  ), //o\n",
      "    .clk           (clk                     ), //i\n",
      "    .reset         (reset                   )  //i\n",
      "  );\n",
      "  assign fo_valid = Firs_3_fo_valid;\n",
      "  assign fo_payload = Firs_3_fo_payload;\n",
      "\n",
      "endmodule\n",
      "\n",
      "//FIR replaced by FIR\n",
      "\n",
      "//FIR replaced by FIR\n",
      "\n",
      "//FIR replaced by FIR\n",
      "\n",
      "module FIR (\n",
      "  input               fi_valid,\n",
      "  input      [7:0]    fi_payload,\n",
      "  output              fo_valid,\n",
      "  output     [7:0]    fo_payload,\n",
      "  input               clk,\n",
      "  input               reset\n",
      ");\n",
      "\n",
      "  reg                 fi_regNext_valid;\n",
      "  reg        [7:0]    fi_regNext_payload;\n",
      "\n",
      "  assign fo_valid = fi_regNext_valid;\n",
      "  assign fo_payload = fi_regNext_payload;\n",
      "  always @(posedge clk or posedge reset) begin\n",
      "    if(reset) begin\n",
      "      fi_regNext_valid <= 1'b0;\n",
      "    end else begin\n",
      "      fi_regNext_valid <= fi_valid;\n",
      "    end\n",
      "  end\n",
      "\n",
      "  always @(posedge clk) begin\n",
      "    fi_regNext_payload <= fi_payload;\n",
      "  end\n",
      "\n",
      "\n",
      "endmodule\n",
      "\n"
     ]
    },
    {
     "data": {
      "text/plain": [
       "defined \u001b[32mclass\u001b[39m \u001b[36mFIR\u001b[39m\r\n",
       "defined \u001b[32mclass\u001b[39m \u001b[36mcasCadeFilter\u001b[39m"
      ]
     },
     "execution_count": 13,
     "metadata": {},
     "output_type": "execute_result"
    }
   ],
   "source": [
    "class FIR extends Component{\n",
    "    val fi = slave Flow(SInt(8 bits))\n",
    "    val fo = master Flow(SInt(8 bits)) \n",
    "    \n",
    "    fo << fi.stage()\n",
    "    \n",
    "    def -->(that: FIR):FIR = {\n",
    "        this.fo >> that.fi \n",
    "        that\n",
    "    }\n",
    "}\n",
    "\n",
    "class casCadeFilter extends Component{\n",
    "    val fi = slave Flow(SInt(8 bits))\n",
    "    val fo = master Flow(SInt(8 bits))\n",
    "    \n",
    "    val Firs = List.fill(4)(new FIR)\n",
    "    \n",
    "    Firs(0) --> Firs(1) --> Firs(2) --> Firs(3) \n",
    "  //Firs(0).-->(Firs(1)).-->(Firs(2)).-->(Firs(3))  //scala Infix expression excute from left to right \n",
    "    Firs(0).fi << fi\n",
    "    fo << Firs(3).fo   \n",
    "}\n",
    "showRtl(new casCadeFilter)"
   ]
  },
  {
   "cell_type": "markdown",
   "metadata": {},
   "source": [
    "For parametric design, you can't link theme one by one `Firs(0) --> Firs(1) --> ....  --> Firs(n)`. \n",
    "\n",
    "The better way is to use the fold or reduce method to automate them `Firs.reduceLeft(_-->_)`"
   ]
  },
  {
   "cell_type": "code",
   "execution_count": null,
   "metadata": {},
   "outputs": [],
   "source": [
    "class casCadeFilter(firNumbers: Int) extends Component{\n",
    "    val fi = slave Flow(SInt(8 bits))\n",
    "    val fo = master Flow(SInt(8 bits))\n",
    "    \n",
    "    val Firs = List.fill(firNumbers)(new FIR)\n",
    "    \n",
    "    Firs.reduceLeft(_-->_)     //you can also connnect like this \n",
    "    \n",
    "    Firs(0).fi << fi\n",
    "    fo << Firs(firNumbers-1).fo   \n",
    "}\n",
    "showRtl(new casCadeFilter(8))"
   ]
  },
  {
   "cell_type": "markdown",
   "metadata": {},
   "source": [
    "some interesting  method of List/Array\n",
    "\n",
    "- `foldLeft()()`\n",
    "- `reduceLeft()`\n",
    "- `foldRight()()`\n",
    "- `reduceRight()`"
   ]
  },
  {
   "cell_type": "code",
   "execution_count": null,
   "metadata": {},
   "outputs": [],
   "source": [
    "(1 to 10).foldLeft(0)((a,b)=>{println(s\"$a-->$b\");b})"
   ]
  },
  {
   "cell_type": "code",
   "execution_count": null,
   "metadata": {},
   "outputs": [],
   "source": [
    "(1 to 10).reduceLeft((a,b)=>{println(s\"$a-->$b\");b})"
   ]
  },
  {
   "cell_type": "code",
   "execution_count": null,
   "metadata": {},
   "outputs": [],
   "source": [
    "(1 to 10).foldRight(11)((a,b)=>{println(s\"$a-->$b\");a})"
   ]
  },
  {
   "cell_type": "code",
   "execution_count": null,
   "metadata": {},
   "outputs": [],
   "source": [
    "(1 to 10).reduceRight((a,b)=>{println(s\"$a-->$b\");a})"
   ]
  },
  {
   "cell_type": "code",
   "execution_count": null,
   "metadata": {},
   "outputs": [],
   "source": []
  }
 ],
 "metadata": {
  "kernelspec": {
   "display_name": "Scala",
   "language": "scala",
   "name": "scala"
  },
  "language_info": {
   "codemirror_mode": "text/x-scala",
   "file_extension": ".scala",
   "mimetype": "text/x-scala",
   "name": "scala",
   "nbconvert_exporter": "script",
   "version": "2.12.11"
  },
  "toc": {
   "base_numbering": 1,
   "nav_menu": {},
   "number_sections": true,
   "sideBar": true,
   "skip_h1_title": false,
   "title_cell": "Table of Contents",
   "title_sidebar": "Contents",
   "toc_cell": false,
   "toc_position": {},
   "toc_section_display": true,
   "toc_window_display": false
  }
 },
 "nbformat": 4,
 "nbformat_minor": 2
}
