{
 "cells": [
  {
   "cell_type": "markdown",
   "metadata": {},
   "source": [
    "<a name=\"top\"></a><img src=\"source/SpinalHDL.png\" alt=\"SpinalHDL based on Scala\" style=\"width:320px;\" />"
   ]
  },
  {
   "cell_type": "markdown",
   "metadata": {},
   "source": [
    "  Before running Spinal HDL code, be sure to load SpinalHDL Libraries  \n",
    "**Note** : This may be a little slow when the first time load, please wait a moment to download Lib from remote.)"
   ]
  },
  {
   "cell_type": "code",
   "execution_count": 1,
   "metadata": {},
   "outputs": [
    {
     "data": {
      "text/plain": [
       "\u001b[36mpath\u001b[39m: \u001b[32mString\u001b[39m = \u001b[32m\"E:\\\\GitHub\\\\SpinalHDL\\\\Spinal-bootcamp/source/load-spinal.sc\"\u001b[39m"
      ]
     },
     "execution_count": 1,
     "metadata": {},
     "output_type": "execute_result"
    }
   ],
   "source": [
    "val path = System.getProperty(\"user.dir\") + \"/source/load-spinal.sc\"\n",
    "interp.load.module(ammonite.ops.Path(java.nio.file.FileSystems.getDefault().getPath(path)))"
   ]
  },
  {
   "cell_type": "markdown",
   "metadata": {},
   "source": [
    "### Simple Example\n",
    "##### default Clock and Reset"
   ]
  },
  {
   "cell_type": "code",
   "execution_count": null,
   "metadata": {},
   "outputs": [],
   "source": [
    "class Top extends Component{\n",
    "    val a = in Bits(8 bits)\n",
    "    val b = RegNext(a) init 0\n",
    "}\n",
    "showRtl(new Top)"
   ]
  },
  {
   "cell_type": "markdown",
   "metadata": {},
   "source": [
    "##### specific your owen Clock and Reset"
   ]
  },
  {
   "cell_type": "code",
   "execution_count": null,
   "metadata": {},
   "outputs": [],
   "source": [
    "class Top extends Component{\n",
    "    val myclk,myrst = in Bool()\n",
    "    val a = in Bits(8 bits)\n",
    "    val b = out Bits()\n",
    "    new ClockingArea(ClockDomain(myclk,myrst)){\n",
    "      val reg0 = RegNext(a) init 0\n",
    "      b := reg0\n",
    "    }\n",
    "    \n",
    "}\n",
    "showRtl(new Top)"
   ]
  },
  {
   "cell_type": "markdown",
   "metadata": {},
   "source": [
    "##### set Asynchronous Reset with Falling edge"
   ]
  },
  {
   "cell_type": "code",
   "execution_count": null,
   "metadata": {},
   "outputs": [],
   "source": [
    "class Top extends Component{\n",
    "    val myclk,myrst = in Bool()\n",
    "    val a = in Bits(8 bits)\n",
    "    val b = out Bits()\n",
    "    new ClockingArea(ClockDomain(myclk,myrst, config = ClockDomainConfig(\n",
    "      clockEdge        = RISING,\n",
    "      resetKind        = ASYNC,\n",
    "      resetActiveLevel = LOW\n",
    "    ))){\n",
    "      val reg0 = RegNext(a) init 0\n",
    "      b := reg0\n",
    "    }\n",
    "}\n",
    "showRtl(new Top)"
   ]
  },
  {
   "cell_type": "markdown",
   "metadata": {},
   "source": [
    "##### Override the default clock of the sub module"
   ]
  },
  {
   "cell_type": "code",
   "execution_count": null,
   "metadata": {},
   "outputs": [],
   "source": [
    "class SUB extends Component{\n",
    "    val a = in Bits(8 bits)\n",
    "    val b = out(RegNext(a) init 0)\n",
    "}\n",
    "class Top extends Component{\n",
    "   val myclk,myrst = in Bool()\n",
    "   val cd = ClockDomain(myclk,myrst, \n",
    "      config = ClockDomainConfig(\n",
    "      clockEdge        = RISING,\n",
    "      resetKind        = ASYNC,\n",
    "      resetActiveLevel = LOW))\n",
    "    val u_sub0 = cd(new SUB)\n",
    "}\n",
    "showRtl(new Top)"
   ]
  },
  {
   "cell_type": "markdown",
   "metadata": {},
   "source": [
    "## Clock domains\n",
    "In SpinalHDL, clock and reset signals can be combined to create a clock domain. Clock domains can be applied to some areas of the design and then all synchronous elements instantiated into those areas will then implicitly use this clock domain.\n",
    "\n",
    "Clock domain application works like a stack, which means that if you are in a given clock domain you can still apply another clock domain locally.\n",
    "\n",
    "The syntax to define a clock domain is as follows (using EBNF syntax):\n",
    "```scala\n",
    "ClockDomain(\n",
    "  clock: Bool\n",
    "  [,reset: Bool]\n",
    "  [,softReset: Bool]\n",
    "  [,clockEnable: Bool]\n",
    "  [,frequency: IClockDomainFrequency]\n",
    "  [,config: ClockDomainConfig]\n",
    ")\n",
    "```\n",
    "defualt ClockDomain \n",
    "```scala \n",
    "case class ClockDomainConfig(clockEdge: EdgeKind = RISING,\n",
    "                             resetKind: ResetKind = ASYNC,\n",
    "                             resetActiveLevel: Polarity = HIGH,\n",
    "                             softResetActiveLevel: Polarity = HIGH,\n",
    "                             clockEnableActiveLevel: Polarity = HIGH)\n",
    "```"
   ]
  },
  {
   "cell_type": "markdown",
   "metadata": {},
   "source": [
    "### Internal Clock \n",
    "An alternative syntax to create a clock domain is the following:\n",
    "```\n",
    "ClockDomain.internal(\n",
    "  name: String,\n",
    "  [config: ClockDomainConfig,]\n",
    "  [withReset: Boolean,]\n",
    "  [withSoftReset: Boolean,]\n",
    "  [withClockEnable: Boolean,]\n",
    "  [frequency: IClockDomainFrequency]\n",
    ")\n",
    "```\n",
    "Its advantage is to create clock and reset signals with a specified name instead of an inherited one. Then you have to assign those ClockDomain’s signals as shown in the example below:"
   ]
  },
  {
   "cell_type": "code",
   "execution_count": 2,
   "metadata": {},
   "outputs": [
    {
     "name": "stdout",
     "output_type": "stream",
     "text": [
      "[Runtime] SpinalHDL v1.6.4    git head : 598c18959149eb18e5eee5b0aa3eef01ecaa41a1\n",
      "[Runtime] JVM max memory : 8116.0MiB\n",
      "[Runtime] Current date : 2022.03.04 16:37:05\n",
      "[Progress] at 0.000 : Elaborate components\n"
     ]
    },
    {
     "name": "stderr",
     "output_type": "stream",
     "text": [
      "[Thread-0] WARN net.openhft.affinity.Affinity - Windows JNA-based affinity not usable because it failed to load! Reason: java.lang.NoClassDefFoundError: Could not initialize class com.sun.jna.Native\n",
      "\tat net.openhft.affinity.impl.WindowsJNAAffinity$CLibrary.<clinit>(WindowsJNAAffinity.java:140)\n",
      "\tat net.openhft.affinity.impl.WindowsJNAAffinity.getAffinity(WindowsJNAAffinity.java:61)\n",
      "\tat net.openhft.affinity.impl.WindowsJNAAffinity.<clinit>(WindowsJNAAffinity.java:49)\n",
      "\tat net.openhft.affinity.Affinity.isWindowsJNAAffinityUsable(Affinity.java:87)\n",
      "\tat net.openhft.affinity.Affinity.<clinit>(Affinity.java:45)\n",
      "\tat spinal.sim.JvmThread.run(SimManager.scala:46)\n",
      "\n",
      "[Thread-0] INFO net.openhft.affinity.Affinity - Using dummy affinity control implementation\n"
     ]
    },
    {
     "name": "stdout",
     "output_type": "stream",
     "text": [
      "[Progress] at 0.149 : Checks and transforms\n",
      "[Progress] at 0.181 : Generate Verilog\n",
      "[Done] at 0.217\n",
      "// Generator : SpinalHDL v1.6.4    git head : 598c18959149eb18e5eee5b0aa3eef01ecaa41a1\n",
      "// Component : InternalClockWithPllExample\n",
      "\n",
      "`timescale 1ns/1ps \n",
      "\n",
      "module InternalClockWithPllExample (\n",
      "  input               io_clk100M,\n",
      "  input               io_aReset,\n",
      "  output     [3:0]    io_result\n",
      ");\n",
      "\n",
      "  wire                pll_1_io_clkOut;\n",
      "  wire                pll_1_io_reset;\n",
      "  wire                myClockName_clk;\n",
      "  wire                myClockName_reset;\n",
      "  reg        [3:0]    myArea_myReg;\n",
      "\n",
      "  Pll pll_1 (\n",
      "    .io_clkIn     (io_clk100M       ), //i\n",
      "    .io_clkOut    (pll_1_io_clkOut  ), //o\n",
      "    .io_reset     (pll_1_io_reset   )  //o\n",
      "  );\n",
      "  assign myClockName_clk = pll_1_io_clkOut;\n",
      "  assign myClockName_reset = (io_aReset || (! pll_1_io_reset));\n",
      "  assign io_result = myArea_myReg;\n",
      "  always @(posedge myClockName_clk or posedge myClockName_reset) begin\n",
      "    if(myClockName_reset) begin\n",
      "      myArea_myReg <= 4'b0111;\n",
      "    end else begin\n",
      "      myArea_myReg <= (myArea_myReg + 4'b0001);\n",
      "    end\n",
      "  end\n",
      "\n",
      "\n",
      "endmodule\n",
      "\n",
      "module Pll (\n",
      "  input               io_clkIn,\n",
      "  output              io_clkOut,\n",
      "  output              io_reset\n",
      ");\n",
      "\n",
      "\n",
      "  assign io_clkOut = io_clkIn;\n",
      "  assign io_reset = 1'b0;\n",
      "\n",
      "endmodule\n",
      "\n"
     ]
    },
    {
     "data": {
      "text/plain": [
       "defined \u001b[32mclass\u001b[39m \u001b[36mPll\u001b[39m\r\n",
       "defined \u001b[32mclass\u001b[39m \u001b[36mInternalClockWithPllExample\u001b[39m"
      ]
     },
     "execution_count": 2,
     "metadata": {},
     "output_type": "execute_result"
    }
   ],
   "source": [
    "class Pll extends Component{\n",
    "  val io = new Bundle {\n",
    "    val clkIn = in Bool()\n",
    "    val clkOut  = out Bool()\n",
    "    val reset  = out Bool()\n",
    "  }\n",
    "  io.clkOut := io.clkIn\n",
    "  io.reset  := False\n",
    "}\n",
    "class InternalClockWithPllExample extends Component {\n",
    "  val io = new Bundle {\n",
    "    val clk100M = in Bool()\n",
    "    val aReset  = in Bool()\n",
    "    val result  = out UInt (4 bits)\n",
    "  }\n",
    "  // myClockDomain.clock will be named myClockName_clk\n",
    "  // myClockDomain.reset will be named myClockName_reset\n",
    "  val myClockDomain = ClockDomain.internal(\"myClockName\")\n",
    "\n",
    "  // Instanciate a PLL (probably a BlackBox)\n",
    "  val pll = new Pll()\n",
    "  pll.io.clkIn := io.clk100M\n",
    "\n",
    "  // Assign myClockDomain signals with something\n",
    "  myClockDomain.clock := pll.io.clkOut\n",
    "  myClockDomain.reset := io.aReset || !pll.io.reset\n",
    "\n",
    "  // Do whatever you want with myClockDomain\n",
    "  val myArea = new ClockingArea(myClockDomain){\n",
    "    val myReg = Reg(UInt(4 bits)) init(7)\n",
    "    myReg := myReg + 1\n",
    "\n",
    "    io.result := myReg\n",
    "  }\n",
    "}\n",
    "showRtl(new InternalClockWithPllExample)"
   ]
  },
  {
   "cell_type": "markdown",
   "metadata": {},
   "source": [
    "### External clock\n",
    "\n",
    "You can define a clock domain which is driven by the outside anywhere in your source. It will then automatically add clock and reset wire from the top level inputs to all synchronous elements. \n",
    "```\n",
    "ClockDomain.external(\n",
    "  name: String,\n",
    "  [config: ClockDomainConfig,]\n",
    "  [withReset: Boolean,]\n",
    "  [withSoftReset: Boolean,]\n",
    "  [withClockEnable: Boolean,]\n",
    "  [frequency: IClockDomainFrequency]\n",
    ")\n",
    "```\n",
    "The arguments to the `ClockDomain.external` function are exactly the same as in the `ClockDomain.internal` function. Below an example of a design using `ClockDomain.external`."
   ]
  },
  {
   "cell_type": "code",
   "execution_count": null,
   "metadata": {},
   "outputs": [],
   "source": [
    "class ExternalClockExample extends Component {\n",
    "  val io = new Bundle {\n",
    "    val result = out UInt (4 bits)\n",
    "  }\n",
    "\n",
    "  // On top level you have two signals  :\n",
    "  //     myClockName_clk and myClockName_reset\n",
    "  val myClockDomain = ClockDomain.external(\"myClockName\")\n",
    "\n",
    "  val myArea = new ClockingArea(myClockDomain){\n",
    "    val myReg = Reg(UInt(4 bits)) init(7)\n",
    "    myReg := myReg + 1\n",
    "\n",
    "    io.result := myReg\n",
    "  }\n",
    "}\n",
    "showRtl(new ExternalClockExample)"
   ]
  },
  {
   "cell_type": "markdown",
   "metadata": {},
   "source": [
    "### Context\n",
    "You can retrieve in which clock domain you are by calling `ClockDomain.current` anywhere.\n",
    "The returned ClockDomain instance has the following functions that can be called:\n",
    "\n",
    "name | Description | Return\n",
    "-|-|-\n",
    "frequency.getValue | Return the frequency of the clock domain | Double\n",
    "hasResetSignal  | Return if the clock domain has a reset signal | Boolean\n",
    "hasSoftResetSignal | Return if the clock domain has a reset signal |Boolean\n",
    "hasClockEnableSignal | Return if the clock domain has a clock enable signal|Boolean\n",
    "readClockWire | Return a signal derived by the clock signal | Bool\n",
    "readResetWire | Return a signal derived by the reset signal | Bool\n",
    "readSoftResetWire | Return a signal derived by the reset signal | Bool\n",
    "readClockEnableWire | Return a signal derived by the clock enable signal | Bool\n",
    "isResetActive | Return True when the reset is active | Bool\n",
    "isSoftResetActive | Return True when the softReset is active | Bool\n",
    "isClockEnableActive | Return True when the clock enable is active | Bool"
   ]
  },
  {
   "cell_type": "code",
   "execution_count": null,
   "metadata": {},
   "outputs": [],
   "source": [
    "class T0 extends Component {\n",
    "  println(ClockDomain.current)\n",
    "  val coreClock,coreReset = in Bool()\n",
    "  val coreClockDomain = ClockDomain(coreClock, coreReset, frequency=FixedFrequency(99 MHz) )\n",
    "  println(coreClockDomain.hasResetSignal)\n",
    "  println(coreClockDomain.frequency.getValue)\n",
    "  println(coreClockDomain.hasSoftResetSignal)\n",
    "  println(coreClockDomain.isResetActive)  \n",
    "}\n",
    "showRtl(new T0)"
   ]
  },
  {
   "cell_type": "markdown",
   "metadata": {},
   "source": [
    "### Clock domain crossing\n",
    "SpinalHDL checks at compile time that there is no unwanted/unspecified cross clock domain signal reads. If you want to read a signal that is emitted by another ClockDomain area, you should add the crossClockDomain tag to the destination signal as depicted in the following example:"
   ]
  },
  {
   "cell_type": "code",
   "execution_count": null,
   "metadata": {},
   "outputs": [],
   "source": [
    "//             _____                        _____             _____\n",
    "//            |     |  (crossClockDomain)  |     |           |     |\n",
    "//  dataIn -->|     |--------------------->|     |---------->|     |--> dataOut\n",
    "//            | FF  |                      | FF  |           | FF  |\n",
    "//  clkA   -->|     |              clkB -->|     |   clkB -->|     |\n",
    "//  rstA   -->|_____|              rstB -->|_____|   rstB -->|_____|\n",
    "\n",
    "\n",
    "\n",
    "// Implementation where clock and reset pins are given by components IO\n",
    "class CrossingExample extends Component {\n",
    "  val io = new Bundle {\n",
    "    val clkA = in Bool\n",
    "    val rstA = in Bool\n",
    "\n",
    "    val clkB = in Bool\n",
    "    val rstB = in Bool\n",
    "\n",
    "    val dataIn  = in Bool\n",
    "    val dataOut = out Bool\n",
    "  }\n",
    "\n",
    "  // sample dataIn with clkA\n",
    "  val area_clkA = new ClockingArea(ClockDomain(io.clkA,io.rstA)){\n",
    "    val reg = RegNext(io.dataIn) init(False)\n",
    "  }\n",
    "\n",
    "  // 2 register stages to avoid metastability issues\n",
    "  val area_clkB = new ClockingArea(ClockDomain(io.clkB,io.rstB)){\n",
    "    val buf0   = RegNext(area_clkA.reg) init(False) addTag(crossClockDomain)\n",
    "    val buf1   = RegNext(buf0)          init(False)\n",
    "  }\n",
    "\n",
    "  io.dataOut := area_clkB.buf1\n",
    "}\n",
    "showRtl(new CrossingExample)"
   ]
  },
  {
   "cell_type": "code",
   "execution_count": null,
   "metadata": {},
   "outputs": [],
   "source": [
    "//Alternative implementation where clock domains are given as parameters\n",
    "class CrossingExample(clkA : ClockDomain,clkB : ClockDomain) extends Component {\n",
    "  val io = new Bundle {\n",
    "    val dataIn  = in Bool\n",
    "    val dataOut = out Bool\n",
    "  }\n",
    "\n",
    "  // sample dataIn with clkA\n",
    "  val area_clkA = new ClockingArea(clkA){\n",
    "    val reg = RegNext(io.dataIn) init(False)\n",
    "  }\n",
    "\n",
    "  // 2 register stages to avoid metastability issues\n",
    "  val area_clkB = new ClockingArea(clkB){\n",
    "    val buf0   = RegNext(area_clkA.reg) init(False) addTag(crossClockDomain)\n",
    "    val buf1   = RegNext(buf0)          init(False)\n",
    "  }\n",
    "\n",
    "  io.dataOut := area_clkB.buf1\n",
    "}"
   ]
  },
  {
   "cell_type": "markdown",
   "metadata": {},
   "source": [
    "### Set the default clock domain for different modules"
   ]
  },
  {
   "cell_type": "code",
   "execution_count": null,
   "metadata": {},
   "outputs": [],
   "source": [
    "class MYSub0(cd: ClockDomain) extends Component {\n",
    "  val io = new Bundle{\n",
    "    val ai = in UInt(8 bits)\n",
    "    val ao = out UInt(8 bits)\n",
    "  }\n",
    "  io.ao := RegNext(io.ai) init(0)\n",
    "}\n",
    "\n",
    "class MYSub1(cd: ClockDomain) extends Component {\n",
    "  val io = new Bundle{\n",
    "    val ai = in UInt(8 bits)\n",
    "    val ao = out UInt(8 bits)\n",
    "    val a2 = out UInt(8 bits)\n",
    "  } \n",
    "  io.ao := RegNext(io.ai) init(0)\n",
    "  val cd2 = ClockDomain.external(\"adc\")\n",
    "  //alow another clockDomain not confict to default clockdomain \n",
    "  val area = new ClockingArea(cd2){\n",
    "    val tmp = RegNext(io.ai) init(0)\n",
    "    val tmp2 = tmp + (RegNext(io.ai) init(0))\n",
    "  } \n",
    "  io.a2 := area.tmp2\n",
    "}     \n",
    "\n",
    "class Top00 extends Component {\n",
    "  val io = new Bundle{\n",
    "    val a = in UInt(8 bits)\n",
    "    val b0 = out UInt(8 bits)\n",
    "    val b1 = out UInt(8 bits)\n",
    "    val b2 = out UInt(8 bits)\n",
    "  }\n",
    "  val cd0 = ClockDomain.external(\"cp\")\n",
    "  val cd1 = ClockDomain.external(\"ap\")\n",
    "\n",
    "  val u_sub0 = cd0(new MYSub0(cd0)) // set u_sub0's default clockDomain with cd0\n",
    "  val u_sub1 = cd1(new MYSub1(cd1)) // it allow anoter clockDomain in ther module\n",
    "\n",
    "  u_sub0.io.ai := io.a\n",
    "  u_sub1.io.ai := io.a\n",
    "\n",
    "  io.b0 := u_sub0.io.ao\n",
    "  io.b1 := u_sub1.io.ao\n",
    "  io.b2 := u_sub1.io.a2\n",
    "\n",
    "  val tmp = RegNext(io.a) init(0)\n",
    "}\n",
    "\n",
    "showRtl(new Top00)"
   ]
  },
  {
   "cell_type": "markdown",
   "metadata": {},
   "source": [
    "## ResetArea\n",
    "A ResetArea is used to create a new clock domain area where a special reset signal is combined with the current clock domain reset."
   ]
  },
  {
   "cell_type": "code",
   "execution_count": null,
   "metadata": {},
   "outputs": [],
   "source": [
    "class TopLevel extends Component {\n",
    "\n",
    "  val specialReset = in Bool()\n",
    "\n",
    "  // The reset of this area is done with the specialReset signal\n",
    "  val areaRst_1 = new ResetArea(reset=specialReset, cumulative=false){\n",
    "    val counter = out(CounterFreeRun(16).value)\n",
    "  }\n",
    "\n",
    "  // The reset of this area is a combination between the current reset and the specialReset\n",
    "  val areaRst_2 = new ResetArea(reset=specialReset, cumulative=true){\n",
    "    val counter = out(CounterFreeRun(16).value)\n",
    "  }\n",
    "}\n",
    "showRtl(new TopLevel)"
   ]
  },
  {
   "cell_type": "markdown",
   "metadata": {},
   "source": [
    "## ClockEnableArea\n",
    "A ClockEnableArea is used to add an additional clock enable in the current clock domain.ResetArea\n",
    "A ResetArea is used to create a new clock domain area where a special reset signal is combined with the current clock domain reset."
   ]
  },
  {
   "cell_type": "code",
   "execution_count": null,
   "metadata": {},
   "outputs": [],
   "source": [
    "class TopLevel extends Component {\n",
    "\n",
    "  val clockEnable = in Bool\n",
    "\n",
    "  // Add a clock enable for this area\n",
    "  val area_1 = new ClockEnableArea(clockEnable){\n",
    "    val counter = out(CounterFreeRun(16).value)\n",
    "  }\n",
    "}\n",
    "showRtl(new TopLevel)"
   ]
  },
  {
   "attachments": {
    "image.png": {
     "image/png": "[encoded data removed]"
    }
   },
   "cell_type": "markdown",
   "metadata": {},
   "source": [
    "## ClockDomain SetSyncWith\n",
    "\n",
    "Sometimes you may need to divide the clock or gate it,\n",
    "\n",
    "However, these operations may not affect their synchronous clock relationship, but the new two clockdomains will be considered as two different clock domains by SpinalHDL as default\n",
    "\n",
    "Therefore, they need to be manually set to be synchronized. Perhaps in future versions, the processing of these synchronizations can be completed automatically.\n",
    "\n",
    "But it's also very easy to set the two clocks-family to be synchronous. Only `setSyncWith` is needed\n",
    "\n",
    "![image.png](attachment:image.png)"
   ]
  },
  {
   "cell_type": "code",
   "execution_count": null,
   "metadata": {},
   "outputs": [],
   "source": [
    "class gate_cell extends Component{\n",
    "    val io = new {\n",
    "      val TSE,CLK,E = in Bool\n",
    "      val ECK = out Bool        \n",
    "    }\n",
    "    noIoPrefix()\n",
    "    \n",
    "    val clk_n = !io.CLK\n",
    "    val lock_en = Bool.noCombLoopCheck\n",
    "    when (clk_n) {\n",
    "        lock_en := io.E\n",
    "    }.otherwise {\n",
    "        lock_en := lock_en\n",
    "    }\n",
    "    io.ECK := lock_en && io.CLK\n",
    "}\n",
    "\n",
    "implicit class ClockGateExtend(cd: ClockDomain){\n",
    "    def gateBy(en: Bool, tse: Bool): ClockDomain = {\n",
    "      val cg = new gate_cell\n",
    "      cg.io.CLK := cd.readClockWire\n",
    "      cg.io.TSE := tse\n",
    "      cg.io.E   := en\n",
    "      val cde = ClockDomain(clock = cg.io.ECK,\n",
    "        reset = cd.readResetWire\n",
    "      )\n",
    "      cde.setSynchronousWith(cd)\n",
    "      cde\n",
    "    }\n",
    "  }\n",
    "\n",
    "class A extends Component{\n",
    "    \n",
    "val clk,rstn,E,TSE = in Bool\n",
    "val clk_cg = out Bool\n",
    "val cd =ClockDomain(clk,rstn)\n",
    "clk_cg := clockDomain.gateBy(E, TSE).readClockWire\n",
    "    \n",
    "}\n",
    "showRtl(new A)"
   ]
  },
  {
   "cell_type": "markdown",
   "metadata": {},
   "source": [
    "clockGate Usage"
   ]
  },
  {
   "cell_type": "code",
   "execution_count": null,
   "metadata": {},
   "outputs": [],
   "source": [
    "class MySub extends Component {\n",
    "    val io = new Bundle{\n",
    "        val a = in UInt(8 bits)\n",
    "        val b = out UInt(8 bits)\n",
    "    }\n",
    "    io.b := RegNext(io.a) init(0)\n",
    "}\n",
    "\n",
    "class Top extends Component {\n",
    "    val io = new Bundle{\n",
    "        val a0,a1 = in UInt(8 bits)\n",
    "        val cg_en0,cg_en1 = in Bool\n",
    "        val b  = out UInt(8 bits)\n",
    "        val test_mode = in Bool()\n",
    "    }\n",
    " \n",
    "    val cgd0 = clockDomain.gateBy(io.cg_en0, io.test_mode)\n",
    "    val cgd1 = clockDomain.gateBy(io.cg_en1, io.test_mode)\n",
    "     \n",
    "    val u_sub0 = cgd0(new MySub)\n",
    "    val u_sub1 = cgd1(new MySub)\n",
    "    \n",
    "    u_sub0.io.a := io.a0\n",
    "    u_sub1.io.a := io.a1 \n",
    "    \n",
    "    io.b := RegNext(u_sub0.io.b + u_sub1.io.b) init 0\n",
    "}\n",
    "\n",
    "showRtl(new Top)"
   ]
  },
  {
   "cell_type": "markdown",
   "metadata": {},
   "source": [
    "gate Cell with BlackBox "
   ]
  },
  {
   "cell_type": "code",
   "execution_count": null,
   "metadata": {},
   "outputs": [],
   "source": [
    "class gate_cell extends BlackBox {\n",
    "  val io = new Bundle{\n",
    "    val CLK = in Bool()\n",
    "    val TSE = in Bool()\n",
    "    val E   = in Bool()\n",
    "    val ECK = out Bool()\n",
    "  }\n",
    "\n",
    "  noIoPrefix()\n",
    "\n",
    "  val clk_n   = !io.CLK\n",
    "  val lock_en = Bool().noCombLoopCheck\n",
    "\n",
    "  when(clk_n){\n",
    "    lock_en := io.E\n",
    "  }.otherwise{\n",
    "    lock_en := lock_en\n",
    "  }\n",
    "\n",
    "  io.ECK := (lock_en && io.CLK)\n",
    "  if(CommonCellBlackBox.clear){this.clearBlackBox()}\n",
    "}\n",
    "\n",
    "implicit class ClockGateExtend(cd: ClockDomain){\n",
    "    def gateBy(en: Bool, tse: Bool): ClockDomain = {\n",
    "      val cg = new gate_cell\n",
    "      cg.io.CLK := cd.readClockWire\n",
    "      cg.io.TSE := tse\n",
    "      cg.io.E   := en\n",
    "      val cde = ClockDomain(clock = cg.io.ECK,\n",
    "        reset = cd.readResetWire\n",
    "      )\n",
    "      cde.setSynchronousWith(cd)\n",
    "      cde\n",
    "    }\n",
    "  }\n",
    "\n",
    "protected object CommonCellBlackBox {\n",
    "    private var _clear: Boolean = false\n",
    "    def clear: Boolean = _clear\n",
    "    def clear_=(x: Boolean) { _clear = x}\n",
    "  }\n",
    "\n",
    "  object clearCCBB{\n",
    "    def apply() = CommonCellBlackBox.clear = true\n",
    "  }\n"
   ]
  },
  {
   "cell_type": "code",
   "execution_count": null,
   "metadata": {},
   "outputs": [],
   "source": [
    "class Top extends Component {\n",
    "    val io = new Bundle{\n",
    "      val clken = in Bool()\n",
    "      val test_mode = in Bool()\n",
    "      val clkout = out Bool()\n",
    "    }\n",
    " \n",
    "    val cgd0 = clockDomain.gateBy(io.clken, io.test_mode)\n",
    "    \n",
    "    io.clkout := cgd0.readClockWire\n",
    "}\n",
    "// clearCCBB()  //open and try\n",
    "showRtl(new Top)"
   ]
  },
  {
   "cell_type": "code",
   "execution_count": null,
   "metadata": {},
   "outputs": [],
   "source": []
  }
 ],
 "metadata": {
  "kernelspec": {
   "display_name": "Scala",
   "language": "scala",
   "name": "scala"
  },
  "language_info": {
   "codemirror_mode": "text/x-scala",
   "file_extension": ".scala",
   "mimetype": "text/x-scala",
   "name": "scala",
   "nbconvert_exporter": "script",
   "version": "2.12.11"
  },
  "toc": {
   "base_numbering": 1,
   "nav_menu": {},
   "number_sections": true,
   "sideBar": true,
   "skip_h1_title": false,
   "title_cell": "Table of Contents",
   "title_sidebar": "Contents",
   "toc_cell": false,
   "toc_position": {},
   "toc_section_display": true,
   "toc_window_display": false
  }
 },
 "nbformat": 4,
 "nbformat_minor": 2
}
