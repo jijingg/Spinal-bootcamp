{
 "cells": [
  {
   "cell_type": "markdown",
   "metadata": {},
   "source": [
    "<a name=\"top\"></a><img src=\"./source/SpinalHDL.png\" alt=\"SpinalHDL based on Scala\" style=\"width:320px;\" />"
   ]
  },
  {
   "cell_type": "markdown",
   "metadata": {},
   "source": [
    "Before running Spinal HDL code, be sure to load SpinalHDL Libraries  \n",
    "**Note** : This may be a little slow when the first time load, please wait a moment to download Lib from remote.)   "
   ]
  },
  {
   "cell_type": "code",
   "execution_count": 1,
   "metadata": {},
   "outputs": [
    {
     "data": {
      "text/plain": [
       "\u001b[36mpath\u001b[39m: \u001b[32mString\u001b[39m = \u001b[32m\"E:\\\\GitHub\\\\SpinalHDL\\\\Spinal-bootcamp/source/load-spinal.sc\"\u001b[39m"
      ]
     },
     "execution_count": 1,
     "metadata": {},
     "output_type": "execute_result"
    }
   ],
   "source": [
    "val path = System.getProperty(\"user.dir\") + \"/source/load-spinal.sc\"\n",
    "interp.load.module(ammonite.ops.Path(java.nio.file.FileSystems.getDefault().getPath(path)))"
   ]
  },
  {
   "cell_type": "markdown",
   "metadata": {},
   "source": [
    "## Assignement overlap\n",
    "SpinalHDL will check that no signal assignement completly erases a previous one.   \n",
    "The following code will throw the following error:"
   ]
  },
  {
   "cell_type": "code",
   "execution_count": 3,
   "metadata": {},
   "outputs": [
    {
     "name": "stdout",
     "output_type": "stream",
     "text": [
      "[Runtime] SpinalHDL v1.6.4    git head : 598c18959149eb18e5eee5b0aa3eef01ecaa41a1\n",
      "[Runtime] JVM max memory : 8116.0MiB\n",
      "[Runtime] Current date : 2022.03.04 09:49:00\n",
      "[Progress] at 0.000 : Elaborate components\n"
     ]
    },
    {
     "name": "stderr",
     "output_type": "stream",
     "text": [
      "[Thread-0] WARN net.openhft.affinity.Affinity - Windows JNA-based affinity not usable because it failed to load! Reason: java.lang.NoClassDefFoundError: Could not initialize class com.sun.jna.Native\n",
      "\tat net.openhft.affinity.impl.WindowsJNAAffinity$CLibrary.<clinit>(WindowsJNAAffinity.java:140)\n",
      "\tat net.openhft.affinity.impl.WindowsJNAAffinity.getAffinity(WindowsJNAAffinity.java:61)\n",
      "\tat net.openhft.affinity.impl.WindowsJNAAffinity.<clinit>(WindowsJNAAffinity.java:49)\n",
      "\tat net.openhft.affinity.Affinity.isWindowsJNAAffinityUsable(Affinity.java:87)\n",
      "\tat net.openhft.affinity.Affinity.<clinit>(Affinity.java:45)\n",
      "\tat spinal.sim.JvmThread.run(SimManager.scala:46)\n",
      "\n",
      "[Thread-0] INFO net.openhft.affinity.Affinity - Using dummy affinity control implementation\n"
     ]
    },
    {
     "name": "stdout",
     "output_type": "stream",
     "text": [
      "[Progress] at 0.163 : Checks and transforms\n",
      "\n",
      "**********************************************************************************************\n",
      "[Warning] Elaboration failed (2 errors).\n",
      "          Spinal will restart with scala trace to help you to find the problem.\n",
      "**********************************************************************************************\n",
      "\n",
      "[Progress] at 0.194 : Elaborate components\n",
      "[Progress] at 0.198 : Checks and transforms\n"
     ]
    },
    {
     "ename": "",
     "evalue": "",
     "output_type": "error",
     "traceback": [
      "\u001b[31mspinal.core.SpinalExit: \n\n\n Error detected in phase PhaseCheck_noLatchNoOverride\n********************************************************************************\n********************************************************************************\n\nASSIGNMENT OVERLAP completely the previous one of (toplevel/a :  UInt[8 bits])\n    ammonite.$sess.cmd2$Helper$TopLevel.<init>(cmd2.sc:4)\n    ammonite.$sess.cmd2$Helper.$anonfun$res2_1$1(cmd2.sc:6)\n    spinal.sim.JvmThread.run(SimManager.scala:51)\n\n\n********************************************************************************\n********************************************************************************\n\nDesign's errors are listed above.\nSpinalHDL compiler exit stack : \n\u001b[39m\r\n  spinal.core.SpinalExit$.apply(\u001b[32mMisc.scala\u001b[39m:\u001b[32m425\u001b[39m)\r\n  spinal.core.SpinalError$.apply(\u001b[32mMisc.scala\u001b[39m:\u001b[32m480\u001b[39m)\r\n  spinal.core.internals.PhaseContext.checkPendingErrors(\u001b[32mPhase.scala\u001b[39m:\u001b[32m175\u001b[39m)\r\n  spinal.core.internals.PhaseContext.doPhase(\u001b[32mPhase.scala\u001b[39m:\u001b[32m191\u001b[39m)\r\n  spinal.core.internals.SpinalVerilogBoot$.$anonfun$singleShot$12(\u001b[32mPhase.scala\u001b[39m:\u001b[32m2581\u001b[39m)\r\n  spinal.core.internals.SpinalVerilogBoot$.$anonfun$singleShot$12$adapted(\u001b[32mPhase.scala\u001b[39m:\u001b[32m2579\u001b[39m)\r\n  scala.collection.mutable.ResizableArray.foreach(\u001b[32mResizableArray.scala\u001b[39m:\u001b[32m62\u001b[39m)\r\n  scala.collection.mutable.ResizableArray.foreach$(\u001b[32mResizableArray.scala\u001b[39m:\u001b[32m55\u001b[39m)\r\n  scala.collection.mutable.ArrayBuffer.foreach(\u001b[32mArrayBuffer.scala\u001b[39m:\u001b[32m49\u001b[39m)\r\n  spinal.core.internals.SpinalVerilogBoot$.$anonfun$singleShot$7(\u001b[32mPhase.scala\u001b[39m:\u001b[32m2579\u001b[39m)\r\n  spinal.core.ScopeProperty$.sandbox(\u001b[32mScopeProperty.scala\u001b[39m:\u001b[32m69\u001b[39m)\r\n  spinal.core.internals.SpinalVerilogBoot$.singleShot(\u001b[32mPhase.scala\u001b[39m:\u001b[32m2516\u001b[39m)\r\n  spinal.core.internals.SpinalVerilogBoot$.apply(\u001b[32mPhase.scala\u001b[39m:\u001b[32m2511\u001b[39m)\r\n  spinal.core.Spinal$.apply(\u001b[32mSpinal.scala\u001b[39m:\u001b[32m380\u001b[39m)\r\n  spinal.core.SpinalConfig.generate(\u001b[32mSpinal.scala\u001b[39m:\u001b[32m162\u001b[39m)\r\n  ammonite.$file.dummy.source.load$minusspinal$Helper.showRtl(\u001b[32mMain.sc\u001b[39m:\u001b[32m28\u001b[39m)\r\n  ammonite.$sess.cmd2$Helper.<init>(\u001b[32mcmd2.sc\u001b[39m:\u001b[32m6\u001b[39m)\r\n  ammonite.$sess.cmd2$.<init>(\u001b[32mcmd2.sc\u001b[39m:\u001b[32m7\u001b[39m)\r\n  ammonite.$sess.cmd2$.<clinit>(\u001b[32mcmd2.sc\u001b[39m:\u001b[32m-1\u001b[39m)"
     ]
    }
   ],
   "source": [
    "class TopLevel extends Component {\n",
    "  val a = UInt(8 bits)\n",
    "  a := 42\n",
    "  a := 66 //Erease the a := 42 :(\n",
    "}\n",
    "showRtl(new TopLevel)"
   ]
  },
  {
   "cell_type": "markdown",
   "metadata": {},
   "source": [
    "A fix could be:"
   ]
  },
  {
   "cell_type": "code",
   "execution_count": 2,
   "metadata": {
    "scrolled": true
   },
   "outputs": [
    {
     "name": "stderr",
     "output_type": "stream",
     "text": [
      "cmd2.sc:4: not found: value something\n",
      "  when(something){\n",
      "       ^Compilation Failed"
     ]
    },
    {
     "ename": "",
     "evalue": "",
     "output_type": "error",
     "traceback": [
      "Compilation Failed"
     ]
    }
   ],
   "source": [
    "class TopLevel extends Component {\n",
    "  val a = UInt(8 bits)\n",
    "  a := 42\n",
    "  when(something){\n",
    "    a := 66\n",
    "  }\n",
    "}\n",
    "showRtl(new TopLevel)"
   ]
  },
  {
   "cell_type": "markdown",
   "metadata": {},
   "source": [
    "But in the case you really want to override the previous assignement (Yes, it could make sense in some cases), you can do the following:"
   ]
  },
  {
   "cell_type": "code",
   "execution_count": 4,
   "metadata": {},
   "outputs": [
    {
     "name": "stdout",
     "output_type": "stream",
     "text": [
      "[Runtime] SpinalHDL v1.6.4    git head : 598c18959149eb18e5eee5b0aa3eef01ecaa41a1\n",
      "[Runtime] JVM max memory : 8116.0MiB\n",
      "[Runtime] Current date : 2022.03.04 00:02:58\n",
      "[Progress] at 48.813 : Elaborate components\n",
      "[Progress] at 48.817 : Checks and transforms\n",
      "[Progress] at 48.843 : Generate Verilog\n",
      "[Warning] 1 signals were pruned. You can call printPruned on the backend report to get more informations.\n",
      "[Done] at 48.896\n",
      "// Generator : SpinalHDL v1.6.4    git head : 598c18959149eb18e5eee5b0aa3eef01ecaa41a1\n",
      "// Component : TopLevel\n",
      "\n",
      "`timescale 1ns/1ps \n",
      "\n",
      "module TopLevel (\n",
      ");\n",
      "\n",
      "  reg        [7:0]    a;\n",
      "  function [7:0] zz_a(input dummy);\n",
      "    begin\n",
      "      zz_a = 8'h2a;\n",
      "      zz_a = 8'h42;\n",
      "    end\n",
      "  endfunction\n",
      "  wire [7:0] _zz_1;\n",
      "\n",
      "  assign _zz_1 = zz_a(1'b0);\n",
      "  always @(*) a = _zz_1;\n",
      "\n",
      "endmodule\n",
      "\n"
     ]
    },
    {
     "data": {
      "text/plain": [
       "defined \u001b[32mclass\u001b[39m \u001b[36mTopLevel\u001b[39m"
      ]
     },
     "execution_count": 4,
     "metadata": {},
     "output_type": "execute_result"
    }
   ],
   "source": [
    "class TopLevel extends Component {\n",
    "  val a = UInt(8 bits)\n",
    "  a := 42\n",
    "  a.allowOverride\n",
    "  a := 66\n",
    "}\n",
    "showRtl(new TopLevel)"
   ]
  },
  {
   "cell_type": "markdown",
   "metadata": {},
   "source": [
    "## Clock crossing violation\n",
    "SpinalHDL will check that every register of your design only depends (through some combinatorial logic) on registers which use the same or a synchronous clock domain. \n",
    "\n",
    "The following code will throw error:"
   ]
  },
  {
   "cell_type": "code",
   "execution_count": 4,
   "metadata": {},
   "outputs": [
    {
     "name": "stdout",
     "output_type": "stream",
     "text": [
      "[Runtime] SpinalHDL v1.6.4    git head : 598c18959149eb18e5eee5b0aa3eef01ecaa41a1\n",
      "[Runtime] JVM max memory : 8116.0MiB\n",
      "[Runtime] Current date : 2022.03.04 09:49:38\n",
      "[Progress] at 37.446 : Elaborate components\n",
      "[Progress] at 37.464 : Checks and transforms\n",
      "\n",
      "**********************************************************************************************\n",
      "[Warning] Elaboration failed (3 errors).\n",
      "          Spinal will restart with scala trace to help you to find the problem.\n",
      "**********************************************************************************************\n",
      "\n",
      "[Progress] at 37.505 : Elaborate components\n",
      "[Progress] at 37.508 : Checks and transforms\n"
     ]
    },
    {
     "ename": "",
     "evalue": "",
     "output_type": "error",
     "traceback": [
      "\u001b[31mspinal.core.SpinalExit: \n\n\n Error detected in phase PhaseCheckCrossClock\n********************************************************************************\n********************************************************************************\n\nCLOCK CROSSING VIOLATION :\n- Source            : (toplevel/regA :  UInt[8 bits]) ammonite.$sess.cmd3$Helper$TopLevel.$anonfun$regA$2(cmd3.sc:5)\n- Source clock      : (clkA_clk :  Bool)\n- Destination       : (toplevel/regB :  UInt[8 bits]) ammonite.$sess.cmd3$Helper$TopLevel.$anonfun$regB$2(cmd3.sc:6)\n- Destination clock : (clkB_clk :  Bool)\n- Source declaration :\n    ammonite.$sess.cmd3$Helper$TopLevel.$anonfun$regA$2(cmd3.sc:5)\n    ammonite.$sess.cmd3$Helper$TopLevel.$anonfun$regA$1(cmd3.sc:5)\n    ammonite.$sess.cmd3$Helper$TopLevel.<init>(cmd3.sc:5)\n    ammonite.$sess.cmd3$Helper.$anonfun$res3_1$1(cmd3.sc:11)\n    spinal.sim.JvmThread.run(SimManager.scala:51)\n\n\n- Destination declaration :\n    ammonite.$sess.cmd3$Helper$TopLevel.$anonfun$regB$2(cmd3.sc:6)\n    ammonite.$sess.cmd3$Helper$TopLevel.$anonfun$regB$1(cmd3.sc:6)\n    ammonite.$sess.cmd3$Helper$TopLevel.<init>(cmd3.sc:6)\n    ammonite.$sess.cmd3$Helper.$anonfun$res3_1$1(cmd3.sc:11)\n    spinal.sim.JvmThread.run(SimManager.scala:51)\n\n\n- Connection path :\n      >>> (toplevel/regA :  UInt[8 bits]) at ammonite.$sess.cmd3$Helper$TopLevel.$anonfun$regA$2(cmd3.sc:5) >>>\n      >>> (toplevel/tmp :  UInt[8 bits]) at ammonite.$sess.cmd3$Helper$TopLevel.<init>(cmd3.sc:8) >>>\n      >>> (toplevel/regB :  UInt[8 bits]) at ammonite.$sess.cmd3$Helper$TopLevel.$anonfun$regB$2(cmd3.sc:6) >>>\n\n             \n********************************************************************************\n********************************************************************************\n\nDesign's errors are listed above.\nSpinalHDL compiler exit stack : \n\u001b[39m\r\n  spinal.core.SpinalExit$.apply(\u001b[32mMisc.scala\u001b[39m:\u001b[32m425\u001b[39m)\r\n  spinal.core.SpinalError$.apply(\u001b[32mMisc.scala\u001b[39m:\u001b[32m480\u001b[39m)\r\n  spinal.core.internals.PhaseContext.checkPendingErrors(\u001b[32mPhase.scala\u001b[39m:\u001b[32m175\u001b[39m)\r\n  spinal.core.internals.PhaseContext.doPhase(\u001b[32mPhase.scala\u001b[39m:\u001b[32m191\u001b[39m)\r\n  spinal.core.internals.SpinalVerilogBoot$.$anonfun$singleShot$12(\u001b[32mPhase.scala\u001b[39m:\u001b[32m2581\u001b[39m)\r\n  spinal.core.internals.SpinalVerilogBoot$.$anonfun$singleShot$12$adapted(\u001b[32mPhase.scala\u001b[39m:\u001b[32m2579\u001b[39m)\r\n  scala.collection.mutable.ResizableArray.foreach(\u001b[32mResizableArray.scala\u001b[39m:\u001b[32m62\u001b[39m)\r\n  scala.collection.mutable.ResizableArray.foreach$(\u001b[32mResizableArray.scala\u001b[39m:\u001b[32m55\u001b[39m)\r\n  scala.collection.mutable.ArrayBuffer.foreach(\u001b[32mArrayBuffer.scala\u001b[39m:\u001b[32m49\u001b[39m)\r\n  spinal.core.internals.SpinalVerilogBoot$.$anonfun$singleShot$7(\u001b[32mPhase.scala\u001b[39m:\u001b[32m2579\u001b[39m)\r\n  spinal.core.ScopeProperty$.sandbox(\u001b[32mScopeProperty.scala\u001b[39m:\u001b[32m69\u001b[39m)\r\n  spinal.core.internals.SpinalVerilogBoot$.singleShot(\u001b[32mPhase.scala\u001b[39m:\u001b[32m2516\u001b[39m)\r\n  spinal.core.internals.SpinalVerilogBoot$.apply(\u001b[32mPhase.scala\u001b[39m:\u001b[32m2511\u001b[39m)\r\n  spinal.core.Spinal$.apply(\u001b[32mSpinal.scala\u001b[39m:\u001b[32m380\u001b[39m)\r\n  spinal.core.SpinalConfig.generate(\u001b[32mSpinal.scala\u001b[39m:\u001b[32m162\u001b[39m)\r\n  ammonite.$file.dummy.source.load$minusspinal$Helper.showRtl(\u001b[32mMain.sc\u001b[39m:\u001b[32m28\u001b[39m)\r\n  ammonite.$sess.cmd3$Helper.<init>(\u001b[32mcmd3.sc\u001b[39m:\u001b[32m11\u001b[39m)\r\n  ammonite.$sess.cmd3$.<init>(\u001b[32mcmd3.sc\u001b[39m:\u001b[32m7\u001b[39m)\r\n  ammonite.$sess.cmd3$.<clinit>(\u001b[32mcmd3.sc\u001b[39m:\u001b[32m-1\u001b[39m)"
     ]
    }
   ],
   "source": [
    "class TopLevel extends Component {\n",
    "  val clkA = ClockDomain.external(\"clkA\")\n",
    "  val clkB = ClockDomain.external(\"clkB\")\n",
    "\n",
    "  val regA = clkA(Reg(UInt(8 bits)))   //PlayDev.scala:834\n",
    "  val regB = clkB(Reg(UInt(8 bits)))   //PlayDev.scala:835\n",
    "\n",
    "  val tmp = regA + regA                //PlayDev.scala:838\n",
    "  regB := tmp\n",
    "}\n",
    "showRtl(new TopLevel)"
   ]
  },
  {
   "cell_type": "markdown",
   "metadata": {},
   "source": [
    "There are multiple possible fixes:\n",
    "### crossClockDomain tag\n",
    "The crossClockDomain tag can be used to say “It’s alright, don’t panic” to SpinalHDL"
   ]
  },
  {
   "cell_type": "code",
   "execution_count": 14,
   "metadata": {},
   "outputs": [
    {
     "name": "stdout",
     "output_type": "stream",
     "text": [
      "[Runtime] SpinalHDL v1.6.4    git head : 598c18959149eb18e5eee5b0aa3eef01ecaa41a1\n",
      "[Runtime] JVM max memory : 8116.0MiB\n",
      "[Runtime] Current date : 2022.03.04 17:59:45\n",
      "[Progress] at 29444.283 : Elaborate components\n",
      "[Progress] at 29444.287 : Checks and transforms\n",
      "[Progress] at 29444.289 : Generate Verilog\n",
      "[Warning] 3 signals were pruned. You can call printPruned on the backend report to get more informations.\n",
      "[Done] at 29444.293\n",
      "// Generator : SpinalHDL v1.6.4    git head : 598c18959149eb18e5eee5b0aa3eef01ecaa41a1\n",
      "// Component : TopLevel\n",
      "\n",
      "`timescale 1ns/1ps \n",
      "\n",
      "module TopLevel (\n",
      "  input               clkA_clk,\n",
      "  input               clkA_reset,\n",
      "  input               clkB_clk,\n",
      "  input               clkB_reset\n",
      ");\n",
      "\n",
      "  reg        [7:0]    regA;\n",
      "  (* async_reg = \"true\" *) reg        [7:0]    regB;\n",
      "  wire       [7:0]    tmp;\n",
      "\n",
      "  assign tmp = (regA + regA);\n",
      "  always @(posedge clkB_clk) begin\n",
      "    regB <= tmp;\n",
      "  end\n",
      "\n",
      "\n",
      "endmodule\n",
      "\n"
     ]
    },
    {
     "data": {
      "text/plain": [
       "defined \u001b[32mclass\u001b[39m \u001b[36mTopLevel\u001b[39m"
      ]
     },
     "execution_count": 14,
     "metadata": {},
     "output_type": "execute_result"
    }
   ],
   "source": [
    "class TopLevel extends Component {\n",
    "  val clkaA = ClockDomain.external(\"clkA\")\n",
    "  val clkB = ClockDomain.external(\"clkB\")\n",
    "\n",
    "  val regA = clkaA(Reg(UInt(8 bits)))\n",
    "  val regB = clkB(Reg(UInt(8 bits))).addTag(crossClockDomain)\n",
    "\n",
    "\n",
    "  val tmp = regA + regA\n",
    "  regB := tmp\n",
    "}\n",
    "showRtl(new TopLevel)"
   ]
  },
  {
   "cell_type": "markdown",
   "metadata": {},
   "source": [
    "### setSyncronousWith\n",
    "You can also specify that two clock domains are syncronous together."
   ]
  },
  {
   "cell_type": "code",
   "execution_count": 11,
   "metadata": {},
   "outputs": [
    {
     "name": "stdout",
     "output_type": "stream",
     "text": [
      "[Runtime] SpinalHDL v1.6.4    git head : 598c18959149eb18e5eee5b0aa3eef01ecaa41a1\n",
      "[Runtime] JVM max memory : 8116.0MiB\n",
      "[Runtime] Current date : 2022.03.04 16:33:30\n",
      "[Progress] at 24269.234 : Elaborate components\n",
      "[Progress] at 24269.241 : Checks and transforms\n",
      "[Progress] at 24269.244 : Generate Verilog\n",
      "[Warning] 3 signals were pruned. You can call printPruned on the backend report to get more informations.\n",
      "[Done] at 24269.248\n",
      "// Generator : SpinalHDL v1.6.4    git head : 598c18959149eb18e5eee5b0aa3eef01ecaa41a1\n",
      "// Component : TopLevel\n",
      "\n",
      "`timescale 1ns/1ps \n",
      "\n",
      "module TopLevel (\n",
      "  input               clkA_clk,\n",
      "  input               clkA_reset,\n",
      "  input               clkB_clk,\n",
      "  input               clkB_reset\n",
      ");\n",
      "\n",
      "  reg        [7:0]    regA;\n",
      "  reg        [7:0]    regB;\n",
      "  wire       [7:0]    tmp;\n",
      "\n",
      "  assign tmp = (regA + regA);\n",
      "  always @(posedge clkB_clk) begin\n",
      "    regB <= tmp;\n",
      "  end\n",
      "\n",
      "\n",
      "endmodule\n",
      "\n"
     ]
    },
    {
     "data": {
      "text/plain": [
       "defined \u001b[32mclass\u001b[39m \u001b[36mTopLevel\u001b[39m"
      ]
     },
     "execution_count": 11,
     "metadata": {},
     "output_type": "execute_result"
    }
   ],
   "source": [
    "class TopLevel extends Component {\n",
    "  val clkA = ClockDomain.external(\"clkA\")\n",
    "  val clkB = ClockDomain.external(\"clkB\")\n",
    "  clkB.setSyncronousWith(clkA)\n",
    "\n",
    "  val regA = clkA(Reg(UInt(8 bits)))\n",
    "  val regB = clkB(Reg(UInt(8 bits)))\n",
    "\n",
    "\n",
    "  val tmp = regA + regA\n",
    "  regB := tmp\n",
    "}\n",
    "\n",
    "\n",
    "showRtl(new TopLevel)"
   ]
  },
  {
   "cell_type": "markdown",
   "metadata": {},
   "source": [
    "### BufferCC\n",
    "Signal Bits or Gray-coded Bits can use BufferCC to cross different clockDomain"
   ]
  },
  {
   "cell_type": "code",
   "execution_count": 9,
   "metadata": {
    "scrolled": true
   },
   "outputs": [
    {
     "name": "stdout",
     "output_type": "stream",
     "text": [
      "[Runtime] SpinalHDL v1.6.4    git head : 598c18959149eb18e5eee5b0aa3eef01ecaa41a1\n",
      "[Runtime] JVM max memory : 8116.0MiB\n",
      "[Runtime] Current date : 2022.03.04 11:45:21\n",
      "[Progress] at 6980.683 : Elaborate components\n",
      "[Progress] at 6980.690 : Checks and transforms\n",
      "[Progress] at 6980.690 : Generate Verilog\n",
      "[Warning] 1 signals were pruned. You can call printPruned on the backend report to get more informations.\n",
      "[Done] at 6980.696\n",
      "// Generator : SpinalHDL v1.6.4    git head : 598c18959149eb18e5eee5b0aa3eef01ecaa41a1\n",
      "// Component : syncRead2Write\n",
      "\n",
      "`timescale 1ns/1ps \n",
      "\n",
      "module syncRead2Write (\n",
      "  input               io_pushClock,\n",
      "  input               io_pushRst,\n",
      "  input      [7:0]    io_readPtr\n",
      ");\n",
      "\n",
      "  wire       [7:0]    _zz_pushCC_pushPtrGray;\n",
      "  reg        [7:0]    pushCC_pushPtrGray;\n",
      "\n",
      "  assign _zz_pushCC_pushPtrGray = (io_readPtr >>> 1'b1);\n",
      "  always @(posedge io_pushClock or posedge io_pushRst) begin\n",
      "    if(io_pushRst) begin\n",
      "      pushCC_pushPtrGray <= 8'h0;\n",
      "    end else begin\n",
      "      pushCC_pushPtrGray <= (_zz_pushCC_pushPtrGray ^ io_readPtr);\n",
      "    end\n",
      "  end\n",
      "\n",
      "\n",
      "endmodule\n",
      "\n"
     ]
    },
    {
     "data": {
      "text/plain": [
       "defined \u001b[32mclass\u001b[39m \u001b[36msyncRead2Write\u001b[39m"
      ]
     },
     "execution_count": 9,
     "metadata": {},
     "output_type": "execute_result"
    }
   ],
   "source": [
    "class syncRead2Write extends Component {\n",
    "  val io = new Bundle{\n",
    "    val pushClock, pushRst = in Bool()\n",
    "    val readPtr = in UInt(8 bits)\n",
    "  }\n",
    "  val pushCC = new ClockingArea(ClockDomain(io.pushClock, io.pushRst)) {\n",
    "    val pushPtrGray = RegNext(toGray(io.readPtr)) init(0)\n",
    "  }\n",
    "}\n",
    "showRtl(new syncRead2Write)"
   ]
  },
  {
   "cell_type": "code",
   "execution_count": null,
   "metadata": {},
   "outputs": [],
   "source": []
  },
  {
   "cell_type": "markdown",
   "metadata": {},
   "source": [
    "## Combinational loop\n",
    "SpinalHDL will check that there are no combinatorial loops in the design.\n",
    "\n",
    "The following code will throw error:"
   ]
  },
  {
   "cell_type": "code",
   "execution_count": null,
   "metadata": {},
   "outputs": [],
   "source": [
    "class TopLevel extends Component {\n",
    "  val a = UInt(8 bits) //PlayDev.scala line 831\n",
    "  val b = UInt(8 bits) //PlayDev.scala line 832\n",
    "  val c = UInt(8 bits)\n",
    "  val d = UInt(8 bits)\n",
    "\n",
    "  a := b\n",
    "  b := c | d\n",
    "  d := a\n",
    "  c := 0\n",
    "}\n",
    "showRtl(new TopLevel)"
   ]
  },
  {
   "cell_type": "markdown",
   "metadata": {},
   "source": [
    "A possible fix could be:"
   ]
  },
  {
   "cell_type": "code",
   "execution_count": null,
   "metadata": {},
   "outputs": [],
   "source": [
    "class TopLevel extends Component {\n",
    "  val a = UInt(8 bits) //PlayDev.scala line 831\n",
    "  val b = UInt(8 bits) //PlayDev.scala line 832\n",
    "  val c = UInt(8 bits)\n",
    "  val d = UInt(8 bits)\n",
    "\n",
    "  a := b\n",
    "  b := c | d\n",
    "  d := 42\n",
    "  c := 0\n",
    "}\n",
    "showRtl(new TopLevel)"
   ]
  },
  {
   "cell_type": "markdown",
   "metadata": {},
   "source": [
    "### False-positive\n",
    "It should be said that SpinalHDL’s algorithm to detect combinatorial loops can be pessimistic, and it may give false positives. If it is giving a false positive, you can manualy disable loop checking on one signal of the loop like so:"
   ]
  },
  {
   "cell_type": "code",
   "execution_count": 2,
   "metadata": {},
   "outputs": [
    {
     "name": "stdout",
     "output_type": "stream",
     "text": [
      "[Runtime] SpinalHDL v1.6.4    git head : 598c18959149eb18e5eee5b0aa3eef01ecaa41a1\n",
      "[Runtime] JVM max memory : 8116.0MiB\n",
      "[Runtime] Current date : 2022.03.05 14:37:25\n",
      "[Progress] at 0.000 : Elaborate components\n"
     ]
    },
    {
     "name": "stderr",
     "output_type": "stream",
     "text": [
      "[Thread-0] WARN net.openhft.affinity.Affinity - Windows JNA-based affinity not usable because it failed to load! Reason: java.lang.NoClassDefFoundError: Could not initialize class com.sun.jna.Native\n",
      "\tat net.openhft.affinity.impl.WindowsJNAAffinity$CLibrary.<clinit>(WindowsJNAAffinity.java:140)\n",
      "\tat net.openhft.affinity.impl.WindowsJNAAffinity.getAffinity(WindowsJNAAffinity.java:61)\n",
      "\tat net.openhft.affinity.impl.WindowsJNAAffinity.<clinit>(WindowsJNAAffinity.java:49)\n",
      "\tat net.openhft.affinity.Affinity.isWindowsJNAAffinityUsable(Affinity.java:87)\n",
      "\tat net.openhft.affinity.Affinity.<clinit>(Affinity.java:45)\n",
      "\tat spinal.sim.JvmThread.run(SimManager.scala:46)\n",
      "\n",
      "[Thread-0] INFO net.openhft.affinity.Affinity - Using dummy affinity control implementation\n"
     ]
    },
    {
     "name": "stdout",
     "output_type": "stream",
     "text": [
      "[Progress] at 0.109 : Checks and transforms\n",
      "\n",
      "**********************************************************************************************\n",
      "[Warning] Elaboration failed (2 errors).\n",
      "          Spinal will restart with scala trace to help you to find the problem.\n",
      "**********************************************************************************************\n",
      "\n",
      "[Progress] at 0.142 : Elaborate components\n",
      "[Progress] at 0.144 : Checks and transforms\n"
     ]
    },
    {
     "ename": "",
     "evalue": "",
     "output_type": "error",
     "traceback": [
      "\u001b[31mspinal.core.SpinalExit: \n\n\n Error detected in phase PhaseCheckCombinationalLoops\n********************************************************************************\n********************************************************************************\n\nCOMBINATORIAL LOOP :\n  Partial chain :\n    >>> (toplevel/a :  UInt[8 bits]) at ammonite.$sess.cmd1$Helper$TopLevel.<init>(cmd1.sc:2) >>>\n    >>> (toplevel/a :  UInt[8 bits]) at ammonite.$sess.cmd1$Helper$TopLevel.<init>(cmd1.sc:2) >>>\n\n  Full chain :\n    (toplevel/a :  UInt[8 bits])\n    UInt(Int)\n    (toplevel/a :  UInt[8 bits])\n********************************************************************************\n********************************************************************************\n\nDesign's errors are listed above.\nSpinalHDL compiler exit stack : \n\u001b[39m\r\n  spinal.core.SpinalExit$.apply(\u001b[32mMisc.scala\u001b[39m:\u001b[32m425\u001b[39m)\r\n  spinal.core.SpinalError$.apply(\u001b[32mMisc.scala\u001b[39m:\u001b[32m480\u001b[39m)\r\n  spinal.core.internals.PhaseContext.checkPendingErrors(\u001b[32mPhase.scala\u001b[39m:\u001b[32m175\u001b[39m)\r\n  spinal.core.internals.PhaseContext.doPhase(\u001b[32mPhase.scala\u001b[39m:\u001b[32m191\u001b[39m)\r\n  spinal.core.internals.SpinalVerilogBoot$.$anonfun$singleShot$12(\u001b[32mPhase.scala\u001b[39m:\u001b[32m2581\u001b[39m)\r\n  spinal.core.internals.SpinalVerilogBoot$.$anonfun$singleShot$12$adapted(\u001b[32mPhase.scala\u001b[39m:\u001b[32m2579\u001b[39m)\r\n  scala.collection.mutable.ResizableArray.foreach(\u001b[32mResizableArray.scala\u001b[39m:\u001b[32m62\u001b[39m)\r\n  scala.collection.mutable.ResizableArray.foreach$(\u001b[32mResizableArray.scala\u001b[39m:\u001b[32m55\u001b[39m)\r\n  scala.collection.mutable.ArrayBuffer.foreach(\u001b[32mArrayBuffer.scala\u001b[39m:\u001b[32m49\u001b[39m)\r\n  spinal.core.internals.SpinalVerilogBoot$.$anonfun$singleShot$7(\u001b[32mPhase.scala\u001b[39m:\u001b[32m2579\u001b[39m)\r\n  spinal.core.ScopeProperty$.sandbox(\u001b[32mScopeProperty.scala\u001b[39m:\u001b[32m69\u001b[39m)\r\n  spinal.core.internals.SpinalVerilogBoot$.singleShot(\u001b[32mPhase.scala\u001b[39m:\u001b[32m2516\u001b[39m)\r\n  spinal.core.internals.SpinalVerilogBoot$.apply(\u001b[32mPhase.scala\u001b[39m:\u001b[32m2511\u001b[39m)\r\n  spinal.core.Spinal$.apply(\u001b[32mSpinal.scala\u001b[39m:\u001b[32m380\u001b[39m)\r\n  spinal.core.SpinalConfig.generate(\u001b[32mSpinal.scala\u001b[39m:\u001b[32m162\u001b[39m)\r\n  ammonite.$file.dummy.source.load$minusspinal$Helper.showRtl(\u001b[32mMain.sc\u001b[39m:\u001b[32m28\u001b[39m)\r\n  ammonite.$sess.cmd1$Helper.<init>(\u001b[32mcmd1.sc\u001b[39m:\u001b[32m6\u001b[39m)\r\n  ammonite.$sess.cmd1$.<init>(\u001b[32mcmd1.sc\u001b[39m:\u001b[32m7\u001b[39m)\r\n  ammonite.$sess.cmd1$.<clinit>(\u001b[32mcmd1.sc\u001b[39m:\u001b[32m-1\u001b[39m)"
     ]
    }
   ],
   "source": [
    "class TopLevel extends Component {\n",
    "  val a = UInt(8 bits)\n",
    "  a := 0\n",
    "  a(1) := a(0) //False positive because of this line\n",
    "}\n",
    "showRtl(new TopLevel)"
   ]
  },
  {
   "cell_type": "markdown",
   "metadata": {},
   "source": [
    "could be fixed by :"
   ]
  },
  {
   "cell_type": "code",
   "execution_count": 3,
   "metadata": {},
   "outputs": [
    {
     "name": "stdout",
     "output_type": "stream",
     "text": [
      "[Runtime] SpinalHDL v1.6.4    git head : 598c18959149eb18e5eee5b0aa3eef01ecaa41a1\n",
      "[Runtime] JVM max memory : 8116.0MiB\n",
      "[Runtime] Current date : 2022.03.05 14:37:38\n",
      "[Progress] at 13.539 : Elaborate components\n",
      "[Progress] at 13.549 : Checks and transforms\n",
      "[Progress] at 13.565 : Generate Verilog\n",
      "[Warning] 1 signals were pruned. You can call printPruned on the backend report to get more informations.\n",
      "[Done] at 13.627\n",
      "// Generator : SpinalHDL v1.6.4    git head : 598c18959149eb18e5eee5b0aa3eef01ecaa41a1\n",
      "// Component : TopLevel\n",
      "\n",
      "`timescale 1ns/1ps \n",
      "\n",
      "module TopLevel (\n",
      ");\n",
      "\n",
      "  reg        [7:0]    a;\n",
      "\n",
      "  always @(*) begin\n",
      "    a = 8'h0;\n",
      "    a[1] = a[0];\n",
      "  end\n",
      "\n",
      "\n",
      "endmodule\n",
      "\n"
     ]
    },
    {
     "data": {
      "text/plain": [
       "defined \u001b[32mclass\u001b[39m \u001b[36mTopLevel\u001b[39m"
      ]
     },
     "execution_count": 3,
     "metadata": {},
     "output_type": "execute_result"
    }
   ],
   "source": [
    "class TopLevel extends Component {\n",
    "  val a = UInt(8 bits).noCombLoopCheck\n",
    "  a := 0\n",
    "  a(1) := a(0)\n",
    "}\n",
    "showRtl(new TopLevel)"
   ]
  },
  {
   "cell_type": "markdown",
   "metadata": {},
   "source": [
    "It should also be said that assignments such as (a(1) := a(0)) can make some tools like Verilator unhappy. It may be better to use a Vec(Bool, 8) in this case"
   ]
  },
  {
   "cell_type": "markdown",
   "metadata": {},
   "source": [
    "## Hierarchy violation\n",
    "\n",
    "SpinalHDL will check that signals are never accessed outside of the current component’s scope.\n",
    "\n",
    "The following signals can be read inside a component:\n",
    "\n",
    "- All directionless signals defined in the current component\n",
    "\n",
    "- All in/out/inout signals of the current component\n",
    "\n",
    "- All in/out/inout signals of children components\n",
    "\n",
    "In addition, the following signals can be assigned to inside a component:\n",
    "\n",
    "- All directionless signals defined in the current component\n",
    "\n",
    "- All out/inout signals of the current component\n",
    "\n",
    "- All in/inout signals of children components\n",
    "\n",
    "If a `HIERARCHY VIOLATION`error appears, it means that one of the above rules was violated.\n",
    "\n",
    "The following code will throw error:"
   ]
  },
  {
   "cell_type": "code",
   "execution_count": 4,
   "metadata": {},
   "outputs": [
    {
     "name": "stdout",
     "output_type": "stream",
     "text": [
      "[Runtime] SpinalHDL v1.6.4    git head : 598c18959149eb18e5eee5b0aa3eef01ecaa41a1\n",
      "[Runtime] JVM max memory : 8116.0MiB\n",
      "[Runtime] Current date : 2022.03.05 14:39:32\n",
      "[Progress] at 127.431 : Elaborate components\n",
      "[Progress] at 127.439 : Checks and transforms\n",
      "\n",
      "**********************************************************************************************\n",
      "[Warning] Elaboration failed (3 errors).\n",
      "          Spinal will restart with scala trace to help you to find the problem.\n",
      "**********************************************************************************************\n",
      "\n",
      "[Progress] at 127.445 : Elaborate components\n",
      "[Progress] at 127.448 : Checks and transforms\n"
     ]
    },
    {
     "ename": "",
     "evalue": "",
     "output_type": "error",
     "traceback": [
      "\u001b[31mspinal.core.SpinalExit: \n\n\n Error detected in phase PhaseCheckHiearchy\n********************************************************************************\n********************************************************************************\n\nHIERARCHY VIOLATION : (toplevel/io_a : in UInt[8 bits]) is driven by (toplevel/tmp :  UInt[8 bits]), but isn't accessible in the toplevel component.\n    ammonite.$sess.cmd3$Helper$TopLevel.<init>(cmd3.sc:6)\n    ammonite.$sess.cmd3$Helper.$anonfun$res3_1$1(cmd3.sc:8)\n    spinal.sim.JvmThread.run(SimManager.scala:51)\n\n\n********************************************************************************\n********************************************************************************\n\nDesign's errors are listed above.\nSpinalHDL compiler exit stack : \n\u001b[39m\r\n  spinal.core.SpinalExit$.apply(\u001b[32mMisc.scala\u001b[39m:\u001b[32m425\u001b[39m)\r\n  spinal.core.SpinalError$.apply(\u001b[32mMisc.scala\u001b[39m:\u001b[32m480\u001b[39m)\r\n  spinal.core.internals.PhaseContext.checkPendingErrors(\u001b[32mPhase.scala\u001b[39m:\u001b[32m175\u001b[39m)\r\n  spinal.core.internals.PhaseContext.doPhase(\u001b[32mPhase.scala\u001b[39m:\u001b[32m191\u001b[39m)\r\n  spinal.core.internals.SpinalVerilogBoot$.$anonfun$singleShot$12(\u001b[32mPhase.scala\u001b[39m:\u001b[32m2581\u001b[39m)\r\n  spinal.core.internals.SpinalVerilogBoot$.$anonfun$singleShot$12$adapted(\u001b[32mPhase.scala\u001b[39m:\u001b[32m2579\u001b[39m)\r\n  scala.collection.mutable.ResizableArray.foreach(\u001b[32mResizableArray.scala\u001b[39m:\u001b[32m62\u001b[39m)\r\n  scala.collection.mutable.ResizableArray.foreach$(\u001b[32mResizableArray.scala\u001b[39m:\u001b[32m55\u001b[39m)\r\n  scala.collection.mutable.ArrayBuffer.foreach(\u001b[32mArrayBuffer.scala\u001b[39m:\u001b[32m49\u001b[39m)\r\n  spinal.core.internals.SpinalVerilogBoot$.$anonfun$singleShot$7(\u001b[32mPhase.scala\u001b[39m:\u001b[32m2579\u001b[39m)\r\n  spinal.core.ScopeProperty$.sandbox(\u001b[32mScopeProperty.scala\u001b[39m:\u001b[32m69\u001b[39m)\r\n  spinal.core.internals.SpinalVerilogBoot$.singleShot(\u001b[32mPhase.scala\u001b[39m:\u001b[32m2516\u001b[39m)\r\n  spinal.core.internals.SpinalVerilogBoot$.apply(\u001b[32mPhase.scala\u001b[39m:\u001b[32m2511\u001b[39m)\r\n  spinal.core.Spinal$.apply(\u001b[32mSpinal.scala\u001b[39m:\u001b[32m380\u001b[39m)\r\n  spinal.core.SpinalConfig.generate(\u001b[32mSpinal.scala\u001b[39m:\u001b[32m162\u001b[39m)\r\n  ammonite.$file.dummy.source.load$minusspinal$Helper.showRtl(\u001b[32mMain.sc\u001b[39m:\u001b[32m28\u001b[39m)\r\n  ammonite.$sess.cmd3$Helper.<init>(\u001b[32mcmd3.sc\u001b[39m:\u001b[32m8\u001b[39m)\r\n  ammonite.$sess.cmd3$.<init>(\u001b[32mcmd3.sc\u001b[39m:\u001b[32m7\u001b[39m)\r\n  ammonite.$sess.cmd3$.<clinit>(\u001b[32mcmd3.sc\u001b[39m:\u001b[32m-1\u001b[39m)"
     ]
    }
   ],
   "source": [
    "class TopLevel extends Component {\n",
    "  val io = new Bundle {\n",
    "    val a = in UInt(8 bits)\n",
    "  }\n",
    "  val tmp = U\"x42\"\n",
    "  io.a := tmp\n",
    "}\n",
    "showRtl(new TopLevel)"
   ]
  },
  {
   "cell_type": "markdown",
   "metadata": {},
   "source": [
    "A fix could be :"
   ]
  },
  {
   "cell_type": "code",
   "execution_count": null,
   "metadata": {},
   "outputs": [],
   "source": [
    "class TopLevel extends Component {\n",
    "  val io = new Bundle {\n",
    "    val a = out UInt(8 bits) // changed from in to out\n",
    "  }\n",
    "  val tmp = U\"x42\"\n",
    "  io.a := tmp\n",
    "}\n",
    "showRtl(new TopLevel)"
   ]
  },
  {
   "cell_type": "markdown",
   "metadata": {},
   "source": [
    "## Io bundle\n",
    "SpinalHDL will check that each io bundle contains only in/out/inout signals."
   ]
  },
  {
   "cell_type": "code",
   "execution_count": 6,
   "metadata": {},
   "outputs": [
    {
     "name": "stdout",
     "output_type": "stream",
     "text": [
      "[Runtime] SpinalHDL v1.6.4    git head : 598c18959149eb18e5eee5b0aa3eef01ecaa41a1\n",
      "[Runtime] JVM max memory : 8116.0MiB\n",
      "[Runtime] Current date : 2022.03.05 14:40:01\n",
      "[Progress] at 156.111 : Elaborate components\n",
      "[Progress] at 156.116 : Checks and transforms\n",
      "\n",
      "**********************************************************************************************\n",
      "[Warning] Elaboration failed (3 errors).\n",
      "          Spinal will restart with scala trace to help you to find the problem.\n",
      "**********************************************************************************************\n",
      "\n",
      "[Progress] at 156.117 : Elaborate components\n",
      "[Progress] at 156.119 : Checks and transforms\n"
     ]
    },
    {
     "ename": "",
     "evalue": "",
     "output_type": "error",
     "traceback": [
      "\u001b[31mspinal.core.SpinalExit: \n\n\n Error detected in phase PhaseCheckIoBundle\n********************************************************************************\n********************************************************************************\n\nIO BUNDLE ERROR : A direction less (toplevel/io_a :  UInt[8 bits]) signal was defined into toplevel component's io bundle\n    ammonite.$sess.cmd5$Helper$TopLevel$$anon$1.<init>(cmd5.sc:3)\n    ammonite.$sess.cmd5$Helper$TopLevel.<init>(cmd5.sc:2)\n    ammonite.$sess.cmd5$Helper.$anonfun$res5_1$1(cmd5.sc:6)\n    spinal.sim.JvmThread.run(SimManager.scala:51)\n\n\n********************************************************************************\n********************************************************************************\n\nDesign's errors are listed above.\nSpinalHDL compiler exit stack : \n\u001b[39m\r\n  spinal.core.SpinalExit$.apply(\u001b[32mMisc.scala\u001b[39m:\u001b[32m425\u001b[39m)\r\n  spinal.core.SpinalError$.apply(\u001b[32mMisc.scala\u001b[39m:\u001b[32m480\u001b[39m)\r\n  spinal.core.internals.PhaseContext.checkPendingErrors(\u001b[32mPhase.scala\u001b[39m:\u001b[32m175\u001b[39m)\r\n  spinal.core.internals.PhaseContext.doPhase(\u001b[32mPhase.scala\u001b[39m:\u001b[32m191\u001b[39m)\r\n  spinal.core.internals.SpinalVerilogBoot$.$anonfun$singleShot$12(\u001b[32mPhase.scala\u001b[39m:\u001b[32m2581\u001b[39m)\r\n  spinal.core.internals.SpinalVerilogBoot$.$anonfun$singleShot$12$adapted(\u001b[32mPhase.scala\u001b[39m:\u001b[32m2579\u001b[39m)\r\n  scala.collection.mutable.ResizableArray.foreach(\u001b[32mResizableArray.scala\u001b[39m:\u001b[32m62\u001b[39m)\r\n  scala.collection.mutable.ResizableArray.foreach$(\u001b[32mResizableArray.scala\u001b[39m:\u001b[32m55\u001b[39m)\r\n  scala.collection.mutable.ArrayBuffer.foreach(\u001b[32mArrayBuffer.scala\u001b[39m:\u001b[32m49\u001b[39m)\r\n  spinal.core.internals.SpinalVerilogBoot$.$anonfun$singleShot$7(\u001b[32mPhase.scala\u001b[39m:\u001b[32m2579\u001b[39m)\r\n  spinal.core.ScopeProperty$.sandbox(\u001b[32mScopeProperty.scala\u001b[39m:\u001b[32m69\u001b[39m)\r\n  spinal.core.internals.SpinalVerilogBoot$.singleShot(\u001b[32mPhase.scala\u001b[39m:\u001b[32m2516\u001b[39m)\r\n  spinal.core.internals.SpinalVerilogBoot$.apply(\u001b[32mPhase.scala\u001b[39m:\u001b[32m2511\u001b[39m)\r\n  spinal.core.Spinal$.apply(\u001b[32mSpinal.scala\u001b[39m:\u001b[32m380\u001b[39m)\r\n  spinal.core.SpinalConfig.generate(\u001b[32mSpinal.scala\u001b[39m:\u001b[32m162\u001b[39m)\r\n  ammonite.$file.dummy.source.load$minusspinal$Helper.showRtl(\u001b[32mMain.sc\u001b[39m:\u001b[32m28\u001b[39m)\r\n  ammonite.$sess.cmd5$Helper.<init>(\u001b[32mcmd5.sc\u001b[39m:\u001b[32m6\u001b[39m)\r\n  ammonite.$sess.cmd5$.<init>(\u001b[32mcmd5.sc\u001b[39m:\u001b[32m7\u001b[39m)\r\n  ammonite.$sess.cmd5$.<clinit>(\u001b[32mcmd5.sc\u001b[39m:\u001b[32m-1\u001b[39m)"
     ]
    }
   ],
   "source": [
    "class TopLevel extends Component {\n",
    "  val io = new Bundle {\n",
    "    val a = UInt(8 bits)\n",
    "  }\n",
    "}\n",
    "showRtl(new TopLevel)"
   ]
  },
  {
   "cell_type": "code",
   "execution_count": null,
   "metadata": {},
   "outputs": [],
   "source": []
  }
 ],
 "metadata": {
  "kernelspec": {
   "display_name": "Scala",
   "language": "scala",
   "name": "scala"
  },
  "language_info": {
   "codemirror_mode": "text/x-scala",
   "file_extension": ".scala",
   "mimetype": "text/x-scala",
   "name": "scala",
   "nbconvert_exporter": "script",
   "version": "2.12.8"
  },
  "toc": {
   "base_numbering": 1,
   "nav_menu": {},
   "number_sections": true,
   "sideBar": true,
   "skip_h1_title": false,
   "title_cell": "Table of Contents",
   "title_sidebar": "Contents",
   "toc_cell": false,
   "toc_position": {},
   "toc_section_display": true,
   "toc_window_display": false
  }
 },
 "nbformat": 4,
 "nbformat_minor": 2
}
